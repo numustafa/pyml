{
 "cells": [
  {
   "cell_type": "markdown",
   "metadata": {},
   "source": [
    "# Data Structures & Algorithms \n",
    "Crash Course by teamtreehouse. Accessed on Youtube freecodecamp channel"
   ]
  },
  {
   "cell_type": "markdown",
   "metadata": {},
   "source": [
    "\n",
    "## Algorithm\n",
    "Set of instruction to achieve results (e.g; cooking reciepe, maps for destinations, etc) or in CS, a set of steps a prog takes to finish a task.\n",
    "\n",
    "There are numerous problems in CS, and some of them are pretty common..regardless of what project u r working on. There are many solutions to these common problems, however, overtime CS field specify those that do the job well and are robust.\n",
    "\n",
    "When talking about alog:\n",
    "* There exist established body of knowlegge on how to solve a particular problem well. Imp to know the existing solutions\n",
    "* Part of understanding algo is not just knowing algo exists, but when to apply them is a key point. \n",
    "\n",
    "### Algorithmic thinking\n",
    "part of learning DS & algo, is to learn to break a given problem into sets of steps, and to know what the inputs are. Once its broken into parts, now u should be able to identify which algo or DS is best for the task at hand\n",
    "\n",
    "In contrast we jump into a problem and solving it as we go along... an algo follows a certain set of guidence or guidelines & use the same steps over and over again to solve same problem each time. An imp first step in defining algo, is not the algo itself...instead defining the problem we are trying to solve. <br>\n",
    "First guideline... An algo must have a clear problem statemenbt.. b/c its hard to define an instruction set when u have no clearity on what problem u r solving.. <br>\n",
    "In definig a problem, we need to specify how the input is defined & what should be the output. Once we define a problem, algo is a set (in particular order) of steps (that are distinct, to avoid sub-steps)..that solves this problem (it should produce a result), in a given time (finite time)!\n",
    "\n",
    "\n",
    "* Clearly defined problem set, with inputs & outputs defined\n",
    "* Steps should be in a particular order\n",
    "* Steps should be distinct\n",
    "* Algo should produce a result\n",
    "* Algo should complete in finite time!\n",
    "\n",
    "\n",
    "Also, consistint results for the same sets of values (input) is how we know the Algo is correct!"
   ]
  },
  {
   "cell_type": "markdown",
   "metadata": {},
   "source": [
    "### Search Algos\n",
    "#### Linear Search (OR sequential search):\n",
    "We start at the begning of the range and compare the target value to each value (doesnt matter if the values are sorted or not). If the target value matches the current value, we r done.. else we movwe on sequentially in the list...and repeat the same step <br>\n",
    "in Linear search: \n",
    "* input is a range of nos or series of values... \n",
    "* output is the match we are looking for\n",
    "\n",
    "#### Binary Search:\n",
    "We always start at the middle of the range (sorted values are imp), eliminate the rest based of conditional outcome.\n",
    "* input: Sorted List of values\n",
    "* output: position of the target value or some value indicating target isnt in the list."
   ]
  },
  {
   "cell_type": "markdown",
   "metadata": {},
   "source": [
    "### Evaluate The Algo Efficiency\n",
    "\n",
    "#### Correctness (for Algo needs to be efficient, if should be correct first)\n",
    "B4 Algo, we define a proble with its inputs & outputs. An algo is \"correct\" if on all possible values of input data, we always get the output we expect. Part of correctness, the algo should be terminated or ends for every possible inputs. If any of the condition arent met, the algo is \"Incorrect\". <br>\n",
    "in textbook, Algoi correctness is proved by Mathematical Induction which is a form of reasoning that the statement is correct. Induction proofs are essential for designing algo, however, this is outside the scope of this basic course, b/c we focus on how and when to use certain algos.... assuming they are by default correct.\n",
    "\n",
    "#### Efficiency\n",
    "Efficiency is imp, b/c it slove problems faster & deliver faster and better User experience in variety of fields. Measure of efficiency:\n",
    "* Time - Time complexiety is a measure of how long it takes the algo to run, to get an output. less time more efficient\n",
    "* Space - Space Complexiety is a measure of how much memory an algo take on a computer to run.\n",
    "\n",
    "Good Algo need to balance b/w the 2. Both time & space complexieties being measured using same metric.\n",
    "To check efficiency, we always includes the worst case scenario\n"
   ]
  },
  {
   "cell_type": "markdown",
   "metadata": {},
   "source": [
    "### Efficiency of Binary Search:\n",
    "When measuring efficiency, we use worst case scenario. It is imp to understand that complexiety is relative. When looking at the complexiety of Binary search algo, we r doing it relative to other search algo, not all algo.    <br>\n",
    "#### Big O\n",
    "A theoritical definition of the complexiety of an algo as a function of the size. Notation used to describe complexiety O(n). Big O is imp to understand the space & Time complexiety but only when comparing amongst algos that solve the same problem. Big O is a function of size, or the measure of complexiety as the input-size grows, b/c it is imp to know how the algo performs on all datasets instead of just a single dataset.\n",
    "* Linear search: Time complexiety of O(n) - O(1) constant time operation b/c it doesnt matter on the input size.\n",
    "* Binary search: Time complexiety of O(logn) - sublinear run-time\n",
    "\n",
    "Quadratic runtime: O(n^2)  - for every value of \"n\" we are going to execute \"n\" no of operations<br>\n",
    "Cubic runtime:     O(n^3) <br>\n",
    "Polynomial runtime are considered efficient O(n^k) <br>\n",
    "Quasi-linear runtime: O(n logn) - for every value of \"n\" we are going to execute \"log n\" no of operations. Hence the runtime is Quasi-linear. The Quasi-Linear run time lies b/w quadratic run time & linear run-time (use case of Merge-sort algo)<br>\n",
    "\n",
    "worst case: Time complexiety of a Binary search algo is O(log n)\n"
   ]
  },
  {
   "cell_type": "code",
   "execution_count": 1,
   "metadata": {},
   "outputs": [
    {
     "name": "stdout",
     "output_type": "stream",
     "text": [
      "Target not found in list\n"
     ]
    }
   ],
   "source": [
    "# Linear Search Algo\n",
    "# our goal is to find the position of target in the list\n",
    "def linear_search(lst, target):\n",
    "    \"\"\" \n",
    "    Returns the  index position of the target if found, else return None\n",
    "    \"\"\" \n",
    "    for i in range(0, len(lst)):\n",
    "        if lst[i] == target:\n",
    "            return i\n",
    "    return None\n",
    "\n",
    "# Verification test\n",
    "def verify(index):\n",
    "    if index is not None:\n",
    "        print(\"Target found at index:\", index)\n",
    "    else:\n",
    "        print(\"Target not found in list\")\n",
    "\n",
    "numbers = [1, 2, 3, 4, 5, 6, 7, 8, 9, 10]\n",
    "\n",
    "# can use our linear search function to search for the target value in the numbers list\n",
    "result = linear_search(numbers, 12)\n",
    "verify(result)\n",
    "\n",
    "\n",
    "       \n"
   ]
  },
  {
   "cell_type": "code",
   "execution_count": 2,
   "metadata": {},
   "outputs": [
    {
     "name": "stdout",
     "output_type": "stream",
     "text": [
      "Target found at index: 5\n"
     ]
    }
   ],
   "source": [
    "result = linear_search(numbers, 6)\n",
    "verify(result)"
   ]
  },
  {
   "cell_type": "code",
   "execution_count": 3,
   "metadata": {},
   "outputs": [
    {
     "name": "stdout",
     "output_type": "stream",
     "text": [
      "Target not found in list\n"
     ]
    }
   ],
   "source": [
    "# Binary Search Algo\n",
    "def binary_search(list, target):   # centeral idea of midpoint lies in the necessary sorted list\n",
    "    first  = 0                     # to point the first index\n",
    "    last = len(list)-1             # last position of the list\n",
    "    while first <= last:           # while loop: keep executing the loop until value at first index <= value at last index\n",
    "        midpt = (first + last)//2  # Binary works wioth mid index, floor dividion b/c it nearest upto closest integer\n",
    "        if list[midpt] == target:\n",
    "            return midpt\n",
    "        elif list[midpt] < target:\n",
    "            first = midpt+1\n",
    "        elif list[midpt] > target:\n",
    "            last = midpt-1\n",
    "    return None\n",
    "\n",
    "# Everything runs here in constant, however, the while loop cause the time complexiety to be logarithmic\n",
    "numbers = [1, 2, 3, 4, 5, 6, 7, 8, 9, 10]\n",
    "\n",
    "# can use our linear search function to search for the target value in the numbers list\n",
    "result = binary_search(numbers, 12)\n",
    "verify(result)\n",
    "\n",
    "\n",
    "\n",
    "\n"
   ]
  },
  {
   "cell_type": "code",
   "execution_count": 4,
   "metadata": {},
   "outputs": [
    {
     "name": "stdout",
     "output_type": "stream",
     "text": [
      "Target found at index: 5\n"
     ]
    }
   ],
   "source": [
    "result = binary_search(numbers, 6)\n",
    "verify(result)"
   ]
  },
  {
   "cell_type": "code",
   "execution_count": 7,
   "metadata": {},
   "outputs": [
    {
     "name": "stdout",
     "output_type": "stream",
     "text": [
      "Target found:  False\n",
      "Target found:  True\n"
     ]
    }
   ],
   "source": [
    "# recursive binary search (This instead of index value, unlike previous algos, it returns the value at that index. else none)\n",
    "def rec_bin_search(list, target):\n",
    "    if len(list) == 0:            #first base case for stopping condition\n",
    "        return False\n",
    "    else:\n",
    "        midpt = (len(list))//2\n",
    "\n",
    "        if list[midpt] == target:   \n",
    "            return True\n",
    "        else:\n",
    "            if list[midpt] < target:             \n",
    "                return rec_bin_search(list[midpt+1:], target)   # the sub-list of original list\n",
    "            else:\n",
    "                return rec_bin_search(list[:midpt], target)     # again the sub-list\n",
    "# The idea od recursive is, it has to find the answer (No none)\n",
    "def verify(result):\n",
    "    print(\"Target found: \", result)\n",
    "\n",
    "num = [1,2,3,4,8,9,65]\n",
    "result = rec_bin_search(num,901)      # outside the scope oof list\n",
    "\n",
    "verify(result)\n",
    "result = rec_bin_search(num,9)      # inside the list\n",
    "verify(result)\n"
   ]
  },
  {
   "cell_type": "markdown",
   "metadata": {},
   "source": [
    "What's the diff b/w binary_search & rec_bin_search? <br>\n",
    "* Recursive algo: calls itself (inside the function body - with stopping conditions) and make new sublist from the original list. no of times, functiuon calls itself is known as recurssive depth. Python is more confident with iterative solution insteead of recursive solution (b/c recursive depth is low - Functional programming)\n",
    "* Binary algo: calls the elements and avoid the rest"
   ]
  },
  {
   "cell_type": "markdown",
   "metadata": {},
   "source": [
    "##### Space Complexiety\n",
    "* recursive function of Binary search takes a lograthmic path. O(log n)"
   ]
  },
  {
   "cell_type": "markdown",
   "metadata": {},
   "source": [
    "---"
   ]
  },
  {
   "cell_type": "markdown",
   "metadata": {},
   "source": [
    "## Data Structures\n",
    "\n",
    "Data Structure is a way of storing data throgh programing. It is:\n",
    "* Collection of values & the format they are stored in,\n",
    "* The relationship b/w values in the collection,\n",
    "* Operation applied on the stored data, in the structure\n",
    "\n",
    "\n",
    "The Data Structure follows the topics listed below:\n",
    "* Arrays (how array work, what are the operation of arrays & what the the runtime associated with the operations)\n",
    "* Linked-list (more ways to sort data)\n",
    "* what is the motivation for having more data structures?\n",
    "* pros & cons of structures (on the basis of accessing value, searching values, inserting & deleting value)\n",
    "* Implement sorting algo \n",
    "\n",
    "We then apply sorting algo on different data structures & how they are different to eachother. Also, how the choice of datastructure potentially affects the run time of different algos. <br>\n",
    "Apart from recursion, we will use another techenique known as \"divide & conquer\"\n",
    "\n",
    "\n"
   ]
  },
  {
   "cell_type": "markdown",
   "metadata": {},
   "source": [
    "### Array\n",
    "Common & fundemental datastructure in any programming language, represents a collectiuon of values (in python; more similar to List - hetrogenous structures). In Python array can store any type of data, however, the array type in Python is different than our discussion. Array can be referenced through index (starts at 0). At min (all types) array Data Structure carry out 4 imp operation (CRUD):\n",
    "* Create\n",
    "* Read     (we use index in python to read or access the values in the array)\n",
    "* Update\n",
    "* Delete\n",
    "\n",
    "\n",
    "\n",
    "\n",
    "\n"
   ]
  },
  {
   "cell_type": "code",
   "execution_count": 2,
   "metadata": {},
   "outputs": [
    {
     "data": {
      "text/plain": [
       "1"
      ]
     },
     "execution_count": 2,
     "metadata": {},
     "output_type": "execute_result"
    }
   ],
   "source": [
    "new_list = [1,2,3]  # Array\n",
    "result = new_list[0]  # Reading via index-reference the first element of array\n",
    "result\n"
   ]
  },
  {
   "cell_type": "code",
   "execution_count": 3,
   "metadata": {},
   "outputs": [
    {
     "name": "stdout",
     "output_type": "stream",
     "text": [
      "True\n"
     ]
    }
   ],
   "source": [
    "# Linear search in array\n",
    "if 1 in new_list:        # \"in\" operator is know as contain method, that defines that is defined on the list.... \n",
    "    print(True)          # ...Data Structure & runs a Linear search algo"
   ]
  },
  {
   "cell_type": "code",
   "execution_count": 5,
   "metadata": {},
   "outputs": [
    {
     "name": "stdout",
     "output_type": "stream",
     "text": [
      "True\n"
     ]
    }
   ],
   "source": [
    "# we can define the for-loop that iterate over the list manually & perform a comparision operation\n",
    "for i in new_list:\n",
    "    if i == 1:\n",
    "        print(True)\n",
    "        break\n",
    "    \n",
    "# This is more or less implementation of linear search.. Had the array was sorted, we could have apply Binary search\n",
    "# Since \"sort\" operation incur a cost, and the list is so small... Linear search is faster."
   ]
  },
  {
   "cell_type": "markdown",
   "metadata": {},
   "source": [
    "Creating & Deleting values in an array is important. In general most arrays implementations, supports 3 types of insert operation:\n",
    "* Insert: True insert using index value, we can insert element anywhere in the list. This operation has a Linear runtime. Once inserted in a desired index, next elements shifts forward to one index position. Worst case scenario; inserting at index 0. Every element as a result has to shift forward by 1 index, and this iteration through every single value is a Linear run time.\n",
    "* Appending: Its an insert function, however doesnt incur the linear runtime cost as it adds the new elements at the end of the list. Constant time operation\n",
    "* extend: updated append operation & has a runtime of O(k), where k is no of elements in the new list added to existing list.\n",
    "\n",
    "\n",
    "Delete operation leads to lower the elements in the list. Therefore, as delete occure the list needs to maintain the correct index values. As insert shifts every element to the richt, delete shifts every element to the left. Thus Linear runtime O(n)."
   ]
  },
  {
   "cell_type": "code",
   "execution_count": 22,
   "metadata": {},
   "outputs": [
    {
     "data": {
      "text/plain": [
       "0"
      ]
     },
     "execution_count": 22,
     "metadata": {},
     "output_type": "execute_result"
    }
   ],
   "source": [
    "# \n",
    "num = []  # empty list with size n+1. Since n =0, sapce is allocated for min 1 element to start-off.\n",
    "len(num)  # B/c space allocated by the list & space actually used by the list are diff, this shows \n",
    "#           list doesnt use the memory allocation as an indicator of its size\n",
    "\n"
   ]
  },
  {
   "cell_type": "code",
   "execution_count": 23,
   "metadata": {},
   "outputs": [
    {
     "data": {
      "text/plain": [
       "1"
      ]
     },
     "execution_count": 23,
     "metadata": {},
     "output_type": "execute_result"
    }
   ],
   "source": [
    "num.append(2) # now allocated space & actual space becomes equal, as we insert the first element (at the end of the) in List\n",
    "\n",
    "len(num)"
   ]
  },
  {
   "cell_type": "code",
   "execution_count": 25,
   "metadata": {},
   "outputs": [
    {
     "data": {
      "text/plain": [
       "4"
      ]
     },
     "execution_count": 25,
     "metadata": {},
     "output_type": "execute_result"
    }
   ],
   "source": [
    "num.extend([5,9,3]) # pass a new list into existing list. Basically is makes an append call for each element in the new list.\n",
    "len(num)\n"
   ]
  },
  {
   "cell_type": "code",
   "execution_count": 26,
   "metadata": {},
   "outputs": [
    {
     "data": {
      "text/plain": [
       "[2, 5, 9, 3]"
      ]
     },
     "execution_count": 26,
     "metadata": {},
     "output_type": "execute_result"
    }
   ],
   "source": [
    "num"
   ]
  },
  {
   "cell_type": "code",
   "execution_count": 27,
   "metadata": {},
   "outputs": [
    {
     "data": {
      "text/plain": [
       "[2, 9, 3]"
      ]
     },
     "execution_count": 27,
     "metadata": {},
     "output_type": "execute_result"
    }
   ],
   "source": [
    "num.remove(5)\n",
    "num"
   ]
  },
  {
   "cell_type": "markdown",
   "metadata": {},
   "source": [
    "#### Linked List\n",
    "Q - Y do we need to build data structures instead of using the python built-in structures? <br>\n",
    "A - Each Data Structure solves a particular problem. We know arrays are particularly good at accessing, reading values in constant time, however, they are bad at inserting & deleting, as bothj of them run in Linear time. Linked list are some what better than array, with its own problems. In case of sloving a problem which involve many inserts & delete operation, a Linked list can be a better tool than array.\n",
    "\n",
    "Q - What is a Linked List? <br>\n",
    "A - A Linked List is a Linear Data Structure, where each element in the list contained in a saperate object, called \"node\". A \"node\" models 2 pieces of info:\n",
    "* Individual element \n",
    "* reference to the next node in the list. \n",
    "\n",
    "The first node in the linked-list is \"Head Node\" & last is \"Tail Node\". The linked-list only maintains ref to the head, but in some cases tail as well. Every node except Tails, points to the next node in the linked-list. \n",
    "\n",
    "Nodes are also known as \"Self Referential Objects\". By def, each node linked to other node. There are 2 types of linked-list:\n",
    "* Singly linked-list: where each node store the ref to the next node in the list\n",
    "* Doubly linked-list: where each node store the ref to the node b4 & after (both)\n",
    "\n"
   ]
  },
  {
   "cell_type": "code",
   "execution_count": 32,
   "metadata": {},
   "outputs": [],
   "source": [
    "# Singly linked-list\n",
    "class Node:\n",
    "    \"\"\"\n",
    "    An object for storing a single node of a linked-list.\n",
    "    Models 2 Attributes - Data & the link to next node in the list\n",
    "    \"\"\"\n",
    "    data = None\n",
    "    next_node = None\n",
    "\n",
    "    def __init__(self, data):   # constructor\n",
    "        self.data = data\n",
    "    \n",
    "    def __repr__(self):\n",
    "        return \"<Node data: %s>\" %self.data    # %s =  python way of substituting sth in the string, & we replace it with self.data \n"
   ]
  },
  {
   "cell_type": "code",
   "execution_count": 34,
   "metadata": {},
   "outputs": [
    {
     "data": {
      "text/plain": [
       "<Node data: 10>"
      ]
     },
     "execution_count": 34,
     "metadata": {},
     "output_type": "execute_result"
    }
   ],
   "source": [
    "N1 = Node(10)\n",
    "N1            # not a suitable presentation, now add reper to node\n",
    "\n",
    "# Now after adding __repr__, it is reasonable"
   ]
  },
  {
   "cell_type": "code",
   "execution_count": 35,
   "metadata": {},
   "outputs": [
    {
     "data": {
      "text/plain": [
       "<Node data: 20>"
      ]
     },
     "execution_count": 35,
     "metadata": {},
     "output_type": "execute_result"
    }
   ],
   "source": [
    "N2 = Node(20)         # we add another node \n",
    "N1.next_node = N2     # connect the first node with the new node\n",
    "N1.next_node          # N1 now points to N2\n",
    "\n",
    "# Nodes are the building blocks for lists, now we have node objects.. we can create singly linked list\n",
    "\n"
   ]
  },
  {
   "cell_type": "code",
   "execution_count": 36,
   "metadata": {},
   "outputs": [],
   "source": [
    "# The Linked-list class going to define the head & this attribute models the only node that the list is going to have a reference to\n",
    "class linkedList:\n",
    "    \"\"\"\n",
    "    Singly linked list\n",
    "    \"\"\"\n",
    "    def __init__(self):\n",
    "        self.head = None  # This head attribute models the only node that the list will have a ref to\n",
    "\n",
    "# Since every node points to the next node, in order to find a particular node we can go from one node to the next\n",
    "# in a process known as \"List Traversal\".\n",
    "# The class constructed here set the default head value to none ==>> New list created are always empty.\n",
    "\n",
    "    def is_empty(self):\n",
    "        return self.head == None  # here we are checking if the head is none.. if condition is True, it returns None ==>> list is empty\n",
    "\n",
    "# Now adding one \"Convienience Method\" to measure the size of our list. This doesnt provide any additional functionality,\n",
    "# instead, making existing functionality easier to use. We can calculate the size of our linked list by treversing it eachtime\n",
    "# with a loop until it hit a tail node. However, it is a hassel in itself. Therefore we define a \"size\" method\n",
    "# which runs on Linear time.\n",
    "\n",
    "    def size(self):\n",
    "        \"\"\"\n",
    "        Returns the no of nodes in the list\n",
    "        Takes O(n) Linear-Time\n",
    "        \"\"\"\n",
    "        current = self.head\n",
    "        count = 0\n",
    "\n",
    "        while current:\n",
    "            count +=1\n",
    "            current = current.next_node\n",
    "        return count\n"
   ]
  },
  {
   "cell_type": "code",
   "execution_count": 52,
   "metadata": {},
   "outputs": [
    {
     "data": {
      "text/plain": [
       "1"
      ]
     },
     "execution_count": 52,
     "metadata": {},
     "output_type": "execute_result"
    }
   ],
   "source": [
    "# check the code\n",
    "l = linkedList()\n",
    "N1 = Node(10)\n",
    "l.head = N1\n",
    "N1\n",
    "l.size()   # size of a linked list \"l\""
   ]
  },
  {
   "cell_type": "markdown",
   "metadata": {},
   "source": [
    "Now adding data to the linked-list:\n",
    "* add at the head, recent node becomes new head\n",
    "* add at the tail, recent node becomes new Tail\n",
    "\n",
    "This is no inserting, as at the head it is \"prepend\" & at the tail it is \"append\". A true insert is when u can add data anywhere in the list.\n",
    "\n",
    "\n",
    "\n"
   ]
  },
  {
   "cell_type": "code",
   "execution_count": 58,
   "metadata": {},
   "outputs": [],
   "source": [
    "class linkedList:\n",
    "    \"\"\"\n",
    "    Singly linked list\n",
    "    \"\"\"\n",
    "    def __init__(self):\n",
    "        self.head = None \n",
    "    \n",
    "    def is_empty(self):\n",
    "        return self.head == None\n",
    "    \n",
    "    def size(self):\n",
    "        \"\"\"\n",
    "        Returns the no of nodes in the list\n",
    "        Takes O(n) Linear-Time\n",
    "        \"\"\"\n",
    "        current = self.head\n",
    "        count = 0\n",
    "\n",
    "        while current:\n",
    "            count +=1\n",
    "            current = current.next_node\n",
    "        return count\n",
    "    \n",
    "# Adding some data to the list, inside of a node - prepend\n",
    "    \n",
    "    def add(self, data):\n",
    "        \"\"\"\n",
    "        Adds new node containig data at the head of the list\n",
    "        Takes O(1) time\n",
    "        \"\"\"\n",
    "        new_node = Node(data)\n",
    "        new_node.next_node = self.head\n",
    "        self.head = new_node\n",
    "    \n",
    "    def __repr__(self):\n",
    "        \"\"\"\n",
    "        Return a string representation of the list \n",
    "        Takes O(n) time\n",
    "        \"\"\"\n",
    "        nodes = []                          # creating an empty python list\n",
    "        current = self.head                 # head node from start\n",
    "\n",
    "        while current:\n",
    "            if current is self.head:\n",
    "                nodes.append(\"[Head: %s]\" % current.data)\n",
    "            elif current.next_node is None:\n",
    "                nodes.append(\"[Tail: %s]\" %current.data)\n",
    "            else:\n",
    "                nodes.append(\"[%s]\" % current.data)    \n",
    "            current = current.next_node\n",
    "        return \"-> \".join(nodes)                  \n",
    "\n",
    "    \n",
    "    "
   ]
  },
  {
   "cell_type": "code",
   "execution_count": 53,
   "metadata": {},
   "outputs": [
    {
     "data": {
      "text/plain": [
       "1"
      ]
     },
     "execution_count": 53,
     "metadata": {},
     "output_type": "execute_result"
    }
   ],
   "source": [
    "# Now we dont need to create a node to add data, as we did earlier\n",
    "l = linkedList()\n",
    "l.add(1)\n",
    "l.size()"
   ]
  },
  {
   "cell_type": "code",
   "execution_count": 54,
   "metadata": {},
   "outputs": [
    {
     "data": {
      "text/plain": [
       "3"
      ]
     },
     "execution_count": 54,
     "metadata": {},
     "output_type": "execute_result"
    }
   ],
   "source": [
    "l.add(2)\n",
    "l.add(3)\n",
    "l.size()"
   ]
  },
  {
   "cell_type": "code",
   "execution_count": 59,
   "metadata": {},
   "outputs": [
    {
     "data": {
      "text/plain": [
       "[Head: 3]-> [2]-> [Tail: 1]"
      ]
     },
     "execution_count": 59,
     "metadata": {},
     "output_type": "execute_result"
    }
   ],
   "source": [
    "l= linkedList()       # since, it isnt sth useful.. we can add no a __repr__ function to the linked list\n",
    "l.add(1)\n",
    "l.add(2)\n",
    "l.add(3)\n",
    "l "
   ]
  },
  {
   "cell_type": "code",
   "execution_count": 64,
   "metadata": {},
   "outputs": [],
   "source": [
    "# add the ability to search through the linked list. For search, we define a method that takes a value\n",
    "# to search for & returns the node that contains the value (in case if the value is found), else None.\n",
    "class linkedList:\n",
    "    \"\"\"\n",
    "    Singly linked list\n",
    "    \"\"\"\n",
    "    def __init__(self):\n",
    "        self.head = None \n",
    "    \n",
    "    def is_empty(self):\n",
    "        return self.head == None\n",
    "    \n",
    "    def size(self):\n",
    "        \"\"\"\n",
    "        Returns the no of nodes in the list\n",
    "        Takes O(n) Linear-Time\n",
    "        \"\"\"\n",
    "        current = self.head\n",
    "        count = 0\n",
    "\n",
    "        while current:\n",
    "            count +=1\n",
    "            current = current.next_node\n",
    "        return count\n",
    "    \n",
    "# Adding some data to the list, inside of a node - prepend\n",
    "    \n",
    "    def add(self, data):\n",
    "        \"\"\"\n",
    "        Adds new node containig data at the head of the list\n",
    "        Takes O(1) time\n",
    "        \"\"\"\n",
    "        new_node = Node(data)\n",
    "        new_node.next_node = self.head\n",
    "        self.head = new_node\n",
    "    \n",
    "    def search(self, key):\n",
    "        \"\"\"\n",
    "        Search for the first node containing data that matches the key\n",
    "        Return the node or None if not found\n",
    "        Takes O(n) time\n",
    "        \"\"\"\n",
    "        current = self.head\n",
    "\n",
    "        while current:\n",
    "            if current.data == key:\n",
    "                return current\n",
    "            else:\n",
    "                current = current.next_node\n",
    "        return None\n",
    "\n",
    "\n",
    "    def __repr__(self):\n",
    "        \"\"\"\n",
    "        Return a string representation of the list \n",
    "        Takes O(n) time\n",
    "        \"\"\"\n",
    "        nodes = []                          # creating an empty python list\n",
    "        current = self.head                 # head node from start\n",
    "\n",
    "        while current:\n",
    "            if current is self.head:\n",
    "                nodes.append(\"[Head: %s]\" % current.data)\n",
    "            elif current.next_node is None:\n",
    "                nodes.append(\"[Tail: %s]\" %current.data)\n",
    "            else:\n",
    "                nodes.append(\"[%s]\" % current.data)    \n",
    "            current = current.next_node\n",
    "        return \"-> \".join(nodes)                  "
   ]
  },
  {
   "cell_type": "code",
   "execution_count": 65,
   "metadata": {},
   "outputs": [
    {
     "data": {
      "text/plain": [
       "[Head: 15]-> [45]-> [10]-> [20]-> [2]-> [Tail: 10]"
      ]
     },
     "execution_count": 65,
     "metadata": {},
     "output_type": "execute_result"
    }
   ],
   "source": [
    "l = linkedList()\n",
    "l.add(10)\n",
    "l.add(2)\n",
    "l.add(20)\n",
    "l.add(10)\n",
    "l.add(45)\n",
    "l.add(15)\n",
    "l"
   ]
  },
  {
   "cell_type": "code",
   "execution_count": 66,
   "metadata": {},
   "outputs": [
    {
     "data": {
      "text/plain": [
       "<Node data: 45>"
      ]
     },
     "execution_count": 66,
     "metadata": {},
     "output_type": "execute_result"
    }
   ],
   "source": [
    "n = l.search(45)\n",
    "n"
   ]
  },
  {
   "cell_type": "markdown",
   "metadata": {},
   "source": []
  }
 ],
 "metadata": {
  "kernelspec": {
   "display_name": "Python 3.10.5 64-bit",
   "language": "python",
   "name": "python3"
  },
  "language_info": {
   "codemirror_mode": {
    "name": "ipython",
    "version": 3
   },
   "file_extension": ".py",
   "mimetype": "text/x-python",
   "name": "python",
   "nbconvert_exporter": "python",
   "pygments_lexer": "ipython3",
   "version": "3.10.5"
  },
  "orig_nbformat": 4,
  "vscode": {
   "interpreter": {
    "hash": "4c88e25eb6a3f43241fab4a350dd83ed4b703976221e4586ce455fda71110b55"
   }
  }
 },
 "nbformat": 4,
 "nbformat_minor": 2
}
