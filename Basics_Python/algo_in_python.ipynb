{
 "cells": [
  {
   "cell_type": "markdown",
   "metadata": {},
   "source": [
    "# Algorithms in Python"
   ]
  },
  {
   "cell_type": "markdown",
   "metadata": {},
   "source": [
    "## Algorithm\n",
    "Set of instruction to achieve results (e.g; cooking reciepe, maps for destinations, etc) or in CS, a set of steps a prog takes to finish a task.\n",
    "\n",
    "There are numerous problems in CS, and some of them are pretty common..regardless of what project u r working on. There are many solutions to these common problems, however, overtime CS field specify those that do the job well and are robust.\n",
    "\n",
    "* Search Algo: It is a procedure that determines what type of info to be retrieved from a large mass of Data\n",
    "* Encryption Algo: Set of rules by which infor or important messages can be encoded, so unauthorized personnel dont have access to them.\n",
    "\n",
    "\n",
    "The scope of this course is to explore finite algos or pre-determined set of instructions that are used to slove relevent challanges or computations. These computations perform data manipulations using Natural Language Processing (NLP). <br>\n",
    "The purpose of this course is to get familier with python and calc functions, within defined amount of space & time. To find algorithmic differences in computational efficiencies. This means how we write the program is crucial, interms of space & time consideration. Following Algos are covered:\n",
    "* Simple Recursive Algo\n",
    "* Algo within Data Structure\n",
    "* Divide & Conquer\n",
    "* Greedy Algo\n",
    "* Dynamic Programing"
   ]
  },
  {
   "cell_type": "markdown",
   "metadata": {},
   "source": [
    "### Recursive Algo\n",
    "When writing recursive algo, we are basically writing a function that calls itself. However, thats not the whole picture. When we write a program recursively, it is imp to understand this is in contrast to writing a program iteratively (using for loop instead of function calls the program). \n",
    "\n",
    "Literally, recursion programs run back to it self over & over again until it terminates, and we can also use \"for\" loop in recursion."
   ]
  },
  {
   "cell_type": "code",
   "execution_count": 1,
   "metadata": {},
   "outputs": [
    {
     "name": "stdout",
     "output_type": "stream",
     "text": [
      "120\n"
     ]
    }
   ],
   "source": [
    "# calculate the factorial of the no iteratively:\n",
    "\n",
    "def iterative_factorial(n):\n",
    "    fact = 1\n",
    "\n",
    "    for i in range(2,n+1):           # when dealing with python, got to take care of last indexation\n",
    "        fact = fact*i\n",
    "    return fact\n",
    "\n",
    "print(iterative_factorial(5))"
   ]
  },
  {
   "cell_type": "code",
   "execution_count": 2,
   "metadata": {},
   "outputs": [
    {
     "name": "stdout",
     "output_type": "stream",
     "text": [
      "120\n"
     ]
    }
   ],
   "source": [
    "# calculate the factorial of the no recursively: (last in first out LIFO concept)\n",
    "\n",
    "def recursive_factorial(n):\n",
    "    if n == 1:\n",
    "        return n\n",
    "    else:\n",
    "        temporary = recursive_factorial(n-1)   # 5,4,3,2,1 => LIFO makes 1*2*3*4*5\n",
    "        temporary *= n \n",
    "    return temporary\n",
    "\n",
    "print(recursive_factorial(5))\n"
   ]
  },
  {
   "cell_type": "code",
   "execution_count": 3,
   "metadata": {},
   "outputs": [
    {
     "name": "stdout",
     "output_type": "stream",
     "text": [
      "120\n"
     ]
    }
   ],
   "source": [
    "def recur_fact(n):\n",
    "    if n ==1:\n",
    "        return n\n",
    "    else:\n",
    "        return n*recur_fact(n-1)\n",
    "\n",
    "print(recur_fact(5))\n"
   ]
  },
  {
   "cell_type": "markdown",
   "metadata": {},
   "source": [
    "### Algo within Data Structures\n",
    "\n",
    "Data Structures is simply a containers or collection of Data, with Create, Retrieve, Update & Delete (CRUD) functionalities. Most common examples of Data Structures are:\n",
    "* List (or Array)\n",
    "* Linked List\n",
    "* Stacks\n",
    "* Trees\n",
    "* Hash Tables\n",
    "* Heaps\n",
    "* Queues\n",
    "\n",
    "In Data Structures, we are going to cover Linear Search, Binary Search, Insersion sort & Bubble sort"
   ]
  },
  {
   "cell_type": "markdown",
   "metadata": {},
   "source": [
    "#### Search & Sort"
   ]
  },
  {
   "cell_type": "code",
   "execution_count": 14,
   "metadata": {},
   "outputs": [],
   "source": [
    "# Linear Search\n",
    "\n",
    "def linear_search(arr, target):\n",
    "    for i in range(len(arr)):\n",
    "        if arr[i] == target:\n",
    "            return i\n",
    "    return \"Not in the list\"\n"
   ]
  },
  {
   "cell_type": "code",
   "execution_count": 15,
   "metadata": {},
   "outputs": [
    {
     "name": "stdout",
     "output_type": "stream",
     "text": [
      "5\n"
     ]
    }
   ],
   "source": [
    "arr = [2,5,8,22,15,10,9,22]\n",
    "target = 10\n",
    "\n",
    "print(linear_search(arr,target))   # index position where 10 exists"
   ]
  },
  {
   "cell_type": "code",
   "execution_count": 16,
   "metadata": {},
   "outputs": [],
   "source": [
    "# Binary Search (iteration - method)\n",
    "def binary_search(arr, target, start,end):\n",
    "    while start <= end:\n",
    "        mid = (start + end)//2\n",
    "\n",
    "        if target < arr[mid]:\n",
    "            end = mid-1\n",
    "        elif target > arr[mid]:\n",
    "            start = mid+1\n",
    "        else:\n",
    "            return mid\n",
    "    return start\n",
    "\n"
   ]
  },
  {
   "cell_type": "code",
   "execution_count": 17,
   "metadata": {},
   "outputs": [
    {
     "data": {
      "text/plain": [
       "3"
      ]
     },
     "execution_count": 17,
     "metadata": {},
     "output_type": "execute_result"
    }
   ],
   "source": [
    "arr = [2,5,8,10,16,22,25]\n",
    "target = 10\n",
    "result = binary_search(arr, target, 0, len(arr)-1)\n",
    "result"
   ]
  },
  {
   "cell_type": "code",
   "execution_count": 18,
   "metadata": {},
   "outputs": [],
   "source": [
    "# Binary search (Recursive method)\n",
    "\n",
    "def binary_search(l, target, low =None, high =None):\n",
    "    if low is None:\n",
    "        low = 0\n",
    "    if high is None:\n",
    "        high = len(l)-1\n",
    "    if high<low:\n",
    "        return -1\n",
    "    mid_pt = (low + high)//2\n",
    "\n",
    "    if l[mid_pt] == target:\n",
    "        return mid_pt\n",
    "    elif target < l[mid_pt]:\n",
    "         return binary_search(l, target, high = mid_pt-1)\n",
    "    else:\n",
    "        return binary_search(l, target, low = mid_pt+1)\n",
    "\n",
    "  "
   ]
  },
  {
   "cell_type": "markdown",
   "metadata": {},
   "source": [
    "Both Iterative & recursive methods have similat time & space complexiety. So indifferent to use anyone"
   ]
  },
  {
   "cell_type": "markdown",
   "metadata": {},
   "source": [
    "There are numerous techeniques of Sorting, among which includes:\n",
    "* Linear Search\n",
    "* Binary search\n",
    "* Jump search \n",
    "* Interpolation search\n",
    "* Exponential search\n",
    "* Sublist search\n",
    "* Fibonacci search\n",
    "* The Ubiquitous Binary search\n",
    "* Recursive Linear search in array\n",
    "* Unbounded Binary search  "
   ]
  },
  {
   "cell_type": "code",
   "execution_count": 1,
   "metadata": {},
   "outputs": [
    {
     "name": "stdout",
     "output_type": "stream",
     "text": [
      "([0, 1, 2, 3, 4, 5, 6, 7, 8, 9], 45)\n"
     ]
    }
   ],
   "source": [
    "# Bubble Sort  (repeatedly swap adjecent elements if in wrong place (carry out this process multiple time)...not efficient but basic and robust)\n",
    "\n",
    "def bubble_optimized_sort(arr):\n",
    "    iter = 0\n",
    "    for i in range(len(arr)):                # loop going right\n",
    "        for j in range(len(arr)-i-1):         # nested loop going to the left\n",
    "            iter +=1\n",
    "            if arr[j]>arr[j+1]:\n",
    "                arr[j], arr[j+1] = arr[j+1], arr[j]\n",
    "    return arr, iter\n",
    "\n",
    "arr = [9,8,7,6,5,4,3,2,1,0]\n",
    "print(bubble_optimized_sort(arr))    # completly sort in 45 iterations"
   ]
  },
  {
   "cell_type": "markdown",
   "metadata": {},
   "source": [
    "Insersion Sort: simple sorting algo, builds a final array 1 item at a time - still inefficient on large list, however easier to implement b/c of small code & performs well on small datasets. The concept of insersion sort is to split array into 2 sections (sorted & unsorted) in order to compart its elements. The algo then compare element from unsorted side to sorted side & put them in appropriate place on sorted side."
   ]
  },
  {
   "cell_type": "code",
   "execution_count": 2,
   "metadata": {},
   "outputs": [
    {
     "name": "stdout",
     "output_type": "stream",
     "text": [
      "[1, 2, 3, 4, 5, 6]\n"
     ]
    }
   ],
   "source": [
    "# Insersion Sort \n",
    "\n",
    "def insert_sort(a):\n",
    "    for j in range(1,len(a)):      # we consider 1st element the sorted side of an array\n",
    "        key = a[j]                 # our current element\n",
    "        i = j-1                    # position/ index to the left of our key\n",
    "        while i >=0 and a[i]>key:   # as long as our index (i) >= 0 and index > our key\n",
    "            a[i+1] = a[i]\n",
    "            i -=1                   # larger element to right & smaller element to the left\n",
    "        a[i+1] = key\n",
    "    return a\n",
    "\n",
    "a = [5,2,4,6,1,3]\n",
    "print(insert_sort(a))\n",
    "\n"
   ]
  },
  {
   "cell_type": "markdown",
   "metadata": {},
   "source": [
    "#### Linked List\n",
    "Linear Data Structure, where data is a collection of nodes which together represent a sequence. Each node contains Data & a ref to next node. Starts with \"head-node\" & ends at \"Tail-node\". This allows for efficient insersion or removal of elements from any position in the sequence during iteration, without any need to reorganization of entire data structure. Since every node points to the next node, in order to find a particular node we can go from one node to the next (forward) in a process known as \"List Traversal\". \n",
    "\n",
    "\"Doubally-Linked list\" is when u can trevarse backward and forwards, which is beyond the scope of this course.\n",
    "\n",
    "A drawback is that access time is Linear & difficult to pipeline.\n",
    "\n",
    "4 common problem solving operations (basic algo) for Singally-Linked list:\n",
    "* \"Traverse\" a linked list or travel along the nodes and pointers\n",
    "* Search a list for \"head node\" or \"Tail node\"\n",
    "* Insert a new \"head\" or \"Tail\" node\n",
    "* Delete a node or tail\n",
    "\n",
    "\n"
   ]
  },
  {
   "cell_type": "markdown",
   "metadata": {},
   "source": [
    "Here we need to start with a node class & linked list class. Our nodes will be family members & linked list will represent the whole family"
   ]
  },
  {
   "cell_type": "code",
   "execution_count": 36,
   "metadata": {},
   "outputs": [
    {
     "name": "stdout",
     "output_type": "stream",
     "text": [
      "Dave\n",
      "Bob\n",
      "Amy\n",
      "Max\n",
      "Jenny\n"
     ]
    }
   ],
   "source": [
    "# 1. start with defining class Node (family members) & class Linked List (whole family)\n",
    "class Node:\n",
    "    def __init__(self,data):\n",
    "        self.data = data\n",
    "        self.next = None\n",
    "\n",
    "#class LinkedList:\n",
    "#    pass\n",
    "\n",
    "# 4. Link the pointers in a list by creating a LinkedList class. This is where we create a function to traverse our nodes in a List & be able to print them all out\n",
    "class LinkedList:\n",
    "    def traversal(self):      # only 1 argument \"self\" b/c it doesnt need anything else to start at header & print them all out\n",
    "        first = self.head\n",
    "        while first:\n",
    "            print(first.data)\n",
    "            first = first.next\n",
    "\n",
    "    def insert_new_header(self, new_data): # insert new header (falls under insersion algo)- not only insert but to specify where to insert\n",
    "        new_node = Node(new_data)\n",
    "        new_node.next = self.head\n",
    "        self.head = new_node\n",
    "    \n",
    "    # in order to delete, we need to search our list... create a search function with a parameter x\n",
    "    def search(self,x):              # start the search at the begning of the list\n",
    "        temp = self.head              # A temporatry var\n",
    "        while temp is not None:\n",
    "            if temp.data == x:\n",
    "                return True\n",
    "            temp = temp.next\n",
    "        return False\n",
    "\n",
    "    # Create a Delete option with a parameter \"data\", as we did in insert \n",
    "    def delete_node(self,data):               \n",
    "        temp = self.head\n",
    "        while temp is not None:\n",
    "            if temp.data == data:\n",
    "                break\n",
    "            prev = temp\n",
    "            temp = temp.next    # changing the pointers from previous node and placing it after the deleted element\n",
    "            prev.next = temp.next\n",
    "    \n",
    "    # Delete a Tail: \n",
    "    def delete_tail(self):\n",
    "        temp = self.head\n",
    "        while temp.next.next is not None:\n",
    "            temp = temp.next\n",
    "        temp.next = None\n",
    "\n",
    "\n",
    "\n",
    "\n",
    "\n",
    "# 2. define the object nodes (in our case: family)\n",
    "family = LinkedList()\n",
    "family.head = Node(\"Bob\")\n",
    "wife = Node(\"Amy\")\n",
    "first_kid = Node(\"Max\")\n",
    "second_kid = Node(\"Jenny\")\n",
    "\n",
    "# 3. Create pointers to link our nodes\n",
    "family.head.next = wife\n",
    "wife.next = first_kid\n",
    "first_kid.next = second_kid\n",
    "\n",
    "\n",
    "# 5. call the function\n",
    "\n",
    "family.insert_new_header(\"Dave\")\n",
    "\n",
    "family.traversal()\n",
    "\n",
    "\n"
   ]
  },
  {
   "cell_type": "code",
   "execution_count": 17,
   "metadata": {},
   "outputs": [
    {
     "name": "stdout",
     "output_type": "stream",
     "text": [
      "Dave\n",
      "Bob\n",
      "Amy\n",
      "Max\n",
      "Jenny\n"
     ]
    }
   ],
   "source": [
    "# Family traversal\n",
    "family.insert_new_header(\"Dave\")\n",
    "family.traversal()               # Dave is now added\n"
   ]
  },
  {
   "cell_type": "code",
   "execution_count": 19,
   "metadata": {},
   "outputs": [
    {
     "name": "stdout",
     "output_type": "stream",
     "text": [
      "True\n"
     ]
    }
   ],
   "source": [
    "print(family.search(\"Bob\"))   # True"
   ]
  },
  {
   "cell_type": "code",
   "execution_count": 27,
   "metadata": {},
   "outputs": [
    {
     "name": "stdout",
     "output_type": "stream",
     "text": [
      "Dave\n",
      "Amy\n",
      "Max\n",
      "Jenny\n"
     ]
    }
   ],
   "source": [
    "family.delete_node(\"Bob\")\n",
    "family.traversal()"
   ]
  },
  {
   "cell_type": "code",
   "execution_count": 37,
   "metadata": {},
   "outputs": [
    {
     "name": "stdout",
     "output_type": "stream",
     "text": [
      "Dave\n",
      "Bob\n",
      "Amy\n",
      "Max\n"
     ]
    }
   ],
   "source": [
    "family.delete_tail()\n",
    "family.traversal()"
   ]
  },
  {
   "cell_type": "markdown",
   "metadata": {},
   "source": [
    "#### Hash Tables\n",
    "A hash table consists of an array of \"pockets\", where pocket stores a \"key\":\"Value\" pair. The key is passed through hashing function, that returns a unique integer which further used as an index to locate the pocket. Hash Tables are more efficient than search trees or anyother lookup table structure, b/c of constant time complexiety. We can use hash table to \"store\" or \"insert\" (key, value), \"retrieve\" (key) & \"delete\" (key) data based on the uniqe key.\n",
    "\n",
    "\n",
    "important terminologies:\n",
    "* Associative Arrays - can be implemented with different types of Data Structures & have strings as an index. \n",
    "* Hash functions\n",
    "* key/ value pair\n",
    "* Collision - when there is a possibility of 2 or more pieces of one dataset, hashed to same integer in second dataset. In other words, when 2 keys has same hash value.\n",
    "* Chaining - its a solution to avoid collusion (using linked list or Binary search trees)\n"
   ]
  },
  {
   "cell_type": "markdown",
   "metadata": {},
   "source": [
    "#### Divide & Conquer\n",
    "Divide problem into sub-problem... this reduce the time to solve & increases the efficiency."
   ]
  },
  {
   "cell_type": "code",
   "execution_count": 39,
   "metadata": {},
   "outputs": [],
   "source": [
    "# Merge - Sort (Equally Divide the unsorted list into 2 sublist - sort the sublist & merge back)\n",
    "# Merge-Sort is an all purpose & comparision based sorting algo\n",
    "\n",
    "def sort_array(num):\n",
    "    # Iterative method, using Python's sorted function\n",
    "    mid = len(num)//2\n",
    "    left = sorted(num[:mid])\n",
    "    right = sorted(num[mid:])\n",
    "    c = []\n",
    "    while min(len(left), len(right))>0:\n",
    "        if left[0] > right[0]:\n",
    "            insert = right.pop(0)\n",
    "            c.append(insert)\n",
    "        elif left[0] <= right[0]:\n",
    "            insert = left.pop(0)\n",
    "            c.append(insert)\n",
    "    if len(left)>0:\n",
    "        for i in left:\n",
    "            c.append(i)\n",
    "    if len(right)<0:\n",
    "        for i in left:\n",
    "            c.append(i)\n",
    "    return c\n",
    "\n"
   ]
  },
  {
   "cell_type": "markdown",
   "metadata": {},
   "source": [
    "#### Matrix Multiplication\n",
    "(m Rows & n columns) - multiply each element in a row with each element in a column & add them"
   ]
  },
  {
   "cell_type": "code",
   "execution_count": 40,
   "metadata": {},
   "outputs": [
    {
     "name": "stdout",
     "output_type": "stream",
     "text": [
      "[8, 11]\n",
      "[13, 18]\n"
     ]
    }
   ],
   "source": [
    "# Naieve Method of Matrix Multiplication - using nested loops \n",
    "\n",
    "X = [[1,2],[2,3]]         # 2x2 matrix\n",
    "Y = [[2,3],[3,4]]         # 2x2 matrix\n",
    "result = [[0,0],[0,0]]    \n",
    "\n",
    "\n",
    "for i in range(len(X)):                           # Iterate through rows of X\n",
    "    for j in range(len(Y[0])):                    # Iterate through columns of Y\n",
    "        for k in range(len(Y)):                   # Iterate through rows of Y\n",
    "            result[i][j] += X[i][k] * Y[k][j]\n",
    "for end in result:\n",
    "    print(end)\n",
    "    \n",
    "\n",
    "\n"
   ]
  },
  {
   "cell_type": "code",
   "execution_count": null,
   "metadata": {},
   "outputs": [],
   "source": [
    "# Strassen Algo\n"
   ]
  },
  {
   "cell_type": "markdown",
   "metadata": {},
   "source": [
    "#### Greedy Algo\n",
    "The aim of greedy algo is to optimize our solution\n"
   ]
  },
  {
   "cell_type": "code",
   "execution_count": 41,
   "metadata": {},
   "outputs": [
    {
     "name": "stdout",
     "output_type": "stream",
     "text": [
      "last mice takes 4 to get in the hole\n"
     ]
    }
   ],
   "source": [
    "# Return min time req to place mice in holes using greedy approach. We can put every mice to nearest hole, \n",
    "# in order to min the time. This can be done by sorting the positions of mice & holes.\n",
    "\n",
    "def assign_holes(mice, holes):\n",
    "\n",
    "    # Base - no of mice & no of holes should be equal\n",
    "    if len(mice) != len(holes):\n",
    "        return \"No of mice 7 holes arnt same\"\n",
    "    \n",
    "    # Sort first\n",
    "    mice.sort()\n",
    "    holes.sort()\n",
    "\n",
    "    # finding max diff b/w ith mouse & hole\n",
    "    max_diff = 0\n",
    "    for i in range(len(mice)):\n",
    "        if max_diff < abs(mice[i] - holes[i]):\n",
    "            max_diff = abs(mice[i] - holes[i])\n",
    "    return max_diff\n",
    "\n",
    "mice = [4,-4,2]\n",
    "holes = [4,0,5]\n",
    "\n",
    "# the required time to place each mouse in a hole\n",
    "min_time = assign_holes(mice, holes)\n",
    "print(f\"last mice takes {min_time} to get in the hole\")\n"
   ]
  },
  {
   "cell_type": "code",
   "execution_count": 47,
   "metadata": {},
   "outputs": [
    {
     "name": "stdout",
     "output_type": "stream",
     "text": [
      "[0, 1, 2, 3, 4]\n",
      "[5, 2, 9, 2, 3]\n",
      "[9, 5, 3, 2, 2]\n",
      "[2, 0, 4, 1, 3]\n",
      "[0, 0, 0, 0, 0]\n"
     ]
    },
    {
     "data": {
      "text/plain": [
       "500"
      ]
     },
     "execution_count": 47,
     "metadata": {},
     "output_type": "execute_result"
    }
   ],
   "source": [
    "# Fractional Knapsack (Bounded - What is the optimum weight to get the items of highest value into a bag with a finite capacity?)\n",
    "\n",
    "weight  = [30,50,10,70,40]\n",
    "value = [150,100,90,140,120]\n",
    "capacity = 150                      # Capacity in weights\n",
    "\n",
    "def fractional_knapsack(weight, value, capacity):\n",
    "    # list of index of items, to observe the importance of item \n",
    "    items = list(range(len(value)))\n",
    "    print(items)\n",
    "    \n",
    "    # calculating the ratio (using floor division to eliminate floats)\n",
    "    ratio = [v//w for v,w in zip(value, weight)]\n",
    "    print(ratio)\n",
    "\n",
    "    # sort in descending order to observe the importance of each item\n",
    "    srt_ratios = sorted(ratio, reverse = True)\n",
    "    print(srt_ratios)\n",
    "\n",
    "    # check which index is where interms of srt_ratio\n",
    "    items.sort(key = lambda i: ratio[i], reverse=True)\n",
    "    print(items)\n",
    "\n",
    "    max_value = 0\n",
    "    fractions = [0]*len(value)\n",
    "    print(fractions)\n",
    "\n",
    "    # Greedy: we need to pack item with largest ratio in our bag first, then taking the fraction of last item or repeated item to max the value in our bag\n",
    "    for i in items:\n",
    "        if weight[i] <= capacity:\n",
    "            fractions[i] = 1\n",
    "            max_value += value[i]\n",
    "            capacity -= weight[i]\n",
    "        else:\n",
    "            fractions[i] = capacity// weight[i]\n",
    "            max_value += value[i] * capacity// weight[i]\n",
    "    return max_value\n",
    "\n",
    "\n",
    "fractional_knapsack(weight, value, capacity)\n",
    "\n",
    "\n"
   ]
  },
  {
   "cell_type": "markdown",
   "metadata": {},
   "source": [
    "\n",
    "#### Egyptian Fraction (Fibinacci)\n",
    "Egyptian fraction is a representation of an irreduceble fraction as a sum of distinct unit fractions. This means each fraction can be represented as a sum of unique unit fractions. A fraction is a unit fraction if numerator is 1 & denomenator is a +ve integer (1/3,1/7,1/96).\n",
    "\n",
    "Foe example 7 pizzas to be divided into 7 kids. Each child gets half a pizza + 1/12 of last pizza => (1/2 + 1/12 = 7/12)\n",
    "\n",
    "In order to generate Egyptian fractions, we need greedy algo as they are efficient as compare to brute force search algos. However, Fibinacci's greedy algo is the only soln in this case. "
   ]
  },
  {
   "cell_type": "code",
   "execution_count": 48,
   "metadata": {},
   "outputs": [
    {
     "name": "stdout",
     "output_type": "stream",
     "text": [
      "1/2 + 1/12\n"
     ]
    }
   ],
   "source": [
    "# Egyptian Fraction in egyptian from using greedy algo (numerator < denomenator)\n",
    "import math\n",
    "\n",
    "# write a function that takes a numerator & denomenator\n",
    "def egyptian_frac(numerator, denominator):\n",
    "    # create a list of denomenators for our Egyptian Fractions\n",
    "    egypt_list = []\n",
    "\n",
    "    # create a while loop\n",
    "    while numerator !=0:\n",
    "        # create a variable that store a quotient in a roundedup manner, to counter floats lower than 1.\n",
    "        x = math.ceil(denominator/numerator)\n",
    "        egypt_list.append(x)\n",
    "\n",
    "        # update the numerator & denomenator in accordance with Lowest common denominator (LCD)\n",
    "        numerator = x * numerator - denominator\n",
    "        denominator *= x \n",
    "    \n",
    "    # create a string. The string formatting helps to put 1 as numerator, by iterating over denominators & add then to an empty string.\n",
    "    str = \"\"\n",
    "\n",
    "    for ones in egypt_list:\n",
    "        str += \"1/{0} + \".format(ones)\n",
    "    final_string = str[:-3]\n",
    "\n",
    "    return final_string\n",
    "\n",
    "print(egyptian_frac(7,12)) \n",
    "\n",
    "\n"
   ]
  },
  {
   "cell_type": "markdown",
   "metadata": {},
   "source": [
    "### Dynamic Programming\n",
    "\n",
    "Dynamic means a system or process characterized by constant change, activity or progress. 2 terms are important:\n",
    "* Dynamic programming languages      (e.g Python)\n",
    "* Dynamic Programming Methodologies  (programming methodologies that concerned with analyzing problem by developing algos based on modern programming techeniques)\n",
    "\n",
    "\n",
    "\n"
   ]
  },
  {
   "cell_type": "markdown",
   "metadata": {},
   "source": [
    "#### Dynamic Programming\n",
    "DP has \"Principle of Optimality\", which is:\n",
    "* breaking the problem down into sub-problems,\n",
    "* Solving the sub-problems recursively,\n",
    "* Using optimal solutions to construct the optimal solution to original problem.\n",
    "\n"
   ]
  },
  {
   "cell_type": "markdown",
   "metadata": {},
   "source": [
    "#### Ugly nos (4917)\n",
    "A no is ugly if we divide the no by the greatest divisible pwrs of 2,3 or 5 & the no becomes 1 => ugly no.\n",
    "(1,2,3,4,5,6,,8,9,10,12,15,...) are ugly nos\n",
    "\n"
   ]
  },
  {
   "cell_type": "code",
   "execution_count": 51,
   "metadata": {},
   "outputs": [
    {
     "name": "stdout",
     "output_type": "stream",
     "text": [
      "3\n"
     ]
    }
   ],
   "source": [
    "# find the nth ugly no (Not the DP approach but a recursive approach)\n",
    "\n",
    "def successive_div(x,y):\n",
    "    # we want our nos have no remainder\n",
    "    while x %y ==0:\n",
    "        x = x//y\n",
    "    return x\n",
    "print(successive_div(6,2))\n",
    "\n",
    "# function for checking if the no is ugly or not, dividing it by 2, 3 & 5\n",
    "def ugly_check(num):\n",
    "    num = successive_div(num, 2)\n",
    "    num = successive_div(num, 3)\n",
    "    num = successive_div(num, 5)\n",
    "    \n",
    "    # define the logical condition\n",
    "    if num == 1:\n",
    "        return True\n",
    "    else:\n",
    "        return False\n",
    "\n",
    "# function for nth ugly no\n",
    "def nth_ugly(n):\n",
    "    i = 1\n",
    "    # ugly no counter\n",
    "    counter = 1\n",
    "\n",
    "    # looping through integers until ugly count becomes n\n",
    "    while n> counter:\n",
    "        i +=1\n",
    "        if ugly_check(i):\n",
    "            counter +=1\n",
    "    return i\n"
   ]
  },
  {
   "cell_type": "code",
   "execution_count": 50,
   "metadata": {},
   "outputs": [
    {
     "name": "stdout",
     "output_type": "stream",
     "text": [
      "True\n"
     ]
    }
   ],
   "source": [
    "print(ugly_check(6))"
   ]
  },
  {
   "cell_type": "code",
   "execution_count": 52,
   "metadata": {},
   "outputs": [
    {
     "data": {
      "text/plain": [
       "2700"
      ]
     },
     "execution_count": 52,
     "metadata": {},
     "output_type": "execute_result"
    }
   ],
   "source": [
    "nth_ugly(120)  # 120th ugly no"
   ]
  },
  {
   "cell_type": "code",
   "execution_count": null,
   "metadata": {},
   "outputs": [],
   "source": [
    "# Ugly nos (DP)\n",
    "\n"
   ]
  }
 ],
 "metadata": {
  "kernelspec": {
   "display_name": "Python 3.10.5 64-bit",
   "language": "python",
   "name": "python3"
  },
  "language_info": {
   "codemirror_mode": {
    "name": "ipython",
    "version": 3
   },
   "file_extension": ".py",
   "mimetype": "text/x-python",
   "name": "python",
   "nbconvert_exporter": "python",
   "pygments_lexer": "ipython3",
   "version": "3.10.5"
  },
  "orig_nbformat": 4,
  "vscode": {
   "interpreter": {
    "hash": "4c88e25eb6a3f43241fab4a350dd83ed4b703976221e4586ce455fda71110b55"
   }
  }
 },
 "nbformat": 4,
 "nbformat_minor": 2
}
