{
 "cells": [
  {
   "cell_type": "markdown",
   "metadata": {},
   "source": [
    "## Before you start working on the exercise\n",
    "\n",
    "- Use Python version 3.7 up to 3.9. Make sure not to use Python 3.10\n",
    "- It is highly recommended to create a virtual environment for this course. You can find resources on how to create a virtual environment on the ISIS page of the course.\n",
    "- Make sure that no assertions fail or exceptions occur, otherwise points will be subtracted.\n",
    "- Use all the variables given to a function unless explicitly stated otherwise. If you are not using a variable you are doing something wrong.\n",
    "- Read the **whole** task description before starting with your solution.\n",
    "- After you submit the notebook more tests will be run on your code. The fact that no assertions fail on your computer locally does not guarantee that you completed the exercise correctly.\n",
    "- Please submit only the notebook file with its original name. If you do not submit an `ipynb` file you will fail the exercise.\n",
    "- Edit only between YOUR CODE HERE and END YOUR CODE.\n",
    "- Verify that no syntax errors are present in the file.\n",
    "- Before uploading your submission, make sure everything runs as expected. First, restart the kernel (in the menubar, select Kernel\\Restart) and then run all cells (in the menubar, select Cell\\Run All)."
   ]
  },
  {
   "cell_type": "code",
   "execution_count": 1,
   "metadata": {},
   "outputs": [
    {
     "name": "stdout",
     "output_type": "stream",
     "text": [
      "Correct Python version\n"
     ]
    }
   ],
   "source": [
    "import sys\n",
    "\n",
    "if (3,7) <= sys.version_info[:2] <= (3, 9):\n",
    "    print(\"Correct Python version\")\n",
    "else:\n",
    "    print(f\"You are using a wrong version of Python: {'.'.join(map(str,sys.version_info[:3]))}\")"
   ]
  },
  {
   "cell_type": "markdown",
   "metadata": {
    "deletable": false,
    "editable": false,
    "nbgrader": {
     "cell_type": "markdown",
     "checksum": "ea612b6fa10073b675e83bda2cde2924",
     "grade": false,
     "grade_id": "cell-0d8754466aa84a8c",
     "locked": true,
     "schema_version": 3,
     "solution": false,
     "task": false
    }
   },
   "source": [
    "$$\\Large\\textbf{Python Programming for Machine Learning}$$\n",
    "\n",
    "\n",
    "\n",
    "$$\\Large\\textbf{Exam}$$\n",
    "<hr>\n",
    "\n",
    "<img src='images/TU.png' width='200'>\n",
    "<br>\n",
    "\n",
    "$$\\text{Department of Intelligent Data Analysis and Machine Learning}$$\n",
    "\n",
    "<br>\n",
    "$${30\\text{th of May}\\> 2022}$$\n",
    "\n",
    "<hr>\n",
    "\n",
    "### Read before starting with the exam!\n",
    "\n",
    "The exam has a similar format to the exercise sheets you completed throught the course.\n",
    "\n",
    "Each exercise consists of: \n",
    "- Explanation \n",
    "- Implementation\n",
    "- Overwrite\n",
    "\n",
    "The overwrite part means that after your function has been tested the expected value will be placed in the corresponding variables, so that **if you get stuck you can continue with the next exercise**. If you get stuck in a task, it highly recommended to continue to another task. Even if your solution is not correct and does not pass all the tests it will receive partial credit for the correct parts.\n",
    "\n",
    "#### If a solution cell does not compile (results in a `SystaxError`) it will receive **ZERO (0)** credits, even if the implementation is principally correct.\n",
    "\n",
    "For each exercise there will be a maximum number of loops allowed. If your function contains more loops than allowed, you will be notified during the function definition, and the function will automatically fail in the tests. Note that \"unrolling a loop\" (repeating a line many times) is also considered a loop.\n",
    "\n",
    "For technical reasons the following functions are **banned** throughout the notebook.\n",
    "\n",
    "- map\n",
    "- sum (but np.sum is allowed)\n",
    "- filter\n",
    "- np.vectorize\n",
    "- np.fromiter\n",
    "- np.fromfunction\n",
    "- np.apply_along_axis\n",
    "\n",
    "**If you use any of these functions in your solution will receive 0 points**.\n",
    "\n",
    "**Important:** \n",
    "   \n",
    "- Execute every cell in the notebook. You may also try to restart your kernel and execute all cells, in case something went wrong.\n",
    "\n",
    "- If you were not able to implement one function you may proceed with a next exercise by using data generated from the _expected_ output functions."
   ]
  },
  {
   "cell_type": "markdown",
   "metadata": {
    "deletable": false,
    "editable": false,
    "nbgrader": {
     "cell_type": "markdown",
     "checksum": "4aea5fdf4b0ff4ee40671705dc322b9d",
     "grade": false,
     "grade_id": "cell-4b8fd64ba7195577",
     "locked": true,
     "schema_version": 3,
     "solution": false,
     "task": false
    }
   },
   "source": [
    "### Personal student information\n",
    "\n",
    "In the following cell fill in your **real** personal information. Make sure that the code compiles. This information may be used later for you class certificates."
   ]
  },
  {
   "cell_type": "code",
   "execution_count": 2,
   "metadata": {},
   "outputs": [],
   "source": [
    "NAME = \"El-Hussein\"  # your first name\n",
    "MID_NAME = \"\"  # your middle or empty string ''\n",
    "SURNAME = \"Mageda\"  # your last name\n",
    "\n",
    "MATRICULATION_NUMBER = 366250  # e.g. 412342 as integer\n",
    "\n",
    "HOME_UNIVERSITY = \"TU Berlin\"  # e.g. TU Berlin, HU Berlin, Uni Potsdam, etc...\n",
    "MODULE_NAME = \"ML-2\"  # e.g CA, ML-1, ML-2, Standalone\n",
    "COURSE_OF_STUDY = \"Computer Science\"  # e.g. Mathematics, Computer Science, Physics, etc...\n",
    "DEGREE = \"Master\"  # e.g. Erasmus, Bachelor, Diplom, Master, PhD or Guest (all others)"
   ]
  },
  {
   "cell_type": "code",
   "execution_count": 4,
   "metadata": {
    "deletable": false,
    "editable": false,
    "nbgrader": {
     "cell_type": "code",
     "checksum": "214b6528605ae5d43383169584d8013b",
     "grade": false,
     "grade_id": "cell-8733415e82df4138",
     "locked": true,
     "schema_version": 3,
     "solution": false,
     "task": false
    }
   },
   "outputs": [
    {
     "data": {
      "text/markdown": [
       "## Hello El-Hussein  Mageda \n",
       "### Your matriculation number is 366250 \n",
       "### You study at TU Berlin Computer Science Master \n",
       "### Module name: ML-2\n",
       "## [zoom exam room](https://tu-berlin.zoom.us/j/64057154539?pwd=YjhESVRTOW5XVWFBanhPcHVvOEx0Zz09)\n",
       "## password: 564216"
      ],
      "text/plain": [
       "<IPython.core.display.Markdown object>"
      ]
     },
     "execution_count": 4,
     "metadata": {},
     "output_type": "execute_result"
    }
   ],
   "source": [
    "from IPython.display import Markdown as md\n",
    "\n",
    "md(\n",
    "    f\"## Hello {NAME} {MID_NAME} {SURNAME} \\n\"\n",
    "    f\"### Your matriculation number is {MATRICULATION_NUMBER} \\n\"\n",
    "    f\"### You study at {HOME_UNIVERSITY} {COURSE_OF_STUDY} {DEGREE} \\n\"\n",
    "    f\"### Module name: {MODULE_NAME}\\n\"\n",
    "    \"## [zoom exam room](https://tu-berlin.zoom.us/j/64057154539?pwd=YjhESVRTOW5XVWFBanhPcHVvOEx0Zz09)\\n\"\n",
    "    \"## password: 564216\"\n",
    ")"
   ]
  },
  {
   "cell_type": "code",
   "execution_count": 5,
   "metadata": {
    "deletable": false,
    "editable": false,
    "nbgrader": {
     "cell_type": "code",
     "checksum": "f8d103cd31612ec7a019a5faf6fc1993",
     "grade": false,
     "grade_id": "cell-2ebb1788575230f7",
     "locked": true,
     "schema_version": 3,
     "solution": false,
     "task": false
    }
   },
   "outputs": [
    {
     "name": "stdout",
     "output_type": "stream",
     "text": [
      "Checking if external packages are installed correctly.\n",
      "NumPy version ok!\n",
      "SciPy version ok!\n",
      "scikit-learn version ok!\n",
      "pandas version ok!\n"
     ]
    }
   ],
   "source": [
    "print(\"Checking if external packages are installed correctly.\")\n",
    "try:\n",
    "    import numpy\n",
    "    import scipy\n",
    "    import sklearn\n",
    "    import pandas\n",
    "except ImportError:\n",
    "    print(\n",
    "        'Please install the needed packages using \"pip install -U numpy scipy pandas scikit-learn\"'\n",
    "    )\n",
    "else:\n",
    "    numpy_version = tuple(map(int, numpy.__version__.split(\".\")))\n",
    "    scipy_version = tuple(map(int, scipy.__version__.split(\".\")))\n",
    "    sklearn_version = tuple(map(int, sklearn.__version__.split(\".\")))\n",
    "    pandas_version = tuple(map(int, pandas.__version__.split(\".\")))\n",
    "    if numpy_version >= (1, 18, 0):\n",
    "        print(\"NumPy version ok!\")\n",
    "    else:\n",
    "        print(\"Your NumPy version is too old!!!\")\n",
    "\n",
    "    if scipy_version >= (1, 6, 0):\n",
    "        print(\"SciPy version ok!\")\n",
    "    else:\n",
    "        print(\"Your SciPy version is too old!!!\")\n",
    "\n",
    "    if sklearn_version >= (1, 0):\n",
    "        print(\"scikit-learn version ok!\")\n",
    "    else:\n",
    "        print(\"Your scikit-learn version is too old!!!\")\n",
    "\n",
    "    if pandas_version >= (1, 3, 0):\n",
    "        print(\"pandas version ok!\")\n",
    "    else:\n",
    "        print(\"Your pandas version is too old!!!\")"
   ]
  },
  {
   "cell_type": "code",
   "execution_count": 6,
   "metadata": {
    "deletable": false,
    "editable": false,
    "nbgrader": {
     "cell_type": "code",
     "checksum": "e181f4a67b0f63ffd52324dd3e105e88",
     "grade": false,
     "grade_id": "cell-b5e24291f0afd451",
     "locked": true,
     "schema_version": 3,
     "solution": false,
     "task": false
    }
   },
   "outputs": [
    {
     "data": {
      "text/html": [
       "<style> .output_png {display: table-cell;text-align: center;vertical-align: middle;}</style>"
      ],
      "text/plain": [
       "<IPython.core.display.HTML object>"
      ]
     },
     "execution_count": 6,
     "metadata": {},
     "output_type": "execute_result"
    }
   ],
   "source": [
    "from IPython.core.display import HTML as Center\n",
    "\n",
    "Center(\n",
    "    \"<style> .output_png {display: table-cell;text-align: center;vertical-align: middle;}</style>\"\n",
    ")"
   ]
  },
  {
   "cell_type": "markdown",
   "metadata": {
    "deletable": false,
    "editable": false,
    "nbgrader": {
     "cell_type": "markdown",
     "checksum": "07861dfeb58fdfe3b86e26897f1dacde",
     "grade": false,
     "grade_id": "cell-f065747eed678c1a",
     "locked": true,
     "schema_version": 3,
     "solution": false,
     "task": false
    }
   },
   "source": [
    "# The Task\n",
    "<style>\n",
    "img {\n",
    "    background-color: white;\n",
    "}\n",
    "</style>\n",
    "In this notebook we will explore the application of PCA on diamond features and their associated prices.\n",
    "\n",
    "<img src=\"images/dia.jpeg\" width=\"500\" />"
   ]
  },
  {
   "cell_type": "code",
   "execution_count": 7,
   "metadata": {
    "deletable": false,
    "editable": false,
    "nbgrader": {
     "cell_type": "code",
     "checksum": "e7464f6e35751a1764c41111e46d02da",
     "grade": true,
     "grade_id": "import-setup",
     "locked": true,
     "points": 0,
     "schema_version": 3,
     "solution": false,
     "task": false
    }
   },
   "outputs": [],
   "source": [
    "import numpy as np\n",
    "from minified import max_allowed_loops, no_imports\n",
    "from unittest import TestCase\n",
    "from sklearn.utils.validation import check_is_fitted\n",
    "from typing import Optional, Tuple, List\n",
    "\n",
    "%matplotlib inline\n",
    "\n",
    "t = TestCase()\n"
   ]
  },
  {
   "cell_type": "markdown",
   "metadata": {
    "deletable": false,
    "editable": false,
    "nbgrader": {
     "cell_type": "markdown",
     "checksum": "74b8a0b32ab2858a0e52620b50a6de51",
     "grade": false,
     "grade_id": "cell-21b62fbabc4837f0",
     "locked": true,
     "schema_version": 3,
     "solution": false,
     "task": false
    }
   },
   "source": [
    "### Exercise 1.1: Create a DataFrame from dict with target as a price (10 points).\n",
    "\n",
    "Load the data from a json file and create a dataframe from it. You can use the provided function `load_diamonds` to load the json file as a Python dictionary."
   ]
  },
  {
   "cell_type": "code",
   "execution_count": 8,
   "metadata": {
    "deletable": false,
    "editable": false,
    "nbgrader": {
     "cell_type": "code",
     "checksum": "d4306f4d8acdc216156e5a46087b7280",
     "grade": false,
     "grade_id": "cell-f3dd20ef1c03f2cf",
     "locked": true,
     "schema_version": 3,
     "solution": false,
     "task": false
    }
   },
   "outputs": [
    {
     "name": "stdout",
     "output_type": "stream",
     "text": [
      "carat: \n",
      "\tThe carat is the diamond’s physical weight measured in metric carats. One carat equals 0.20 gram and is subdivided into 100 points. \n",
      "\n",
      "cut:\n",
      "\tThe quality of the cut. The more precise the diamond is cut, the more captivating the diamond is to the eye thus of high grade.\n",
      "\n",
      "color:\n",
      "\tThe colour of gem-quality diamonds occurs in many hues. In the range from colourless to light yellow or light brown. Colourless diamonds are the rarest. Other natural colours (blue, red, pink for example) are known as \"fancy,” and their colour grading is different than from white colorless diamonds.\n",
      "\n",
      "clarity:\n",
      "\t Diamonds can have internal characteristics known as inclusions or external characteristics known as blemishes. Diamonds without inclusions or blemishes are rare; however, most characteristics can only be seen with magnification.\n",
      "\n",
      "depth:\n",
      "\t The total depth percentage which equals to z / mean(x, y) = 2 * z / (x + y). The depth of the diamond is its height (in millimetres) measured from the culet (bottom tip) to the table (flat, top surface) as referred in the labelled diagram above.\n",
      "\n",
      "table:\n",
      "\t It is the width of the top of the diamond relative to widest point. It gives diamond stunning fire and brilliance by reflecting lights to all directions which when seen by an observer, seems lustrous.\n",
      "\n",
      "x:\n",
      "\t Length of the diamond (in mm)\n",
      "\n",
      "y:\n",
      "\t Width of the diamond (in mm)\n",
      "\n",
      "z:\n",
      "\t Depth of the diamond (in mm)\n",
      "\n",
      "price\n",
      "\t It is the price of the diamond in US dollars.\n"
     ]
    }
   ],
   "source": [
    "from utils import load_diamonds\n",
    "import pandas as pd\n",
    "\n",
    "diamonds_dict = load_diamonds()\n",
    "\n",
    "print(diamonds_dict[\"DESC\"])"
   ]
  },
  {
   "cell_type": "code",
   "execution_count": 120,
   "metadata": {
    "deletable": false,
    "nbgrader": {
     "cell_type": "code",
     "checksum": "9331206b0392111bdec2cc0de898fa83",
     "grade": false,
     "grade_id": "cell-ac41ab350fdcfd4f",
     "locked": false,
     "schema_version": 3,
     "solution": true,
     "task": false
    }
   },
   "outputs": [],
   "source": [
    "def load_diamonds_dataframe(filename: str) -> pd.DataFrame:\n",
    "    # YOUR CODE HERE\n",
    "    \n",
    "    dicto = load_diamonds(filename)\n",
    "    data = dicto[\"data\"]\n",
    "    print(data)\n",
    "    \n",
    "    df = pd.DataFrame(data, columns = dicto[\"features\"])\n",
    "    print(len(data), df.shape)\n",
    "    return df\n",
    "    # YOUR CODE HERE\n",
    "    "
   ]
  },
  {
   "cell_type": "code",
   "execution_count": 121,
   "metadata": {
    "deletable": false,
    "editable": false,
    "nbgrader": {
     "cell_type": "code",
     "checksum": "96a377a46a5f4fe3f70b3c7e3cdae9b9",
     "grade": true,
     "grade_id": "cell-65dd811517292831",
     "locked": true,
     "points": 10,
     "schema_version": 3,
     "solution": false,
     "task": false
    }
   },
   "outputs": [
    {
     "name": "stdout",
     "output_type": "stream",
     "text": [
      "[(10.0, 20.0, 30.0), (11.0, 12.2, 13.4)]\n",
      "2 (2, 3)\n",
      "      x     y     z\n",
      "0  10.0  20.0  30.0\n",
      "1  11.0  12.2  13.4\n"
     ]
    },
    {
     "name": "stderr",
     "output_type": "stream",
     "text": [
      "IOPub data rate exceeded.\n",
      "The notebook server will temporarily stop sending output\n",
      "to the client in order to avoid crashing it.\n",
      "To change this limit, set the config variable\n",
      "`--NotebookApp.iopub_data_rate_limit`.\n",
      "\n",
      "Current values:\n",
      "NotebookApp.iopub_data_rate_limit=1000000.0 (bytes/sec)\n",
      "NotebookApp.rate_limit_window=3.0 (secs)\n",
      "\n"
     ]
    }
   ],
   "source": [
    "tiny_result = load_diamonds_dataframe(\"data/tiny.json\")\n",
    "\n",
    "print(tiny_result)\n",
    "t.assertIsInstance(tiny_result, pd.DataFrame)\n",
    "\n",
    "tiny_expected = pd.DataFrame(\n",
    "    [[10.0, 20.0, 30.0], [11.0, 12.2, 13.4]], columns=[\"x\", \"y\", \"z\"]\n",
    ")\n",
    "\n",
    "pd.testing.assert_frame_equal(tiny_expected, tiny_result)\n",
    "\n",
    "result = load_diamonds_dataframe(\"data/diamonds.json\")\n",
    "t.assertEqual(result.shape, (53920, 9))\n",
    "t.assertEqual(\n",
    "    set(result.columns),\n",
    "    {\"carat\", \"cut\", \"color\", \"clarity\", \"depth\", \"table\", \"x\", \"y\", \"z\"},\n",
    ")\n",
    "\n",
    "\n"
   ]
  },
  {
   "cell_type": "code",
   "execution_count": 122,
   "metadata": {
    "deletable": false,
    "editable": false,
    "nbgrader": {
     "cell_type": "code",
     "checksum": "a88d7210754a8b356f0c443bacb60ed4",
     "grade": false,
     "grade_id": "cell-3c4df48b15fd6040",
     "locked": true,
     "schema_version": 3,
     "solution": false,
     "task": false
    }
   },
   "outputs": [
    {
     "data": {
      "text/html": [
       "<div>\n",
       "<style scoped>\n",
       "    .dataframe tbody tr th:only-of-type {\n",
       "        vertical-align: middle;\n",
       "    }\n",
       "\n",
       "    .dataframe tbody tr th {\n",
       "        vertical-align: top;\n",
       "    }\n",
       "\n",
       "    .dataframe thead th {\n",
       "        text-align: right;\n",
       "    }\n",
       "</style>\n",
       "<table border=\"1\" class=\"dataframe\">\n",
       "  <thead>\n",
       "    <tr style=\"text-align: right;\">\n",
       "      <th></th>\n",
       "      <th>carat</th>\n",
       "      <th>cut</th>\n",
       "      <th>color</th>\n",
       "      <th>clarity</th>\n",
       "      <th>depth</th>\n",
       "      <th>table</th>\n",
       "      <th>x</th>\n",
       "      <th>y</th>\n",
       "      <th>z</th>\n",
       "    </tr>\n",
       "  </thead>\n",
       "  <tbody>\n",
       "    <tr>\n",
       "      <th>0</th>\n",
       "      <td>0.23</td>\n",
       "      <td>Ideal</td>\n",
       "      <td>E</td>\n",
       "      <td>SI2</td>\n",
       "      <td>61.5</td>\n",
       "      <td>55.0</td>\n",
       "      <td>3.95</td>\n",
       "      <td>3.98</td>\n",
       "      <td>2.43</td>\n",
       "    </tr>\n",
       "    <tr>\n",
       "      <th>1</th>\n",
       "      <td>0.21</td>\n",
       "      <td>Premium</td>\n",
       "      <td>E</td>\n",
       "      <td>SI1</td>\n",
       "      <td>59.8</td>\n",
       "      <td>61.0</td>\n",
       "      <td>3.89</td>\n",
       "      <td>3.84</td>\n",
       "      <td>2.31</td>\n",
       "    </tr>\n",
       "    <tr>\n",
       "      <th>2</th>\n",
       "      <td>0.23</td>\n",
       "      <td>Good</td>\n",
       "      <td>E</td>\n",
       "      <td>VS1</td>\n",
       "      <td>56.9</td>\n",
       "      <td>65.0</td>\n",
       "      <td>4.05</td>\n",
       "      <td>4.07</td>\n",
       "      <td>2.31</td>\n",
       "    </tr>\n",
       "    <tr>\n",
       "      <th>3</th>\n",
       "      <td>0.29</td>\n",
       "      <td>Premium</td>\n",
       "      <td>I</td>\n",
       "      <td>VS2</td>\n",
       "      <td>62.4</td>\n",
       "      <td>58.0</td>\n",
       "      <td>4.20</td>\n",
       "      <td>4.23</td>\n",
       "      <td>2.63</td>\n",
       "    </tr>\n",
       "    <tr>\n",
       "      <th>4</th>\n",
       "      <td>0.31</td>\n",
       "      <td>Good</td>\n",
       "      <td>J</td>\n",
       "      <td>SI2</td>\n",
       "      <td>63.3</td>\n",
       "      <td>58.0</td>\n",
       "      <td>4.34</td>\n",
       "      <td>4.35</td>\n",
       "      <td>2.75</td>\n",
       "    </tr>\n",
       "    <tr>\n",
       "      <th>...</th>\n",
       "      <td>...</td>\n",
       "      <td>...</td>\n",
       "      <td>...</td>\n",
       "      <td>...</td>\n",
       "      <td>...</td>\n",
       "      <td>...</td>\n",
       "      <td>...</td>\n",
       "      <td>...</td>\n",
       "      <td>...</td>\n",
       "    </tr>\n",
       "    <tr>\n",
       "      <th>53915</th>\n",
       "      <td>0.72</td>\n",
       "      <td>Ideal</td>\n",
       "      <td>D</td>\n",
       "      <td>SI1</td>\n",
       "      <td>60.8</td>\n",
       "      <td>57.0</td>\n",
       "      <td>5.75</td>\n",
       "      <td>5.76</td>\n",
       "      <td>3.50</td>\n",
       "    </tr>\n",
       "    <tr>\n",
       "      <th>53916</th>\n",
       "      <td>0.72</td>\n",
       "      <td>Good</td>\n",
       "      <td>D</td>\n",
       "      <td>SI1</td>\n",
       "      <td>63.1</td>\n",
       "      <td>55.0</td>\n",
       "      <td>5.69</td>\n",
       "      <td>5.75</td>\n",
       "      <td>3.61</td>\n",
       "    </tr>\n",
       "    <tr>\n",
       "      <th>53917</th>\n",
       "      <td>0.70</td>\n",
       "      <td>Very Good</td>\n",
       "      <td>D</td>\n",
       "      <td>SI1</td>\n",
       "      <td>62.8</td>\n",
       "      <td>60.0</td>\n",
       "      <td>5.66</td>\n",
       "      <td>5.68</td>\n",
       "      <td>3.56</td>\n",
       "    </tr>\n",
       "    <tr>\n",
       "      <th>53918</th>\n",
       "      <td>0.86</td>\n",
       "      <td>Premium</td>\n",
       "      <td>H</td>\n",
       "      <td>SI2</td>\n",
       "      <td>61.0</td>\n",
       "      <td>58.0</td>\n",
       "      <td>6.15</td>\n",
       "      <td>6.12</td>\n",
       "      <td>3.74</td>\n",
       "    </tr>\n",
       "    <tr>\n",
       "      <th>53919</th>\n",
       "      <td>0.75</td>\n",
       "      <td>Ideal</td>\n",
       "      <td>D</td>\n",
       "      <td>SI2</td>\n",
       "      <td>62.2</td>\n",
       "      <td>55.0</td>\n",
       "      <td>5.83</td>\n",
       "      <td>5.87</td>\n",
       "      <td>3.64</td>\n",
       "    </tr>\n",
       "  </tbody>\n",
       "</table>\n",
       "<p>53920 rows × 9 columns</p>\n",
       "</div>"
      ],
      "text/plain": [
       "       carat        cut color clarity  depth  table     x     y     z\n",
       "0       0.23      Ideal     E     SI2   61.5   55.0  3.95  3.98  2.43\n",
       "1       0.21    Premium     E     SI1   59.8   61.0  3.89  3.84  2.31\n",
       "2       0.23       Good     E     VS1   56.9   65.0  4.05  4.07  2.31\n",
       "3       0.29    Premium     I     VS2   62.4   58.0  4.20  4.23  2.63\n",
       "4       0.31       Good     J     SI2   63.3   58.0  4.34  4.35  2.75\n",
       "...      ...        ...   ...     ...    ...    ...   ...   ...   ...\n",
       "53915   0.72      Ideal     D     SI1   60.8   57.0  5.75  5.76  3.50\n",
       "53916   0.72       Good     D     SI1   63.1   55.0  5.69  5.75  3.61\n",
       "53917   0.70  Very Good     D     SI1   62.8   60.0  5.66  5.68  3.56\n",
       "53918   0.86    Premium     H     SI2   61.0   58.0  6.15  6.12  3.74\n",
       "53919   0.75      Ideal     D     SI2   62.2   55.0  5.83  5.87  3.64\n",
       "\n",
       "[53920 rows x 9 columns]"
      ]
     },
     "execution_count": 122,
     "metadata": {},
     "output_type": "execute_result"
    }
   ],
   "source": [
    "from expected import get_exercise_1_1\n",
    "\n",
    "data = get_exercise_1_1()\n",
    "data"
   ]
  },
  {
   "cell_type": "markdown",
   "metadata": {
    "deletable": false,
    "editable": false,
    "nbgrader": {
     "cell_type": "markdown",
     "checksum": "160d5f74536bd2f7262d318e969c3901",
     "grade": false,
     "grade_id": "cell-e931d344f8490524",
     "locked": true,
     "schema_version": 3,
     "solution": false,
     "task": false
    }
   },
   "source": [
    "### Exercise 1.2 Converting string features to numbers (15 points)\n",
    "\n",
    "Having loaded our dataset we notice that some features (cut, color, clarity) are actually encoded as text (categorical features). While for us humans text features are intuitive, computers prefer having everything stored as numbers for processing. That is why in this exercise our goal is to convert the text features. The encoding of the text features should happen in order of appearance. This means that the first text feature should be encoded using the number 0 and second the number 1 and so on. You are allowed to use two loops to solve this exercise."
   ]
  },
  {
   "cell_type": "code",
   "execution_count": 237,
   "metadata": {
    "deletable": false,
    "nbgrader": {
     "cell_type": "code",
     "checksum": "17dbfadf014b7e160be57cc3a53f395f",
     "grade": false,
     "grade_id": "cell-820b6ed29e9c3da7",
     "locked": false,
     "schema_version": 3,
     "solution": true,
     "task": false
    }
   },
   "outputs": [],
   "source": [
    "@max_allowed_loops(2)\n",
    "def convert_text_features_to_numeric(\n",
    "    df: pd.DataFrame, features_to_convert: List[str]\n",
    ") -> pd.DataFrame:\n",
    "    # YOUR CODE HERE\n",
    "    for j in features_to_convert:\n",
    "        count = 0\n",
    "        keys = {}\n",
    "        for i,key in enumerate(df[j]):\n",
    "            if not key in keys:\n",
    "                #add new key then convert\n",
    "                keys[key] = count\n",
    "                count+1   \n",
    "            df[j][i] = keys[key]\n",
    "    return df            \n",
    "\n",
    "    # YOUR CODE HERE\n",
    "    "
   ]
  },
  {
   "cell_type": "code",
   "execution_count": 238,
   "metadata": {
    "deletable": false,
    "editable": false,
    "nbgrader": {
     "cell_type": "code",
     "checksum": "987125d0ddd20eab659d965a6d933eb4",
     "grade": true,
     "grade_id": "cell-c46a00a80d7452af",
     "locked": true,
     "points": 15,
     "schema_version": 3,
     "solution": false,
     "task": false
    }
   },
   "outputs": [
    {
     "name": "stderr",
     "output_type": "stream",
     "text": [
      "C:\\Users\\Magii\\AppData\\Local\\Temp/ipykernel_25592/1888448086.py:14: SettingWithCopyWarning: \n",
      "A value is trying to be set on a copy of a slice from a DataFrame\n",
      "\n",
      "See the caveats in the documentation: https://pandas.pydata.org/pandas-docs/stable/user_guide/indexing.html#returning-a-view-versus-a-copy\n",
      "  df[j][i] = keys[key]\n"
     ]
    },
    {
     "ename": "AssertionError",
     "evalue": "Items in the first set but not the second:\ndtype('O')\ndtype('float64')\nItems in the second set but not the first:\nFloat64Dtype()\nInt64Dtype()",
     "output_type": "error",
     "traceback": [
      "\u001b[1;31m---------------------------------------------------------------------------\u001b[0m",
      "\u001b[1;31mAssertionError\u001b[0m                            Traceback (most recent call last)",
      "\u001b[1;32m~\\AppData\\Local\\Temp/ipykernel_25592/2283817262.py\u001b[0m in \u001b[0;36m<module>\u001b[1;34m\u001b[0m\n\u001b[0;32m      2\u001b[0m \u001b[1;33m\u001b[0m\u001b[0m\n\u001b[0;32m      3\u001b[0m \u001b[0mt\u001b[0m\u001b[1;33m.\u001b[0m\u001b[0massertIsInstance\u001b[0m\u001b[1;33m(\u001b[0m\u001b[0moutput\u001b[0m\u001b[1;33m,\u001b[0m \u001b[0mpd\u001b[0m\u001b[1;33m.\u001b[0m\u001b[0mDataFrame\u001b[0m\u001b[1;33m)\u001b[0m\u001b[1;33m\u001b[0m\u001b[1;33m\u001b[0m\u001b[0m\n\u001b[1;32m----> 4\u001b[1;33m \u001b[0mt\u001b[0m\u001b[1;33m.\u001b[0m\u001b[0massertEqual\u001b[0m\u001b[1;33m(\u001b[0m\u001b[0mset\u001b[0m\u001b[1;33m(\u001b[0m\u001b[0moutput\u001b[0m\u001b[1;33m.\u001b[0m\u001b[0mdtypes\u001b[0m\u001b[1;33m)\u001b[0m\u001b[1;33m,\u001b[0m \u001b[1;33m{\u001b[0m\u001b[0mpd\u001b[0m\u001b[1;33m.\u001b[0m\u001b[0mFloat64Dtype\u001b[0m\u001b[1;33m(\u001b[0m\u001b[1;33m)\u001b[0m\u001b[1;33m,\u001b[0m \u001b[0mpd\u001b[0m\u001b[1;33m.\u001b[0m\u001b[0mInt64Dtype\u001b[0m\u001b[1;33m(\u001b[0m\u001b[1;33m)\u001b[0m\u001b[1;33m}\u001b[0m\u001b[1;33m)\u001b[0m\u001b[1;33m\u001b[0m\u001b[1;33m\u001b[0m\u001b[0m\n\u001b[0m\u001b[0;32m      5\u001b[0m \u001b[0mt\u001b[0m\u001b[1;33m.\u001b[0m\u001b[0massertEqual\u001b[0m\u001b[1;33m(\u001b[0m\u001b[0moutput\u001b[0m\u001b[1;33m.\u001b[0m\u001b[0mshape\u001b[0m\u001b[1;33m,\u001b[0m \u001b[1;33m(\u001b[0m\u001b[1;36m53920\u001b[0m\u001b[1;33m,\u001b[0m \u001b[1;36m9\u001b[0m\u001b[1;33m)\u001b[0m\u001b[1;33m)\u001b[0m\u001b[1;33m\u001b[0m\u001b[1;33m\u001b[0m\u001b[0m\n",
      "\u001b[1;32m~\\anaconda3\\envs\\pyML\\lib\\unittest\\case.py\u001b[0m in \u001b[0;36massertEqual\u001b[1;34m(self, first, second, msg)\u001b[0m\n\u001b[0;32m    827\u001b[0m         \"\"\"\n\u001b[0;32m    828\u001b[0m         \u001b[0massertion_func\u001b[0m \u001b[1;33m=\u001b[0m \u001b[0mself\u001b[0m\u001b[1;33m.\u001b[0m\u001b[0m_getAssertEqualityFunc\u001b[0m\u001b[1;33m(\u001b[0m\u001b[0mfirst\u001b[0m\u001b[1;33m,\u001b[0m \u001b[0msecond\u001b[0m\u001b[1;33m)\u001b[0m\u001b[1;33m\u001b[0m\u001b[1;33m\u001b[0m\u001b[0m\n\u001b[1;32m--> 829\u001b[1;33m         \u001b[0massertion_func\u001b[0m\u001b[1;33m(\u001b[0m\u001b[0mfirst\u001b[0m\u001b[1;33m,\u001b[0m \u001b[0msecond\u001b[0m\u001b[1;33m,\u001b[0m \u001b[0mmsg\u001b[0m\u001b[1;33m=\u001b[0m\u001b[0mmsg\u001b[0m\u001b[1;33m)\u001b[0m\u001b[1;33m\u001b[0m\u001b[1;33m\u001b[0m\u001b[0m\n\u001b[0m\u001b[0;32m    830\u001b[0m \u001b[1;33m\u001b[0m\u001b[0m\n\u001b[0;32m    831\u001b[0m     \u001b[1;32mdef\u001b[0m \u001b[0massertNotEqual\u001b[0m\u001b[1;33m(\u001b[0m\u001b[0mself\u001b[0m\u001b[1;33m,\u001b[0m \u001b[0mfirst\u001b[0m\u001b[1;33m,\u001b[0m \u001b[0msecond\u001b[0m\u001b[1;33m,\u001b[0m \u001b[0mmsg\u001b[0m\u001b[1;33m=\u001b[0m\u001b[1;32mNone\u001b[0m\u001b[1;33m)\u001b[0m\u001b[1;33m:\u001b[0m\u001b[1;33m\u001b[0m\u001b[1;33m\u001b[0m\u001b[0m\n",
      "\u001b[1;32m~\\anaconda3\\envs\\pyML\\lib\\unittest\\case.py\u001b[0m in \u001b[0;36massertSetEqual\u001b[1;34m(self, set1, set2, msg)\u001b[0m\n\u001b[0;32m   1087\u001b[0m \u001b[1;33m\u001b[0m\u001b[0m\n\u001b[0;32m   1088\u001b[0m         \u001b[0mstandardMsg\u001b[0m \u001b[1;33m=\u001b[0m \u001b[1;34m'\\n'\u001b[0m\u001b[1;33m.\u001b[0m\u001b[0mjoin\u001b[0m\u001b[1;33m(\u001b[0m\u001b[0mlines\u001b[0m\u001b[1;33m)\u001b[0m\u001b[1;33m\u001b[0m\u001b[1;33m\u001b[0m\u001b[0m\n\u001b[1;32m-> 1089\u001b[1;33m         \u001b[0mself\u001b[0m\u001b[1;33m.\u001b[0m\u001b[0mfail\u001b[0m\u001b[1;33m(\u001b[0m\u001b[0mself\u001b[0m\u001b[1;33m.\u001b[0m\u001b[0m_formatMessage\u001b[0m\u001b[1;33m(\u001b[0m\u001b[0mmsg\u001b[0m\u001b[1;33m,\u001b[0m \u001b[0mstandardMsg\u001b[0m\u001b[1;33m)\u001b[0m\u001b[1;33m)\u001b[0m\u001b[1;33m\u001b[0m\u001b[1;33m\u001b[0m\u001b[0m\n\u001b[0m\u001b[0;32m   1090\u001b[0m \u001b[1;33m\u001b[0m\u001b[0m\n\u001b[0;32m   1091\u001b[0m     \u001b[1;32mdef\u001b[0m \u001b[0massertIn\u001b[0m\u001b[1;33m(\u001b[0m\u001b[0mself\u001b[0m\u001b[1;33m,\u001b[0m \u001b[0mmember\u001b[0m\u001b[1;33m,\u001b[0m \u001b[0mcontainer\u001b[0m\u001b[1;33m,\u001b[0m \u001b[0mmsg\u001b[0m\u001b[1;33m=\u001b[0m\u001b[1;32mNone\u001b[0m\u001b[1;33m)\u001b[0m\u001b[1;33m:\u001b[0m\u001b[1;33m\u001b[0m\u001b[1;33m\u001b[0m\u001b[0m\n",
      "\u001b[1;32m~\\anaconda3\\envs\\pyML\\lib\\unittest\\case.py\u001b[0m in \u001b[0;36mfail\u001b[1;34m(self, msg)\u001b[0m\n\u001b[0;32m    666\u001b[0m     \u001b[1;32mdef\u001b[0m \u001b[0mfail\u001b[0m\u001b[1;33m(\u001b[0m\u001b[0mself\u001b[0m\u001b[1;33m,\u001b[0m \u001b[0mmsg\u001b[0m\u001b[1;33m=\u001b[0m\u001b[1;32mNone\u001b[0m\u001b[1;33m)\u001b[0m\u001b[1;33m:\u001b[0m\u001b[1;33m\u001b[0m\u001b[1;33m\u001b[0m\u001b[0m\n\u001b[0;32m    667\u001b[0m         \u001b[1;34m\"\"\"Fail immediately, with the given message.\"\"\"\u001b[0m\u001b[1;33m\u001b[0m\u001b[1;33m\u001b[0m\u001b[0m\n\u001b[1;32m--> 668\u001b[1;33m         \u001b[1;32mraise\u001b[0m \u001b[0mself\u001b[0m\u001b[1;33m.\u001b[0m\u001b[0mfailureException\u001b[0m\u001b[1;33m(\u001b[0m\u001b[0mmsg\u001b[0m\u001b[1;33m)\u001b[0m\u001b[1;33m\u001b[0m\u001b[1;33m\u001b[0m\u001b[0m\n\u001b[0m\u001b[0;32m    669\u001b[0m \u001b[1;33m\u001b[0m\u001b[0m\n\u001b[0;32m    670\u001b[0m     \u001b[1;32mdef\u001b[0m \u001b[0massertFalse\u001b[0m\u001b[1;33m(\u001b[0m\u001b[0mself\u001b[0m\u001b[1;33m,\u001b[0m \u001b[0mexpr\u001b[0m\u001b[1;33m,\u001b[0m \u001b[0mmsg\u001b[0m\u001b[1;33m=\u001b[0m\u001b[1;32mNone\u001b[0m\u001b[1;33m)\u001b[0m\u001b[1;33m:\u001b[0m\u001b[1;33m\u001b[0m\u001b[1;33m\u001b[0m\u001b[0m\n",
      "\u001b[1;31mAssertionError\u001b[0m: Items in the first set but not the second:\ndtype('O')\ndtype('float64')\nItems in the second set but not the first:\nFloat64Dtype()\nInt64Dtype()"
     ]
    }
   ],
   "source": [
    "output = convert_text_features_to_numeric(data, [\"cut\", \"color\", \"clarity\"])\n",
    "\n",
    "t.assertIsInstance(output, pd.DataFrame)\n",
    "t.assertEqual(set(output.dtypes), {pd.Float64Dtype(), pd.Int64Dtype()})\n",
    "t.assertEqual(output.shape, (53920, 9))\n"
   ]
  },
  {
   "cell_type": "code",
   "execution_count": null,
   "metadata": {
    "deletable": false,
    "editable": false,
    "nbgrader": {
     "cell_type": "code",
     "checksum": "5f0e79514d615f66467f4ef6f49d0413",
     "grade": false,
     "grade_id": "cell-bb5b806c7f4674ae",
     "locked": true,
     "schema_version": 3,
     "solution": false,
     "task": false
    }
   },
   "outputs": [],
   "source": [
    "from expected import get_exercise_1_2\n",
    "\n",
    "data = get_exercise_1_2()\n",
    "data"
   ]
  },
  {
   "cell_type": "markdown",
   "metadata": {},
   "source": [
    "### Exercise 1.3: Converting to one hot encoding (10 points)\n",
    "\n",
    "Now that we have converted our text features into numeric, we want to encode these features from scalars into vectors. Implement the function which converts the scalar values into one hot encoded feature vector. From now on we will stop utilizing pd.DataFrames and will directly work with np.ndarray objects. The features of the output should have the following order:\n",
    "\n",
    "First, all the features that are not converted in alphabetical order and then each one-hot-encoded feature vector is added in the same order that they are present in the `features_to_convert` list.\n",
    "\n",
    "E.g.:\n",
    "If the columns of the input dataframe are ['b', 'a', 'd', 'c'] and the `features_to_convert` list is ['c', 'd'] then the output should contain first the columns ['a', 'b'] and then the one hot encoded 'c' and after that the one hot encoded 'd' vectors."
   ]
  },
  {
   "cell_type": "code",
   "execution_count": 72,
   "metadata": {
    "deletable": false,
    "nbgrader": {
     "cell_type": "code",
     "checksum": "aeb82ced1b053fd463183dfe151c91b6",
     "grade": false,
     "grade_id": "cell-d5c732c348b46619",
     "locked": false,
     "schema_version": 3,
     "solution": true,
     "task": false
    }
   },
   "outputs": [],
   "source": [
    "@max_allowed_loops(1)\n",
    "def one_hot_encode(df: pd.DataFrame, features_to_convert: List[str]) -> np.ndarray:\n",
    "    # YOUR CODE HERE\n",
    "    raise NotImplementedError(\"Replace this line with your code\")\n",
    "    # YOUR CODE HERE\n",
    "    "
   ]
  },
  {
   "cell_type": "code",
   "execution_count": 73,
   "metadata": {
    "deletable": false,
    "editable": false,
    "nbgrader": {
     "cell_type": "code",
     "checksum": "8fa256417722f924cfcd30be3769ce4f",
     "grade": true,
     "grade_id": "cell-62d535a22a1bdd55",
     "locked": true,
     "points": 10,
     "schema_version": 3,
     "solution": false,
     "task": false
    }
   },
   "outputs": [
    {
     "ename": "NotImplementedError",
     "evalue": "Replace this line with your code",
     "output_type": "error",
     "traceback": [
      "\u001b[1;31m---------------------------------------------------------------------------\u001b[0m",
      "\u001b[1;31mNotImplementedError\u001b[0m                       Traceback (most recent call last)",
      "\u001b[1;32m~\\AppData\\Local\\Temp/ipykernel_25592/3319749725.py\u001b[0m in \u001b[0;36m<module>\u001b[1;34m\u001b[0m\n\u001b[1;32m----> 1\u001b[1;33m \u001b[0moutput\u001b[0m \u001b[1;33m=\u001b[0m \u001b[0mone_hot_encode\u001b[0m\u001b[1;33m(\u001b[0m\u001b[0mdata\u001b[0m\u001b[1;33m,\u001b[0m \u001b[1;33m[\u001b[0m\u001b[1;34m\"cut\"\u001b[0m\u001b[1;33m,\u001b[0m \u001b[1;34m\"color\"\u001b[0m\u001b[1;33m,\u001b[0m \u001b[1;34m\"clarity\"\u001b[0m\u001b[1;33m]\u001b[0m\u001b[1;33m)\u001b[0m\u001b[1;33m\u001b[0m\u001b[1;33m\u001b[0m\u001b[0m\n\u001b[0m\u001b[0;32m      2\u001b[0m \u001b[0mt\u001b[0m\u001b[1;33m.\u001b[0m\u001b[0massertEqual\u001b[0m\u001b[1;33m(\u001b[0m\u001b[0moutput\u001b[0m\u001b[1;33m.\u001b[0m\u001b[0mshape\u001b[0m\u001b[1;33m,\u001b[0m \u001b[1;33m(\u001b[0m\u001b[1;36m53920\u001b[0m\u001b[1;33m,\u001b[0m \u001b[1;36m26\u001b[0m\u001b[1;33m)\u001b[0m\u001b[1;33m)\u001b[0m\u001b[1;33m\u001b[0m\u001b[1;33m\u001b[0m\u001b[0m\n",
      "\u001b[1;32m~\\Desktop\\exam\\minified.py\u001b[0m in \u001b[0;36mwrapper\u001b[1;34m(*args, **kwargs)\u001b[0m\n\u001b[0;32m     96\u001b[0m         \u001b[1;33m@\u001b[0m\u001b[0mwraps\u001b[0m\u001b[1;33m(\u001b[0m\u001b[0mfunc\u001b[0m\u001b[1;33m)\u001b[0m\u001b[1;33m\u001b[0m\u001b[1;33m\u001b[0m\u001b[0m\n\u001b[0;32m     97\u001b[0m         \u001b[1;32mdef\u001b[0m \u001b[0mwrapper\u001b[0m\u001b[1;33m(\u001b[0m\u001b[1;33m*\u001b[0m\u001b[0margs\u001b[0m\u001b[1;33m,\u001b[0m \u001b[1;33m**\u001b[0m\u001b[0mkwargs\u001b[0m\u001b[1;33m)\u001b[0m\u001b[1;33m:\u001b[0m\u001b[1;33m\u001b[0m\u001b[1;33m\u001b[0m\u001b[0m\n\u001b[1;32m---> 98\u001b[1;33m             \u001b[1;32mreturn\u001b[0m \u001b[0mfunc\u001b[0m\u001b[1;33m(\u001b[0m\u001b[1;33m*\u001b[0m\u001b[0margs\u001b[0m\u001b[1;33m,\u001b[0m \u001b[1;33m**\u001b[0m\u001b[0mkwargs\u001b[0m\u001b[1;33m)\u001b[0m\u001b[1;33m\u001b[0m\u001b[1;33m\u001b[0m\u001b[0m\n\u001b[0m\u001b[0;32m     99\u001b[0m \u001b[1;33m\u001b[0m\u001b[0m\n\u001b[0;32m    100\u001b[0m         \u001b[1;32mdef\u001b[0m \u001b[0massert_not_too_many_loops\u001b[0m\u001b[1;33m(\u001b[0m\u001b[1;33m)\u001b[0m\u001b[1;33m:\u001b[0m\u001b[1;33m\u001b[0m\u001b[1;33m\u001b[0m\u001b[0m\n",
      "\u001b[1;32m~\\AppData\\Local\\Temp/ipykernel_25592/2145599593.py\u001b[0m in \u001b[0;36mone_hot_encode\u001b[1;34m(df, features_to_convert)\u001b[0m\n\u001b[0;32m      2\u001b[0m \u001b[1;32mdef\u001b[0m \u001b[0mone_hot_encode\u001b[0m\u001b[1;33m(\u001b[0m\u001b[0mdf\u001b[0m\u001b[1;33m:\u001b[0m \u001b[0mpd\u001b[0m\u001b[1;33m.\u001b[0m\u001b[0mDataFrame\u001b[0m\u001b[1;33m,\u001b[0m \u001b[0mfeatures_to_convert\u001b[0m\u001b[1;33m:\u001b[0m \u001b[0mList\u001b[0m\u001b[1;33m[\u001b[0m\u001b[0mstr\u001b[0m\u001b[1;33m]\u001b[0m\u001b[1;33m)\u001b[0m \u001b[1;33m->\u001b[0m \u001b[0mnp\u001b[0m\u001b[1;33m.\u001b[0m\u001b[0mndarray\u001b[0m\u001b[1;33m:\u001b[0m\u001b[1;33m\u001b[0m\u001b[1;33m\u001b[0m\u001b[0m\n\u001b[0;32m      3\u001b[0m     \u001b[1;31m# YOUR CODE HERE\u001b[0m\u001b[1;33m\u001b[0m\u001b[1;33m\u001b[0m\u001b[0m\n\u001b[1;32m----> 4\u001b[1;33m     \u001b[1;32mraise\u001b[0m \u001b[0mNotImplementedError\u001b[0m\u001b[1;33m(\u001b[0m\u001b[1;34m\"Replace this line with your code\"\u001b[0m\u001b[1;33m)\u001b[0m\u001b[1;33m\u001b[0m\u001b[1;33m\u001b[0m\u001b[0m\n\u001b[0m\u001b[0;32m      5\u001b[0m     \u001b[1;31m# YOUR CODE HERE\u001b[0m\u001b[1;33m\u001b[0m\u001b[1;33m\u001b[0m\u001b[0m\n\u001b[0;32m      6\u001b[0m \u001b[1;33m\u001b[0m\u001b[0m\n",
      "\u001b[1;31mNotImplementedError\u001b[0m: Replace this line with your code"
     ]
    }
   ],
   "source": [
    "output = one_hot_encode(data, [\"cut\", \"color\", \"clarity\"])\n",
    "t.assertEqual(output.shape, (53920, 26))\n"
   ]
  },
  {
   "cell_type": "code",
   "execution_count": 74,
   "metadata": {
    "deletable": false,
    "editable": false,
    "nbgrader": {
     "cell_type": "code",
     "checksum": "58efa662064ae68384ce0a1d50f60ece",
     "grade": false,
     "grade_id": "cell-bc0b3e37f57106a2",
     "locked": true,
     "schema_version": 3,
     "solution": false,
     "task": false
    }
   },
   "outputs": [
    {
     "data": {
      "text/plain": [
       "array([[ 0.23, 61.5 , 55.  , ...,  0.  ,  0.  ,  0.  ],\n",
       "       [ 0.21, 59.8 , 61.  , ...,  0.  ,  0.  ,  0.  ],\n",
       "       [ 0.23, 56.9 , 65.  , ...,  0.  ,  0.  ,  0.  ],\n",
       "       ...,\n",
       "       [ 0.7 , 62.8 , 60.  , ...,  0.  ,  0.  ,  0.  ],\n",
       "       [ 0.86, 61.  , 58.  , ...,  0.  ,  0.  ,  0.  ],\n",
       "       [ 0.75, 62.2 , 55.  , ...,  0.  ,  0.  ,  0.  ]])"
      ]
     },
     "execution_count": 74,
     "metadata": {},
     "output_type": "execute_result"
    }
   ],
   "source": [
    "from expected import get_exercise_1_3\n",
    "\n",
    "data = get_exercise_1_3()\n",
    "data"
   ]
  },
  {
   "cell_type": "markdown",
   "metadata": {
    "deletable": false,
    "editable": false,
    "nbgrader": {
     "cell_type": "markdown",
     "checksum": "ffef4f88d34b7fd95971a28c13e7ea25",
     "grade": false,
     "grade_id": "cell-40a22909828f263d",
     "locked": true,
     "schema_version": 3,
     "solution": false,
     "task": false
    }
   },
   "source": [
    "### Exercise 1.4: Loading the price data\n",
    "\n",
    "After loading the features, now we want to get our target variable. Implement a function that loads the price of each diamond and returns a np.ndarray. You can again make use of the `load_diamonds` function."
   ]
  },
  {
   "cell_type": "code",
   "execution_count": 129,
   "metadata": {
    "deletable": false,
    "nbgrader": {
     "cell_type": "code",
     "checksum": "f098ad4d7c70f95629a6dd44643a8143",
     "grade": false,
     "grade_id": "cell-cea72ff09c194a7e",
     "locked": false,
     "schema_version": 3,
     "solution": true,
     "task": false
    }
   },
   "outputs": [],
   "source": [
    "def load_price_data(filename: str, target_name: str = \"price\") -> np.ndarray:\n",
    "    # YOUR CODE HERE\n",
    "    load_diamonds(filename)\n",
    "    \n",
    "    dicto = load_diamonds(filename)\n",
    "    target = dicto[target_name]\n",
    "\n",
    "    return np.array(target)\n",
    "    # YOUR CODE HERE\n",
    "    "
   ]
  },
  {
   "cell_type": "code",
   "execution_count": 130,
   "metadata": {
    "deletable": false,
    "editable": false,
    "nbgrader": {
     "cell_type": "code",
     "checksum": "5ddcf9c04c9571c829f43bd1bc87b63f",
     "grade": true,
     "grade_id": "cell-303f2b93113289eb",
     "locked": true,
     "points": 5,
     "schema_version": 3,
     "solution": false,
     "task": false
    }
   },
   "outputs": [],
   "source": [
    "output_tiny = load_price_data(\"data/tiny.json\", target_name=\"target\")\n",
    "t.assertIsInstance(output_tiny, np.ndarray)\n",
    "t.assertEqual(output_tiny.shape, (3,))\n",
    "np.testing.assert_array_equal(output_tiny, [1, 2, 3])\n",
    "\n",
    "output = load_price_data(\"data/diamonds.json\")\n",
    "\n",
    "t.assertIsInstance(output, np.ndarray)\n",
    "t.assertEqual(output.shape, (53920,))"
   ]
  },
  {
   "cell_type": "code",
   "execution_count": 131,
   "metadata": {
    "deletable": false,
    "editable": false,
    "nbgrader": {
     "cell_type": "code",
     "checksum": "aeb66a20db1cf9b0829daa09e1049ca4",
     "grade": false,
     "grade_id": "cell-99aa562da9912b64",
     "locked": true,
     "schema_version": 3,
     "solution": false,
     "task": false
    }
   },
   "outputs": [
    {
     "data": {
      "text/plain": [
       "array([ 326,  326,  327, ..., 2757, 2757, 2757], dtype=int64)"
      ]
     },
     "execution_count": 131,
     "metadata": {},
     "output_type": "execute_result"
    }
   ],
   "source": [
    "from expected import get_exercise_1_4\n",
    "\n",
    "prices = get_exercise_1_4()\n",
    "prices"
   ]
  },
  {
   "cell_type": "markdown",
   "metadata": {
    "deletable": false,
    "editable": false,
    "nbgrader": {
     "cell_type": "markdown",
     "checksum": "ec0169c0aa9a719de72bedc6fc51c5dd",
     "grade": false,
     "grade_id": "cell-aa4c1dae0ca0f124",
     "locked": true,
     "schema_version": 3,
     "solution": false,
     "task": false
    }
   },
   "source": [
    "### Exercise 1.5 Splitting data\n",
    "\n",
    "Now that we have gathered all our data, we want to split it into training, test and validation sets. For training and testing we will only keep the first $2^{15}=32768$ datapoints. The rest we will keep for validating our results. Using the train_test_split function provided by scikit-learn, split the first $2^{15}$ datapoints. The function that you will implement receives a seed variable in order to ensure repeatability."
   ]
  },
  {
   "cell_type": "code",
   "execution_count": 78,
   "metadata": {
    "deletable": false,
    "editable": false,
    "nbgrader": {
     "cell_type": "code",
     "checksum": "75939c45f17f6c4e666e6c9ae7736962",
     "grade": false,
     "grade_id": "cell-ffdb7f08d60935b4",
     "locked": true,
     "schema_version": 3,
     "solution": false,
     "task": false
    }
   },
   "outputs": [],
   "source": [
    "from sklearn.model_selection import train_test_split"
   ]
  },
  {
   "cell_type": "code",
   "execution_count": 244,
   "metadata": {
    "deletable": false,
    "nbgrader": {
     "cell_type": "code",
     "checksum": "9d07620a2662ba7b52dd29d83c62e395",
     "grade": false,
     "grade_id": "cell-e432d0a32f5e8cd8",
     "locked": false,
     "schema_version": 3,
     "solution": true,
     "task": false
    }
   },
   "outputs": [],
   "source": [
    "def create_train_test_split(\n",
    "    data: np.ndarray, prices: np.ndarray, test_ratio: float, seed: int, cutoff: int=2**15,\n",
    ") -> Tuple[np.ndarray, np.ndarray, np.ndarray, np.ndarray]:\n",
    "    # YOUR CODE HERE\n",
    "    #if i only use data it takes the dataframe\n",
    "    # first split\n",
    "    testtrain_data = data[:cutoff]\n",
    "    testtrain_prices = prices[:cutoff]\n",
    "    print(type(data))\n",
    "    tr_x,te_x,tr_y,te_y = train_test_split(testtrain_data,testtrain_prices, test_size=test_ratio, random_state=seed)\n",
    "    return  np.array(tr_x),np.array(te_x),np.array(tr_y),np.array(te_y)\n",
    "\n",
    "    # YOUR CODE HERE\n",
    "    "
   ]
  },
  {
   "cell_type": "code",
   "execution_count": 245,
   "metadata": {
    "deletable": false,
    "editable": false,
    "nbgrader": {
     "cell_type": "code",
     "checksum": "ae1da18d86ad3d9473808e152e3bafad",
     "grade": true,
     "grade_id": "cell-bba36be4ce1e280f",
     "locked": true,
     "points": 5,
     "schema_version": 3,
     "solution": false,
     "task": false
    }
   },
   "outputs": [
    {
     "name": "stdout",
     "output_type": "stream",
     "text": [
      "<class 'pandas.core.frame.DataFrame'>\n",
      "<class 'pandas.core.frame.DataFrame'>\n"
     ]
    },
    {
     "ename": "TypeError",
     "evalue": "ufunc 'isfinite' not supported for the input types, and the inputs could not be safely coerced to any supported types according to the casting rule ''safe''",
     "output_type": "error",
     "traceback": [
      "\u001b[1;31m---------------------------------------------------------------------------\u001b[0m",
      "\u001b[1;31mTypeError\u001b[0m                                 Traceback (most recent call last)",
      "\u001b[1;32m~\\AppData\\Local\\Temp/ipykernel_25592/768658574.py\u001b[0m in \u001b[0;36m<module>\u001b[1;34m\u001b[0m\n\u001b[0;32m      8\u001b[0m \u001b[0moutput2\u001b[0m \u001b[1;33m=\u001b[0m \u001b[0mcreate_train_test_split\u001b[0m\u001b[1;33m(\u001b[0m\u001b[0mdata\u001b[0m\u001b[1;33m,\u001b[0m \u001b[0mprices\u001b[0m\u001b[1;33m,\u001b[0m \u001b[1;36m0.2\u001b[0m\u001b[1;33m,\u001b[0m \u001b[1;36m0\u001b[0m\u001b[1;33m)\u001b[0m\u001b[1;33m\u001b[0m\u001b[1;33m\u001b[0m\u001b[0m\n\u001b[0;32m      9\u001b[0m \u001b[1;32mfor\u001b[0m \u001b[0mo\u001b[0m\u001b[1;33m,\u001b[0m \u001b[0mo2\u001b[0m \u001b[1;32min\u001b[0m \u001b[0mzip\u001b[0m\u001b[1;33m(\u001b[0m\u001b[0moutput\u001b[0m\u001b[1;33m,\u001b[0m \u001b[0moutput2\u001b[0m\u001b[1;33m)\u001b[0m\u001b[1;33m:\u001b[0m\u001b[1;33m\u001b[0m\u001b[1;33m\u001b[0m\u001b[0m\n\u001b[1;32m---> 10\u001b[1;33m     \u001b[0mnp\u001b[0m\u001b[1;33m.\u001b[0m\u001b[0mtesting\u001b[0m\u001b[1;33m.\u001b[0m\u001b[0massert_allclose\u001b[0m\u001b[1;33m(\u001b[0m\u001b[0mo\u001b[0m\u001b[1;33m,\u001b[0m \u001b[0mo2\u001b[0m\u001b[1;33m)\u001b[0m\u001b[1;33m\u001b[0m\u001b[1;33m\u001b[0m\u001b[0m\n\u001b[0m\u001b[0;32m     11\u001b[0m \u001b[1;33m\u001b[0m\u001b[0m\n\u001b[0;32m     12\u001b[0m \u001b[1;33m\u001b[0m\u001b[0m\n",
      "    \u001b[1;31m[... skipping hidden 2 frame]\u001b[0m\n",
      "\u001b[1;32m~\\anaconda3\\envs\\pyML\\lib\\site-packages\\numpy\\testing\\_private\\utils.py\u001b[0m in \u001b[0;36mcompare\u001b[1;34m(x, y)\u001b[0m\n\u001b[0;32m   1523\u001b[0m \u001b[1;33m\u001b[0m\u001b[0m\n\u001b[0;32m   1524\u001b[0m     \u001b[1;32mdef\u001b[0m \u001b[0mcompare\u001b[0m\u001b[1;33m(\u001b[0m\u001b[0mx\u001b[0m\u001b[1;33m,\u001b[0m \u001b[0my\u001b[0m\u001b[1;33m)\u001b[0m\u001b[1;33m:\u001b[0m\u001b[1;33m\u001b[0m\u001b[1;33m\u001b[0m\u001b[0m\n\u001b[1;32m-> 1525\u001b[1;33m         return np.core.numeric.isclose(x, y, rtol=rtol, atol=atol,\n\u001b[0m\u001b[0;32m   1526\u001b[0m                                        equal_nan=equal_nan)\n\u001b[0;32m   1527\u001b[0m \u001b[1;33m\u001b[0m\u001b[0m\n",
      "\u001b[1;32m<__array_function__ internals>\u001b[0m in \u001b[0;36misclose\u001b[1;34m(*args, **kwargs)\u001b[0m\n",
      "\u001b[1;32m~\\anaconda3\\envs\\pyML\\lib\\site-packages\\numpy\\core\\numeric.py\u001b[0m in \u001b[0;36misclose\u001b[1;34m(a, b, rtol, atol, equal_nan)\u001b[0m\n\u001b[0;32m   2353\u001b[0m         \u001b[0my\u001b[0m \u001b[1;33m=\u001b[0m \u001b[0masanyarray\u001b[0m\u001b[1;33m(\u001b[0m\u001b[0my\u001b[0m\u001b[1;33m,\u001b[0m \u001b[0mdtype\u001b[0m\u001b[1;33m=\u001b[0m\u001b[0mdt\u001b[0m\u001b[1;33m)\u001b[0m\u001b[1;33m\u001b[0m\u001b[1;33m\u001b[0m\u001b[0m\n\u001b[0;32m   2354\u001b[0m \u001b[1;33m\u001b[0m\u001b[0m\n\u001b[1;32m-> 2355\u001b[1;33m     \u001b[0mxfin\u001b[0m \u001b[1;33m=\u001b[0m \u001b[0misfinite\u001b[0m\u001b[1;33m(\u001b[0m\u001b[0mx\u001b[0m\u001b[1;33m)\u001b[0m\u001b[1;33m\u001b[0m\u001b[1;33m\u001b[0m\u001b[0m\n\u001b[0m\u001b[0;32m   2356\u001b[0m     \u001b[0myfin\u001b[0m \u001b[1;33m=\u001b[0m \u001b[0misfinite\u001b[0m\u001b[1;33m(\u001b[0m\u001b[0my\u001b[0m\u001b[1;33m)\u001b[0m\u001b[1;33m\u001b[0m\u001b[1;33m\u001b[0m\u001b[0m\n\u001b[0;32m   2357\u001b[0m     \u001b[1;32mif\u001b[0m \u001b[0mall\u001b[0m\u001b[1;33m(\u001b[0m\u001b[0mxfin\u001b[0m\u001b[1;33m)\u001b[0m \u001b[1;32mand\u001b[0m \u001b[0mall\u001b[0m\u001b[1;33m(\u001b[0m\u001b[0myfin\u001b[0m\u001b[1;33m)\u001b[0m\u001b[1;33m:\u001b[0m\u001b[1;33m\u001b[0m\u001b[1;33m\u001b[0m\u001b[0m\n",
      "\u001b[1;31mTypeError\u001b[0m: ufunc 'isfinite' not supported for the input types, and the inputs could not be safely coerced to any supported types according to the casting rule ''safe''"
     ]
    }
   ],
   "source": [
    "output = create_train_test_split(data, prices, 0.2, 0)\n",
    "expected_lengths = [26214, 6554, 26214, 6554]\n",
    "for o, l in zip(output, expected_lengths):\n",
    "    t.assertIsInstance(o, np.ndarray)\n",
    "    t.assertEqual(len(o), l)\n",
    "\n",
    "# same output for same input\n",
    "output2 = create_train_test_split(data, prices, 0.2, 0)\n",
    "for o, o2 in zip(output, output2):\n",
    "    np.testing.assert_allclose(o, o2)\n",
    "\n",
    "\n",
    "# different seed different output\n",
    "output3 = create_train_test_split(data, prices, 0.2, 1)\n",
    "for o, o3 in zip(output, output3):\n",
    "    with t.assertRaises(AssertionError):\n",
    "        np.testing.assert_allclose(o, o3)\n",
    "\n",
    "output4 = create_train_test_split(data, prices, 0.2, 0, cutoff=10)\n",
    "t.assertEqual(len(output4[0]) + len(output4[1]), 10)\n",
    "        "
   ]
  },
  {
   "cell_type": "code",
   "execution_count": 158,
   "metadata": {
    "deletable": false,
    "editable": false,
    "nbgrader": {
     "cell_type": "code",
     "checksum": "dabc8ece47d05d92bebd47930bd47092",
     "grade": false,
     "grade_id": "cell-2d4f2484b67bdbcb",
     "locked": true,
     "schema_version": 3,
     "solution": false,
     "task": false
    }
   },
   "outputs": [
    {
     "data": {
      "text/plain": [
       "(array([[ 1.08, 63.1 , 59.  , ...,  0.  ,  0.  ,  0.  ],\n",
       "        [ 0.79, 60.9 , 56.  , ...,  0.  ,  0.  ,  0.  ],\n",
       "        [ 1.  , 62.6 , 59.  , ...,  0.  ,  0.  ,  0.  ],\n",
       "        ...,\n",
       "        [ 1.01, 61.9 , 58.  , ...,  0.  ,  0.  ,  0.  ],\n",
       "        [ 0.99, 62.8 , 56.  , ...,  0.  ,  0.  ,  0.  ],\n",
       "        [ 0.7 , 62.8 , 59.  , ...,  0.  ,  0.  ,  0.  ]]),\n",
       " array([[ 1.52, 59.5 , 61.  , ...,  0.  ,  0.  ,  0.  ],\n",
       "        [ 0.91, 60.2 , 57.  , ...,  0.  ,  0.  ,  0.  ],\n",
       "        [ 0.31, 61.3 , 55.  , ...,  0.  ,  0.  ,  0.  ],\n",
       "        ...,\n",
       "        [ 1.5 , 61.8 , 56.  , ...,  0.  ,  0.  ,  0.  ],\n",
       "        [ 0.32, 59.8 , 59.  , ...,  0.  ,  0.  ,  0.  ],\n",
       "        [ 0.32, 62.  , 55.  , ...,  0.  ,  0.  ,  0.  ]]),\n",
       " array([5189, 3710, 4081, ..., 4676, 4863, 3247]),\n",
       " array([12823,  3826,   791, ..., 12389,   561,   449]))"
      ]
     },
     "execution_count": 158,
     "metadata": {},
     "output_type": "execute_result"
    }
   ],
   "source": [
    "from expected import get_exercise_1_5\n",
    "\n",
    "X_train, X_test, y_train, y_test = get_exercise_1_5()\n",
    "X_train, X_test, y_train, y_test"
   ]
  },
  {
   "cell_type": "markdown",
   "metadata": {
    "deletable": false,
    "editable": false,
    "nbgrader": {
     "cell_type": "markdown",
     "checksum": "bb3711bbab2778d7dcb0eba4d4e2f2b4",
     "grade": false,
     "grade_id": "cell-664b548f14874f0f",
     "locked": true,
     "schema_version": 3,
     "solution": false,
     "task": false
    }
   },
   "source": [
    "### Exercise 1.6 Scaling the data\n",
    "\n",
    "So far we have only manipulated the shape of the data, and converted the categorical features to one hot encoded vectors. Now we want to scale the data so that we can apply PCA (which assumes centered data). For this we will make use of the `StandardScaler` provided by sklearn. Further, we will scale the price data so that it has a range of 0-1 using the `MinMaxScaler` again provided by sklearn."
   ]
  },
  {
   "cell_type": "code",
   "execution_count": 82,
   "metadata": {
    "deletable": false,
    "editable": false,
    "nbgrader": {
     "cell_type": "code",
     "checksum": "78b6e15f468451f317206c38e325e9db",
     "grade": false,
     "grade_id": "cell-b8338e50ea980230",
     "locked": true,
     "schema_version": 3,
     "solution": false,
     "task": false
    }
   },
   "outputs": [],
   "source": [
    "from sklearn.preprocessing import StandardScaler, MinMaxScaler"
   ]
  },
  {
   "cell_type": "code",
   "execution_count": 83,
   "metadata": {
    "deletable": false,
    "nbgrader": {
     "cell_type": "code",
     "checksum": "5be58df2957f0a2e95729bfe80d7961e",
     "grade": false,
     "grade_id": "cell-05b1be35d3a394cd",
     "locked": false,
     "schema_version": 3,
     "solution": true,
     "task": false
    }
   },
   "outputs": [],
   "source": [
    "@max_allowed_loops(0)\n",
    "def train_scalers(\n",
    "    data: np.ndarray, targets: np.ndarray\n",
    ") -> Tuple[StandardScaler, MinMaxScaler]:\n",
    "    # YOUR CODE HERE\n",
    "    raise NotImplementedError(\"Replace this line with your code\")\n",
    "    # YOUR CODE HERE\n",
    "    "
   ]
  },
  {
   "cell_type": "code",
   "execution_count": 84,
   "metadata": {
    "deletable": false,
    "editable": false,
    "nbgrader": {
     "cell_type": "code",
     "checksum": "1a7c967ba66fa3ccfa095fa1de146948",
     "grade": true,
     "grade_id": "cell-57ebe63b34b3f443",
     "locked": true,
     "points": 5,
     "schema_version": 3,
     "solution": false,
     "task": false
    }
   },
   "outputs": [
    {
     "ename": "NotImplementedError",
     "evalue": "Replace this line with your code",
     "output_type": "error",
     "traceback": [
      "\u001b[1;31m---------------------------------------------------------------------------\u001b[0m",
      "\u001b[1;31mNotImplementedError\u001b[0m                       Traceback (most recent call last)",
      "\u001b[1;32m~\\AppData\\Local\\Temp/ipykernel_25592/3535582846.py\u001b[0m in \u001b[0;36m<module>\u001b[1;34m\u001b[0m\n\u001b[0;32m      4\u001b[0m \u001b[0mtest_dummy\u001b[0m \u001b[1;33m=\u001b[0m \u001b[0mnp\u001b[0m\u001b[1;33m.\u001b[0m\u001b[0mrandom\u001b[0m\u001b[1;33m.\u001b[0m\u001b[0mchoice\u001b[0m\u001b[1;33m(\u001b[0m\u001b[0mnp\u001b[0m\u001b[1;33m.\u001b[0m\u001b[0marange\u001b[0m\u001b[1;33m(\u001b[0m\u001b[1;36m3\u001b[0m\u001b[1;33m)\u001b[0m\u001b[1;33m,\u001b[0m \u001b[0msize\u001b[0m\u001b[1;33m=\u001b[0m\u001b[1;36m100\u001b[0m\u001b[1;33m)\u001b[0m\u001b[1;33m\u001b[0m\u001b[1;33m\u001b[0m\u001b[0m\n\u001b[0;32m      5\u001b[0m \u001b[1;33m\u001b[0m\u001b[0m\n\u001b[1;32m----> 6\u001b[1;33m \u001b[0mstd_scaler\u001b[0m\u001b[1;33m,\u001b[0m \u001b[0mmm_scaler\u001b[0m \u001b[1;33m=\u001b[0m \u001b[0mtrain_scalers\u001b[0m\u001b[1;33m(\u001b[0m\u001b[0mtrain_dummy\u001b[0m\u001b[1;33m,\u001b[0m \u001b[0mtest_dummy\u001b[0m\u001b[1;33m)\u001b[0m\u001b[1;33m\u001b[0m\u001b[1;33m\u001b[0m\u001b[0m\n\u001b[0m\u001b[0;32m      7\u001b[0m \u001b[0mcheck_is_fitted\u001b[0m\u001b[1;33m(\u001b[0m\u001b[0mstd_scaler\u001b[0m\u001b[1;33m)\u001b[0m\u001b[1;33m\u001b[0m\u001b[1;33m\u001b[0m\u001b[0m\n\u001b[0;32m      8\u001b[0m \u001b[0mcheck_is_fitted\u001b[0m\u001b[1;33m(\u001b[0m\u001b[0mmm_scaler\u001b[0m\u001b[1;33m)\u001b[0m\u001b[1;33m\u001b[0m\u001b[1;33m\u001b[0m\u001b[0m\n",
      "\u001b[1;32m~\\Desktop\\exam\\minified.py\u001b[0m in \u001b[0;36mwrapper\u001b[1;34m(*args, **kwargs)\u001b[0m\n\u001b[0;32m     96\u001b[0m         \u001b[1;33m@\u001b[0m\u001b[0mwraps\u001b[0m\u001b[1;33m(\u001b[0m\u001b[0mfunc\u001b[0m\u001b[1;33m)\u001b[0m\u001b[1;33m\u001b[0m\u001b[1;33m\u001b[0m\u001b[0m\n\u001b[0;32m     97\u001b[0m         \u001b[1;32mdef\u001b[0m \u001b[0mwrapper\u001b[0m\u001b[1;33m(\u001b[0m\u001b[1;33m*\u001b[0m\u001b[0margs\u001b[0m\u001b[1;33m,\u001b[0m \u001b[1;33m**\u001b[0m\u001b[0mkwargs\u001b[0m\u001b[1;33m)\u001b[0m\u001b[1;33m:\u001b[0m\u001b[1;33m\u001b[0m\u001b[1;33m\u001b[0m\u001b[0m\n\u001b[1;32m---> 98\u001b[1;33m             \u001b[1;32mreturn\u001b[0m \u001b[0mfunc\u001b[0m\u001b[1;33m(\u001b[0m\u001b[1;33m*\u001b[0m\u001b[0margs\u001b[0m\u001b[1;33m,\u001b[0m \u001b[1;33m**\u001b[0m\u001b[0mkwargs\u001b[0m\u001b[1;33m)\u001b[0m\u001b[1;33m\u001b[0m\u001b[1;33m\u001b[0m\u001b[0m\n\u001b[0m\u001b[0;32m     99\u001b[0m \u001b[1;33m\u001b[0m\u001b[0m\n\u001b[0;32m    100\u001b[0m         \u001b[1;32mdef\u001b[0m \u001b[0massert_not_too_many_loops\u001b[0m\u001b[1;33m(\u001b[0m\u001b[1;33m)\u001b[0m\u001b[1;33m:\u001b[0m\u001b[1;33m\u001b[0m\u001b[1;33m\u001b[0m\u001b[0m\n",
      "\u001b[1;32m~\\AppData\\Local\\Temp/ipykernel_25592/279762490.py\u001b[0m in \u001b[0;36mtrain_scalers\u001b[1;34m(data, targets)\u001b[0m\n\u001b[0;32m      4\u001b[0m ) -> Tuple[StandardScaler, MinMaxScaler]:\n\u001b[0;32m      5\u001b[0m     \u001b[1;31m# YOUR CODE HERE\u001b[0m\u001b[1;33m\u001b[0m\u001b[1;33m\u001b[0m\u001b[0m\n\u001b[1;32m----> 6\u001b[1;33m     \u001b[1;32mraise\u001b[0m \u001b[0mNotImplementedError\u001b[0m\u001b[1;33m(\u001b[0m\u001b[1;34m\"Replace this line with your code\"\u001b[0m\u001b[1;33m)\u001b[0m\u001b[1;33m\u001b[0m\u001b[1;33m\u001b[0m\u001b[0m\n\u001b[0m\u001b[0;32m      7\u001b[0m     \u001b[1;31m# YOUR CODE HERE\u001b[0m\u001b[1;33m\u001b[0m\u001b[1;33m\u001b[0m\u001b[0m\n\u001b[0;32m      8\u001b[0m \u001b[1;33m\u001b[0m\u001b[0m\n",
      "\u001b[1;31mNotImplementedError\u001b[0m: Replace this line with your code"
     ]
    }
   ],
   "source": [
    "from sklearn.utils.validation import check_is_fitted\n",
    "\n",
    "train_dummy = np.random.rand(100,2)\n",
    "test_dummy = np.random.choice(np.arange(3), size=100)\n",
    "\n",
    "std_scaler, mm_scaler = train_scalers(train_dummy, test_dummy)\n",
    "check_is_fitted(std_scaler)\n",
    "check_is_fitted(mm_scaler)\n",
    "np.testing.assert_allclose(std_scaler.mean_, train_dummy.mean(0))\n",
    "np.testing.assert_allclose(std_scaler.var_, train_dummy.var(0))\n",
    "\n",
    "t.assertEqual(mm_scaler.data_min_, 0)\n",
    "t.assertEqual(mm_scaler.data_max_, 2)\n",
    "\n",
    "\n",
    "std_scaler, mm_scaler = train_scalers(X_train, y_train)\n",
    "check_is_fitted(std_scaler)\n",
    "check_is_fitted(mm_scaler)\n",
    "\n",
    "expected_means = np.array(\n",
    "    [\n",
    "        9.94261845e-01,\n",
    "        6.17810292e01,\n",
    "        5.76374914e01,\n",
    "        6.18910391e00,\n",
    "        6.19175517e00,\n",
    "        3.82332914e00,\n",
    "        3.56870375e-01,\n",
    "        2.77485313e-01,\n",
    "        9.83062486e-02,\n",
    "        2.36285954e-01,\n",
    "        3.10521096e-02,\n",
    "        1.57625696e-01,\n",
    "        1.17151141e-01,\n",
    "        6.24093996e-02,\n",
    "        1.77538720e-01,\n",
    "        1.67696651e-01,\n",
    "        2.03669795e-01,\n",
    "        1.13908598e-01,\n",
    "        2.11375601e-01,\n",
    "        2.60090028e-01,\n",
    "        1.48622873e-01,\n",
    "        2.25871672e-01,\n",
    "        7.69054704e-02,\n",
    "        4.50141146e-02,\n",
    "        1.45342184e-02,\n",
    "        1.75860227e-02,\n",
    "    ]\n",
    ")\n",
    "\n",
    "np.testing.assert_allclose(std_scaler.mean_, expected_means)\n",
    "expected_var = np.array(\n",
    "    [\n",
    "        0.25519288,\n",
    "        2.1248278,\n",
    "        4.94969533,\n",
    "        1.35369909,\n",
    "        1.43509631,\n",
    "        0.51427653,\n",
    "        0.22951391,\n",
    "        0.20048721,\n",
    "        0.08864213,\n",
    "        0.1804549,\n",
    "        0.03008788,\n",
    "        0.13277984,\n",
    "        0.10342675,\n",
    "        0.05851447,\n",
    "        0.14601872,\n",
    "        0.13957448,\n",
    "        0.16218841,\n",
    "        0.10093343,\n",
    "        0.16669596,\n",
    "        0.19244321,\n",
    "        0.12653411,\n",
    "        0.17485366,\n",
    "        0.07099102,\n",
    "        0.04298784,\n",
    "        0.01432297,\n",
    "        0.01727675,\n",
    "    ]\n",
    ")\n",
    "\n",
    "np.testing.assert_allclose(std_scaler.var_, expected_var, atol=1e-5)\n",
    "\n",
    "t.assertEqual(mm_scaler.data_min_, 326)\n",
    "t.assertEqual(mm_scaler.data_max_, 18823)"
   ]
  },
  {
   "cell_type": "code",
   "execution_count": 85,
   "metadata": {
    "deletable": false,
    "nbgrader": {
     "cell_type": "code",
     "checksum": "0a71d188e42ad74c1ef950fd98ee7c36",
     "grade": false,
     "grade_id": "cell-154eff2ef01a5cde",
     "locked": false,
     "schema_version": 3,
     "solution": true,
     "task": false
    }
   },
   "outputs": [],
   "source": [
    "def scale_data(\n",
    "    X_train, X_test, y_train, y_test, std_scaler, mm_scaler\n",
    ") -> Tuple[np.ndarray, np.ndarray, np.ndarray, np.ndarray]:\n",
    "    # YOUR CODE HERE\n",
    "    raise NotImplementedError(\"Replace this line with your code\")\n",
    "    # YOUR CODE HERE\n",
    "    "
   ]
  },
  {
   "cell_type": "code",
   "execution_count": 86,
   "metadata": {
    "deletable": false,
    "editable": false,
    "nbgrader": {
     "cell_type": "code",
     "checksum": "66212511f6a91b3274ea2e41fca2cf21",
     "grade": true,
     "grade_id": "cell-3af396a0d513c229",
     "locked": true,
     "points": 5,
     "schema_version": 3,
     "solution": false,
     "task": false
    }
   },
   "outputs": [
    {
     "ename": "NameError",
     "evalue": "name 'std_scaler' is not defined",
     "output_type": "error",
     "traceback": [
      "\u001b[1;31m---------------------------------------------------------------------------\u001b[0m",
      "\u001b[1;31mNameError\u001b[0m                                 Traceback (most recent call last)",
      "\u001b[1;32m~\\AppData\\Local\\Temp/ipykernel_25592/2862286472.py\u001b[0m in \u001b[0;36m<module>\u001b[1;34m\u001b[0m\n\u001b[0;32m      1\u001b[0m X_train_scaled, X_test_scaled, y_train_scaled, y_test_scaled = scale_data(\n\u001b[1;32m----> 2\u001b[1;33m     \u001b[0mX_train\u001b[0m\u001b[1;33m,\u001b[0m \u001b[0mX_test\u001b[0m\u001b[1;33m,\u001b[0m \u001b[0my_train\u001b[0m\u001b[1;33m,\u001b[0m \u001b[0my_test\u001b[0m\u001b[1;33m,\u001b[0m \u001b[0mstd_scaler\u001b[0m\u001b[1;33m,\u001b[0m \u001b[0mmm_scaler\u001b[0m\u001b[1;33m\u001b[0m\u001b[1;33m\u001b[0m\u001b[0m\n\u001b[0m\u001b[0;32m      3\u001b[0m )\n\u001b[0;32m      4\u001b[0m \u001b[1;33m\u001b[0m\u001b[0m\n\u001b[0;32m      5\u001b[0m \u001b[0mt\u001b[0m\u001b[1;33m.\u001b[0m\u001b[0massertIsInstance\u001b[0m\u001b[1;33m(\u001b[0m\u001b[0mX_train_scaled\u001b[0m\u001b[1;33m,\u001b[0m \u001b[0mnp\u001b[0m\u001b[1;33m.\u001b[0m\u001b[0mndarray\u001b[0m\u001b[1;33m)\u001b[0m\u001b[1;33m\u001b[0m\u001b[1;33m\u001b[0m\u001b[0m\n",
      "\u001b[1;31mNameError\u001b[0m: name 'std_scaler' is not defined"
     ]
    }
   ],
   "source": [
    "X_train_scaled, X_test_scaled, y_train_scaled, y_test_scaled = scale_data(\n",
    "    X_train, X_test, y_train, y_test, std_scaler, mm_scaler\n",
    ")\n",
    "\n",
    "t.assertIsInstance(X_train_scaled, np.ndarray)\n",
    "t.assertEqual(X_train_scaled.ndim, 2)\n",
    "t.assertIsInstance(X_test_scaled, np.ndarray)\n",
    "t.assertIsInstance(y_train_scaled, np.ndarray)\n",
    "t.assertIsInstance(y_test_scaled, np.ndarray)\n",
    "\n",
    "\n",
    "t.assertLess(X_train_scaled.ptp(), 57)\n",
    "t.assertGreater(X_train_scaled.ptp(), 56)"
   ]
  },
  {
   "cell_type": "code",
   "execution_count": 87,
   "metadata": {
    "deletable": false,
    "editable": false,
    "nbgrader": {
     "cell_type": "code",
     "checksum": "f9f52a87cbedad0a8ccc4d26af083a2a",
     "grade": false,
     "grade_id": "cell-38281aefb43813e5",
     "locked": true,
     "schema_version": 3,
     "solution": false,
     "task": false
    }
   },
   "outputs": [
    {
     "data": {
      "text/plain": [
       "(array([[ 0.16972267,  0.90484315,  0.61242091, ..., -0.21710803,\n",
       "         -0.12144372, -0.13379397],\n",
       "        [-0.40434584, -0.60440555, -0.73602031, ..., -0.21710803,\n",
       "         -0.12144372, -0.13379397],\n",
       "        [ 0.01135895,  0.56183209,  0.61242091, ..., -0.21710803,\n",
       "         -0.12144372, -0.13379397],\n",
       "        ...,\n",
       "        [ 0.03115441,  0.08161659,  0.16294051, ..., -0.21710803,\n",
       "         -0.12144372, -0.13379397],\n",
       "        [-0.00843652,  0.69903651, -0.73602031, ..., -0.21710803,\n",
       "         -0.12144372, -0.13379397],\n",
       "        [-0.58250503,  0.69903651,  0.61242091, ..., -0.21710803,\n",
       "         -0.12144372, -0.13379397]]),\n",
       " array([[ 1.04072317, -1.56483654,  1.51138173, ..., -0.21710803,\n",
       "         -0.12144372, -0.13379397],\n",
       "        [-0.16680025, -1.08462105, -0.2865399 , ..., -0.21710803,\n",
       "         -0.12144372, -0.13379397],\n",
       "        [-1.3545282 , -0.3299967 , -1.18550072, ..., -0.21710803,\n",
       "         -0.12144372, -0.13379397],\n",
       "        ...,\n",
       "        [ 1.00113224,  0.01301437, -0.73602031, ..., -0.21710803,\n",
       "         -0.12144372, -0.13379397],\n",
       "        [-1.33473273, -1.3590299 ,  0.61242091, ..., -0.21710803,\n",
       "         -0.12144372, -0.13379397],\n",
       "        [-1.33473273,  0.1502188 , -1.18550072, ..., -0.21710803,\n",
       "         -0.12144372, -0.13379397]]),\n",
       " array([0.2629075 , 0.18294859, 0.20300589, ..., 0.23517327, 0.24528302,\n",
       "        0.1579175 ]),\n",
       " array([0.67562307, 0.18921987, 0.02513921, ..., 0.65215981, 0.01270476,\n",
       "        0.00664973]))"
      ]
     },
     "execution_count": 87,
     "metadata": {},
     "output_type": "execute_result"
    }
   ],
   "source": [
    "from expected import get_exercise_1_6\n",
    "\n",
    "X_train_scaled, X_test_scaled, y_train_scaled, y_test_scaled = get_exercise_1_6()\n",
    "X_train_scaled, X_test_scaled, y_train_scaled, y_test_scaled"
   ]
  },
  {
   "cell_type": "markdown",
   "metadata": {
    "deletable": false,
    "editable": false,
    "nbgrader": {
     "cell_type": "markdown",
     "checksum": "f0ed504e736effc3149b360e9566d695",
     "grade": false,
     "grade_id": "cell-a35e36a4f9101915",
     "locked": true,
     "schema_version": 3,
     "solution": false,
     "task": false
    }
   },
   "source": [
    "### Exercise 2.1: Applying PCA (5 points)\n",
    "\n",
    "Now we want to apply PCA on our data. We are going to fit and transform our data using the PCA implementation provided by sklearn for a given number of components."
   ]
  },
  {
   "cell_type": "code",
   "execution_count": 92,
   "metadata": {
    "deletable": false,
    "editable": false,
    "nbgrader": {
     "cell_type": "code",
     "checksum": "6399d764f5180d30918c1adfecf02c00",
     "grade": false,
     "grade_id": "cell-9dd0365404e6ce16",
     "locked": true,
     "schema_version": 3,
     "solution": false,
     "task": false
    }
   },
   "outputs": [],
   "source": [
    "from sklearn.decomposition import PCA"
   ]
  },
  {
   "cell_type": "code",
   "execution_count": 93,
   "metadata": {
    "deletable": false,
    "nbgrader": {
     "cell_type": "code",
     "checksum": "f779e7f0f333955bff4575a1cf39bd58",
     "grade": false,
     "grade_id": "cell-9f3ca012e52d60b0",
     "locked": false,
     "schema_version": 3,
     "solution": true,
     "task": false
    }
   },
   "outputs": [],
   "source": [
    "def apply_PCA(data: np.ndarray, n_components: int) -> np.ndarray:\n",
    "    # YOUR CODE HERE\n",
    "    pca = PCA(n_components=n_components)\n",
    "    principalComponents = pca.fit_transform(data)\n",
    "    return principalComponents\n",
    "    # YOUR CODE HERE\n",
    "    "
   ]
  },
  {
   "cell_type": "code",
   "execution_count": 94,
   "metadata": {
    "deletable": false,
    "editable": false,
    "nbgrader": {
     "cell_type": "code",
     "checksum": "ce7bb6017ce438c9a353ea80655a5aab",
     "grade": true,
     "grade_id": "cell-03b03250bd88acd7",
     "locked": true,
     "points": 5,
     "schema_version": 3,
     "solution": false,
     "task": false
    }
   },
   "outputs": [],
   "source": [
    "X_train_pca = apply_PCA(X_train, 2)\n",
    "t.assertIsInstance(X_train_pca, np.ndarray)\n",
    "assert X_train_pca.shape == (26214, 2)\n"
   ]
  },
  {
   "cell_type": "code",
   "execution_count": 91,
   "metadata": {
    "deletable": false,
    "editable": false,
    "nbgrader": {
     "cell_type": "code",
     "checksum": "55fda3e9b32994401fb91100f9930c9c",
     "grade": false,
     "grade_id": "cell-2aeac0c1850673f3",
     "locked": true,
     "schema_version": 3,
     "solution": false,
     "task": false
    }
   },
   "outputs": [
    {
     "data": {
      "text/plain": [
       "array([[ 1.09526074,  0.29668787],\n",
       "       [-1.4674126 , -0.01393858],\n",
       "       [ 1.11007864, -0.06375338],\n",
       "       ...,\n",
       "       [ 0.48389381,  0.19047349],\n",
       "       [-1.62018997,  0.89358624],\n",
       "       [ 0.70074053, -1.06538543]])"
      ]
     },
     "execution_count": 91,
     "metadata": {},
     "output_type": "execute_result"
    }
   ],
   "source": [
    "from expected import get_exercise_2_1\n",
    "\n",
    "X_train_pca = get_exercise_2_1()\n",
    "X_train_pca"
   ]
  },
  {
   "cell_type": "markdown",
   "metadata": {
    "deletable": false,
    "editable": false,
    "nbgrader": {
     "cell_type": "markdown",
     "checksum": "18692160c5573e45298dfef8454cc813",
     "grade": false,
     "grade_id": "cell-dc26b10cd7159553",
     "locked": true,
     "schema_version": 3,
     "solution": false,
     "task": false
    }
   },
   "source": [
    "### Exercise 2.1 Ploting the projected data (15 points)\n",
    "\n",
    "Now we want to depict our data by projecting it to the first two PCA components. Create a scatter plot where x-y positions are the PCA projections and the color of each marker is based on the price target value. Plot a colorbar next to the plot so that the range is visible. The title of the plot should be \"Projected data visualization\", the colormap used should be \"jet\", the title of the colorbar should be \"Rescaled price of a diamond\" and the legend should indicate how many elements are being plotted. \n",
    "\n",
    "Because we are dealing with many datapoints, the function will randomly sample the data, but you don't have to implement that part.\n",
    "\n",
    "Below you will find a reference plot.\n",
    "\n",
    "<img src='images/ex21.png'>"
   ]
  },
  {
   "cell_type": "code",
   "execution_count": 263,
   "metadata": {
    "deletable": false,
    "nbgrader": {
     "cell_type": "code",
     "checksum": "f5f26579d0c7345fa149d3b85b0d6a0c",
     "grade": true,
     "grade_id": "cell-67bc0ac792b6a4df",
     "locked": false,
     "points": 15,
     "schema_version": 3,
     "solution": true,
     "task": false
    }
   },
   "outputs": [],
   "source": [
    "from mpl_toolkits.axes_grid1 import make_axes_locatable\n",
    "from matplotlib import pyplot as plt\n",
    "\n",
    "%matplotlib inline\n",
    "\n",
    "\n",
    "def plot_projected_data(X: np.ndarray, y: np.ndarray):\n",
    "\n",
    "    assert X.shape[1] == 2, \"Your data is not yet projected\"\n",
    "\n",
    "    fig, ax = plt.subplots(figsize=(14, 8))\n",
    "    divider = make_axes_locatable(ax)\n",
    "    cax = divider.append_axes(\"right\", size=\"3%\", pad=1)\n",
    "\n",
    "    rng = np.random.RandomState(0)\n",
    "    index_to_keep = rng.rand(len(X)).argsort()[:3115]\n",
    "    X = X[index_to_keep]\n",
    "    y = y[index_to_keep]\n",
    "\n",
    "    # YOUR CODE HERE\n",
    "    \n",
    "   # pl1 = plt.scatter(X[0],X[1],alpha=0.5,label=label)\n",
    "    \n",
    "   # plt.title()\n",
    "   # cbar = plt.colorbar()\n",
    "   # cbar.set_label(\"Rescaled price of a diamond\")\n",
    "   # plt.jet()\n",
    "\n",
    "##----------------\n",
    "    label = F\"Number of depicted samples: {len(y)}\"\n",
    "    cntr = ax.scatter(X[0],X[1],cmap='jet',label = label)\n",
    "\n",
    "    fig.colorbar(cntr, cax=cax, orientation='vertical',label=\"Rescaled price of a diamond\")\n",
    "    ax.set_title(label=\"Projected data visualization\",fontsize=17)\n",
    "    ax.scatter(*X.T, color='k', label='datapoints')\n",
    "    ax.legend(loc='best', fontsize=18);\n",
    "\n",
    " \n",
    "\n",
    "    # YOUR CODE HERE\n",
    "    "
   ]
  },
  {
   "cell_type": "code",
   "execution_count": 264,
   "metadata": {
    "deletable": false,
    "editable": false,
    "nbgrader": {
     "cell_type": "code",
     "checksum": "2bafc75a992428fe32637b8945ce4b73",
     "grade": false,
     "grade_id": "cell-4a248ffea183b664",
     "locked": true,
     "schema_version": 3,
     "solution": false,
     "task": false
    }
   },
   "outputs": [
    {
     "data": {
      "image/png": "[encoded data removed]",
      "text/plain": [
       "<Figure size 1008x576 with 2 Axes>"
      ]
     },
     "metadata": {
      "needs_background": "light"
     },
     "output_type": "display_data"
    }
   ],
   "source": [
    "plot_projected_data(X_train_pca, y_train_scaled)"
   ]
  },
  {
   "cell_type": "markdown",
   "metadata": {
    "deletable": false,
    "editable": false,
    "nbgrader": {
     "cell_type": "markdown",
     "checksum": "81c8c3fe797265c804119e2d597483d8",
     "grade": false,
     "grade_id": "cell-96f5c81d90e76638",
     "locked": true,
     "schema_version": 3,
     "solution": false,
     "task": false
    }
   },
   "source": [
    "### Exercise 2.3: Plotting the explained variance of the PCA components\n",
    "\n",
    "Now, we are going to plot the cumulative explained variance of each principal component (PC). Your function will receive a fitted PCA instance and your job is to plot the explained variance ratio, as more and more PCs are added. Furthermore, your function will plot a horizontal line representing a specific threshold value. The title of the plot should be \"Cumulative explained variance ratio over M components\" where M is the number number of dimensions in the original data, and a green dashed vertical line, should be plotted in the line where the cumulative explained ratio is greater that the threshold.\n",
    "\n",
    "Below you will find a reference plot:\n",
    "\n",
    "<img src='images/ex22.png'>"
   ]
  },
  {
   "cell_type": "code",
   "execution_count": null,
   "metadata": {
    "deletable": false,
    "editable": false,
    "nbgrader": {
     "cell_type": "code",
     "checksum": "0fd585b3b17b9ccc70985e99912e077a",
     "grade": false,
     "grade_id": "cell-cff690c39f626eda",
     "locked": true,
     "schema_version": 3,
     "solution": false,
     "task": false
    }
   },
   "outputs": [],
   "source": [
    "pca = PCA().fit(X_train)"
   ]
  },
  {
   "cell_type": "code",
   "execution_count": null,
   "metadata": {
    "deletable": false,
    "nbgrader": {
     "cell_type": "code",
     "checksum": "68614433e3c68f09124a1f0578c59feb",
     "grade": true,
     "grade_id": "cell-aaa27abe75ef63ba",
     "locked": false,
     "points": 0,
     "schema_version": 3,
     "solution": true,
     "task": false
    }
   },
   "outputs": [],
   "source": [
    "def plot_explained_variance_ratio(pca: PCA, threshold: float):\n",
    "    plt.figure(figsize=(8, 4))\n",
    "    # YOUR CODE HERE\n",
    "    raise NotImplementedError(\"Replace this line with your code\")\n",
    "    # YOUR CODE HERE\n",
    "    "
   ]
  },
  {
   "cell_type": "code",
   "execution_count": null,
   "metadata": {
    "deletable": false,
    "editable": false,
    "nbgrader": {
     "cell_type": "code",
     "checksum": "68c15074e57991352ab34c67d18678c4",
     "grade": false,
     "grade_id": "cell-7b16e5c21e0de264",
     "locked": true,
     "schema_version": 3,
     "solution": false,
     "task": false
    }
   },
   "outputs": [],
   "source": [
    "plot_explained_variance_ratio(pca, 0.9)"
   ]
  },
  {
   "cell_type": "code",
   "execution_count": null,
   "metadata": {},
   "outputs": [],
   "source": []
  }
 ],
 "metadata": {
  "kernelspec": {
   "display_name": "Python 3 (ipykernel)",
   "language": "python",
   "name": "python3"
  },
  "language_info": {
   "codemirror_mode": {
    "name": "ipython",
    "version": 3
   },
   "file_extension": ".py",
   "mimetype": "text/x-python",
   "name": "python",
   "nbconvert_exporter": "python",
   "pygments_lexer": "ipython3",
   "version": "3.9.7"
  }
 },
 "nbformat": 4,
 "nbformat_minor": 4
}
