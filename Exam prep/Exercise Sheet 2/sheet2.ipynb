{
 "cells": [
  {
   "cell_type": "markdown",
   "metadata": {},
   "source": [
    "## Before you start working on the exercise\n",
    "\n",
    "- Use Python version 3.7 up to 3.9. Make sure not to use Python 3.10\n",
    "- It is highly recommended to create a virtual environment for this course. You can find resources on how to create a virtual environment on the ISIS page of the course.\n",
    "- Make sure that no assertions fail or exceptions occur, otherwise points will be subtracted.\n",
    "- Use all the variables given to a function unless explicitly stated otherwise. If you are not using a variable you are doing something wrong.\n",
    "- Read the **whole** task description before starting with your solution.\n",
    "- After you submit the notebook more tests will be run on your code. The fact that no assertions fail on your computer locally does not guarantee that you completed the exercise correctly.\n",
    "- Please submit only the notebook file with its original name. If you do not submit an `ipynb` file you will fail the exercise.\n",
    "- Edit only between YOUR CODE HERE and END YOUR CODE.\n",
    "- Verify that no syntax errors are present in the file.\n",
    "- Before uploading your submission, make sure everything runs as expected. First, restart the kernel (in the menubar, select Kernel\\Restart) and then run all cells (in the menubar, select Cell\\Run All)."
   ]
  },
  {
   "cell_type": "code",
   "execution_count": null,
   "metadata": {},
   "outputs": [],
   "source": [
    "import sys\n",
    "\n",
    "if (3,7) <= sys.version_info[:2] <= (3, 9):\n",
    "    print(\"Correct Python version\")\n",
    "else:\n",
    "    print(f\"You are using a wrong version of Python: {'.'.join(map(str,sys.version_info[:3]))}\")"
   ]
  },
  {
   "cell_type": "markdown",
   "metadata": {},
   "source": [
    "# Exercise Sheet 2: Timing, Numpy, Plotting\n",
    "\n",
    "The previous exercise sheet introduced several methods for classification: decision trees, nearest neighbors, and nearest means. Of those, the one that could learn from the data, and that also offered enough complexity to produce an accurate decision function was k-nearest neighbors. However, nearest neighbors can be slow when implemented in pure Python (i.e. with loops). This is especially the case when the number of data points or input dimensions is large.\n",
    "\n",
    "In this exercise sheet, we will speed up nearest neighbors by utilizing `numpy`, `scipy` and `scikit-learn` (sklearn) packages. Your task will be to **replace list-based operations by vector-based operations** between numpy arrays. The speed and correctness of the implementations will then be tested. In particular, performance graphs will be drawn using the library `matplotlib`.\n",
    "\n",
    "Make sure to have installed all the required packages (numpy, scipy, sklearn). For this you can use `conda install <package>` or `pip install <package>`.\n",
    "\n",
    "e.g. (-U will upgrade the package version if already installed)\n",
    "\n",
    "`pip install -U numpy scipy scikit-learn matplotlib`"
   ]
  },
  {
   "cell_type": "code",
   "execution_count": null,
   "metadata": {},
   "outputs": [],
   "source": [
    "try:\n",
    "    import numpy\n",
    "    import scipy\n",
    "    import sklearn\n",
    "    import matplotlib\n",
    "except ImportError:\n",
    "    print(\"Please install NumPy, SciPy, scikit-learn and matplotlib using the instructions above.\")\n",
    "else:\n",
    "    numpy_version = tuple(map(int, numpy.__version__.split(\".\")))\n",
    "    scipy_version = tuple(map(int, scipy.__version__.split(\".\")))\n",
    "    sklearn_version = tuple(map(int, sklearn.__version__.split(\".\")))\n",
    "    matplotlib_version = tuple(map(int, matplotlib.__version__.split('.')))\n",
    "    if numpy_version >= (1, 18, 0):\n",
    "        print(f\"NumPy version ok! {numpy_version}\")\n",
    "    else:\n",
    "        print(f\"Your NumPy version is too old!!! {numpy_version}\")\n",
    "\n",
    "    if scipy_version >= (1, 6, 0):\n",
    "        print(f\"SciPy version ok! {scipy_version}\")\n",
    "    else:\n",
    "        print(f\"Your SciPy version is too old!!! {scipy_version}\")\n",
    "\n",
    "    if sklearn_version >= (1, 0, 0):\n",
    "        print(f\"sklearn version ok! {sklearn_version}\")\n",
    "    else:\n",
    "        print(f\"Your sklearn version is too old!!! {sklearn_version}\")\n",
    "\n",
    "    if matplotlib_version >= (3,4,0):\n",
    "        print(f'matplotlib version ok! {matplotlib_version}')\n",
    "    else:\n",
    "        print(f\"Your matplotlib version is too old!!! {sklearn_version}\")\n",
    "\n",
    "\n",
    "    "
   ]
  },
  {
   "cell_type": "code",
   "execution_count": null,
   "metadata": {
    "deletable": false,
    "editable": false,
    "nbgrader": {
     "cell_type": "code",
     "checksum": "17babb870c10a29b6bfa29a7164c0355",
     "grade": true,
     "grade_id": "cell-171de2800277d76a",
     "locked": true,
     "points": 0,
     "schema_version": 3,
     "solution": false,
     "task": false
    }
   },
   "outputs": [],
   "source": [
    "# This cell is for grading. DO NOT remove it\n",
    "\n",
    "# Use unittest asserts\n",
    "import unittest\n",
    "\n",
    "t = unittest.TestCase()\n",
    "from pprint import pprint\n",
    "from minified import max_allowed_loops, no_imports, no_loops_allowed\n",
    "\n",
    "\n",
    "# These are the type aliases that we define so that do not repeat outselves \n",
    "# in every function definition. You can look in the types.py file to see \n",
    "# the precise type definitions\n",
    "from type_aliases import Dataset, Label, LabelList, DistanceCallable, Vector, NearestCallable\n"
   ]
  },
  {
   "cell_type": "markdown",
   "metadata": {
    "deletable": false,
    "editable": false,
    "nbgrader": {
     "cell_type": "markdown",
     "checksum": "734d4c9ea174b0b1b190e04ffab790aa",
     "grade": false,
     "grade_id": "cell-dcb35deb0f0fe3e5",
     "locked": true,
     "schema_version": 3,
     "solution": false,
     "task": false
    }
   },
   "source": [
    "# Warm Ups\n",
    "\n",
    "Before starting the homework sheet we recommend you finish these warm-up tasks. They won't get you any points but should help you get familiar with Numpy."
   ]
  },
  {
   "cell_type": "code",
   "execution_count": null,
   "metadata": {
    "deletable": false,
    "editable": false,
    "nbgrader": {
     "cell_type": "code",
     "checksum": "8c6cfda8f9725f04c5214d5b5a221410",
     "grade": false,
     "grade_id": "cell-f19ed95518fb539c",
     "locked": true,
     "schema_version": 3,
     "solution": false,
     "task": false
    }
   },
   "outputs": [],
   "source": [
    "import numpy as np\n",
    "\n",
    "np.random.seed(0)  # seed for reproducibility\n",
    "\n",
    "x1 = np.random.randint(10, size=6)  # random one-dimensional integer array\n",
    "x2 = np.random.randint(10, size=(5, 4))  # random two-dimensional integer array"
   ]
  },
  {
   "cell_type": "markdown",
   "metadata": {
    "deletable": false,
    "editable": false,
    "nbgrader": {
     "cell_type": "markdown",
     "checksum": "582a4885e8f9ca35bad249a2fa636183",
     "grade": false,
     "grade_id": "cell-shape",
     "locked": true,
     "schema_version": 3,
     "solution": false,
     "task": false
    }
   },
   "source": [
    "### Shape of an Array (0 P)\n",
    "\n",
    "Write a function that returns the number of rows and the number of columns of an array.\n",
    "\n",
    "* Use the attribute `.shape` that every numpy array has."
   ]
  },
  {
   "cell_type": "code",
   "execution_count": null,
   "metadata": {
    "deletable": false,
    "nbgrader": {
     "cell_type": "code",
     "checksum": "e8e504e4ca7972217ab0e27018ceb9f5",
     "grade": false,
     "grade_id": "cell-e07664db9c1ef581",
     "locked": false,
     "schema_version": 3,
     "solution": true,
     "task": false
    }
   },
   "outputs": [],
   "source": [
    "def array_shape(array):\n",
    "    # YOUR CODE HERE\n",
    "    raise NotImplementedError(\"Replace this line with your code\")\n",
    "    # YOUR CODE HERE\n",
    "    \n",
    "    return number_of_rows, number_of_columns"
   ]
  },
  {
   "cell_type": "code",
   "execution_count": null,
   "metadata": {
    "deletable": false,
    "editable": false,
    "nbgrader": {
     "cell_type": "code",
     "checksum": "48f58a5ef6f7e94f4b5c7947c4393e07",
     "grade": true,
     "grade_id": "cell-66ed740c21d7b0da",
     "locked": true,
     "points": 0,
     "schema_version": 3,
     "solution": false,
     "task": false
    }
   },
   "outputs": [],
   "source": [
    "# Test array_shape function\n",
    "x1_number_of_rows, x1_number_of_columns = array_shape(x1)\n",
    "x2_number_of_rows, x2_number_of_columns = array_shape(x2)\n",
    "\n",
    "t.assertEqual(x1_number_of_rows, 6)\n",
    "t.assertEqual(x1_number_of_columns, 0)\n",
    "t.assertEqual(x2_number_of_rows, 5)\n",
    "t.assertEqual(x2_number_of_columns, 4)"
   ]
  },
  {
   "cell_type": "markdown",
   "metadata": {
    "deletable": false,
    "editable": false,
    "nbgrader": {
     "cell_type": "markdown",
     "checksum": "b28feb8575d39c258aae28e7c4b21e44",
     "grade": false,
     "grade_id": "cell-indexing",
     "locked": true,
     "schema_version": 3,
     "solution": false,
     "task": false
    }
   },
   "source": [
    "### Indexing (0 P)\n",
    "\n",
    "Return subarrays of the given arrays according to the conditions. Use array indexing e.g. `x1[1:5:-2]` instead of  loops or hardcoding the solutions.\n",
    "\n",
    "* Save the second to last element of `x1` in the variable `x1_second_to_last`.\n",
    "* Save a subarray that has every other element of `x1` in the variable `x1_every_other_element`.\n",
    "* Save a reversed `x1` in the variable `x1_reversed`.\n",
    "* Save the element in row 3 and column 2 of `x2` in the variable `x2_element_in_row_3_and_column_2`. Please note that since indexing starts at zero so row 3 is actually the forth row.\n",
    "* Save a subarray/matrix that contains rows 2 to 4 and columns 0 to 3 of `x2` in the variable `x2_rows_2_to_4_columns_0_to_3`. In this case row 4 and column 3 should be INCLUDED.\n",
    "\n",
    "Try **not** to use the shape or length of an array for this exercise"
   ]
  },
  {
   "cell_type": "code",
   "execution_count": null,
   "metadata": {
    "deletable": false,
    "nbgrader": {
     "cell_type": "code",
     "checksum": "cebb4333e50fb85beed6f0dd9e3a0a5b",
     "grade": false,
     "grade_id": "cell-89d11e075e720162",
     "locked": false,
     "schema_version": 3,
     "solution": true,
     "task": false
    }
   },
   "outputs": [],
   "source": [
    "# YOUR CODE HERE\n",
    "raise NotImplementedError(\"Replace this line with your code\")\n",
    "# YOUR CODE HERE\n"
   ]
  },
  {
   "cell_type": "code",
   "execution_count": null,
   "metadata": {
    "deletable": false,
    "editable": false,
    "nbgrader": {
     "cell_type": "code",
     "checksum": "58274d92bbae4899f417eaeac05a0d93",
     "grade": true,
     "grade_id": "cell-3c1afc7af5cfe5b6",
     "locked": true,
     "points": 0,
     "schema_version": 3,
     "solution": false,
     "task": false
    }
   },
   "outputs": [],
   "source": [
    "# Test indexing solutions\n",
    "t.assertEqual(x1_second_to_last, 7)\n",
    "np.testing.assert_allclose(x1_every_other_element, np.array((5, 3, 7)))\n",
    "np.testing.assert_allclose(x1_reversed, np.array((9, 7, 3, 3, 0, 5)))\n",
    "t.assertEqual(x2_element_in_row_3_and_column_2, 5)\n",
    "np.testing.assert_allclose(\n",
    "    x2_rows_2_to_4_columns_0_to_3, np.array(((1, 6, 7, 7), (8, 1, 5, 9), (8, 9, 4, 3)))\n",
    ")"
   ]
  },
  {
   "cell_type": "markdown",
   "metadata": {
    "deletable": false,
    "editable": false,
    "nbgrader": {
     "cell_type": "markdown",
     "checksum": "e4466824a9fe663d92e660dbac985ffb",
     "grade": false,
     "grade_id": "cell-broadcasting",
     "locked": true,
     "schema_version": 3,
     "solution": false,
     "task": false
    }
   },
   "source": [
    "### Broadcasting (0 P)\n",
    "\n",
    "Understanding broadcasting is an important part of understanding numpy.\n",
    "\n",
    "* Using `np.newaxis`, turn `array_a` into a column-vector and save the result in the variable `array_a_to_column_vector`.\n",
    "* Add the one-dimensional `array_a` and the two dimensional `array_b` together. Do not use any function and only the `+` operator.\n",
    "* Add the one-dimensional `array_a` and the two dimensional `array_c` together. Now it is important to use broadcasting since the dimensions of the two arrays do not match: `array_a.shape = (3,)` and `array_c.shape = (3,2).` Addition would work if the shape of `array_a` would be `(3,1)`."
   ]
  },
  {
   "cell_type": "code",
   "execution_count": null,
   "metadata": {
    "deletable": false,
    "editable": false,
    "nbgrader": {
     "cell_type": "code",
     "checksum": "f4331be17882d3a4d1b1726a11f76f59",
     "grade": false,
     "grade_id": "cell-a36dc615004cfd09",
     "locked": true,
     "schema_version": 3,
     "solution": false,
     "task": false
    }
   },
   "outputs": [],
   "source": [
    "array_a = np.ones(3)\n",
    "array_b = np.arange(6).reshape((2, 3))\n",
    "array_c = np.arange(6).reshape((3, 2))"
   ]
  },
  {
   "cell_type": "code",
   "execution_count": null,
   "metadata": {
    "deletable": false,
    "nbgrader": {
     "cell_type": "code",
     "checksum": "d99a310d1ff00eba6b3706421e219e2f",
     "grade": false,
     "grade_id": "cell-d57ff98895236755",
     "locked": false,
     "schema_version": 3,
     "solution": true,
     "task": false
    }
   },
   "outputs": [],
   "source": [
    "# YOUR CODE HERE\n",
    "raise NotImplementedError(\"Replace this line with your code\")\n",
    "# YOUR CODE HERE\n"
   ]
  },
  {
   "cell_type": "code",
   "execution_count": null,
   "metadata": {
    "deletable": false,
    "editable": false,
    "nbgrader": {
     "cell_type": "code",
     "checksum": "ffd110b5d7f5ee22ce306c8766804c4f",
     "grade": true,
     "grade_id": "cell-cc2f5a56943f08eb",
     "locked": true,
     "points": 0,
     "schema_version": 3,
     "solution": false,
     "task": false
    }
   },
   "outputs": [],
   "source": [
    "# Test broadcasting solutions\n",
    "np.testing.assert_allclose(array_a_to_column_vector, np.ones(3).reshape(3, 1))\n",
    "np.testing.assert_allclose(array_a_plus_array_b, np.array(((1, 2, 3), (4, 5, 6))))\n",
    "np.testing.assert_allclose(array_a_plus_array_c, np.array(((1, 2), (3, 4), (5, 6))))"
   ]
  },
  {
   "cell_type": "markdown",
   "metadata": {},
   "source": [
    "## Python Nearest Neighbor\n",
    "\n",
    "The most basic element of computation of nearest neighbors is its distance function relating two arbitrary data points `x1` and `x2`. We assume that these points are iterable (i.e. we can use a loop over their dimensions). One way among others to compute the **square** Euclidean distance between two points is by computing the sum of the component-wise distances."
   ]
  },
  {
   "cell_type": "code",
   "execution_count": null,
   "metadata": {
    "deletable": false,
    "editable": false,
    "nbgrader": {
     "cell_type": "code",
     "checksum": "c2c2b707be8e59afe1fc83d7898a4e38",
     "grade": false,
     "grade_id": "cell-1b37d48b31ec0e79",
     "locked": true,
     "schema_version": 3,
     "solution": false
    }
   },
   "outputs": [],
   "source": [
    "def pydistance(x1: Vector, x2: Vector) -> float:\n",
    "    \"\"\"\n",
    "    Calculates the square euclidean distance between two data points x1, x2\n",
    "\n",
    "    Args:\n",
    "        x1, x2: Two vectors (ndim=1) for which we want to calculate the distance\n",
    "            `len(x1) == len(x2)` will always be True\n",
    "\n",
    "    Returns:\n",
    "        float: The square eucleadian distance between the two vectors\n",
    "    \"\"\"\n",
    "    assert len(x1) == len(x2)\n",
    "    return sum([(x1d - x2d) ** 2 for x1d, x2d in zip(x1, x2)])"
   ]
  },
  {
   "cell_type": "code",
   "execution_count": null,
   "metadata": {
    "deletable": false,
    "editable": false,
    "nbgrader": {
     "cell_type": "code",
     "checksum": "988e75f0baeff10ab908f0051c75b9fa",
     "grade": false,
     "grade_id": "cell-ff985f08d0627b23",
     "locked": true,
     "schema_version": 3,
     "solution": false,
     "task": false
    }
   },
   "outputs": [],
   "source": [
    "x1, x2 = [1, 4, 3, 2], [4, 8, -2, 2]\n",
    "print(f\"pydistance({x1}, {x1}) --> {pydistance(x1, x1)}\")\n",
    "print(f\"pydistance({x1}, {x2}) --> {pydistance(x1, x2)}\")"
   ]
  },
  {
   "cell_type": "markdown",
   "metadata": {},
   "source": [
    "where we use the prefix \"`py-`\" of the function to indicate that the latter makes use of pure `Python` instead of `numpy`. Once the distance matrix has been implemented, the nearest neighbor for a given unlabeled point `u` that we would like to classify is obtained by iterating over all points in the training set `(X, Y)`, selecting the point with smallest distance to `u`, and returning its corresponding label. Here `X` denotes the list of inputs in the training set and `Y` denotes the list of labels."
   ]
  },
  {
   "cell_type": "code",
   "execution_count": null,
   "metadata": {
    "deletable": false,
    "editable": false,
    "nbgrader": {
     "cell_type": "code",
     "checksum": "9ae0777ab744a70d7d4ff9883e5beb93",
     "grade": false,
     "grade_id": "cell-66259b233d864979",
     "locked": true,
     "schema_version": 3,
     "solution": false
    }
   },
   "outputs": [],
   "source": [
    "def pynearest(\n",
    "    u: Vector, X: Dataset, Y: LabelList, distance: DistanceCallable = pydistance\n",
    ") -> Label:\n",
    "    \"\"\"\n",
    "    Applies the nearest neighbour to the input `u`\n",
    "    with training set `X` and labels `Y`. The\n",
    "    distance metric can be specified using the\n",
    "    `distance` argument.\n",
    "\n",
    "    Args:\n",
    "        u: The input vector for which we want a prediction\n",
    "        X: A 2 dimensional list containing the trainnig set\n",
    "        Y: A list containing the labels for each vector in the training set\n",
    "        distance: The distance metric. By default the `pydistance` function\n",
    "\n",
    "    Returns:\n",
    "        int: The label of the closest datapoint to u in X\n",
    "    \"\"\"\n",
    "    _, closest_point_label = min(zip(X, Y), key=lambda xy: distance(u, xy[0]))\n",
    "    return closest_point_label"
   ]
  },
  {
   "cell_type": "markdown",
   "metadata": {},
   "source": [
    "Note that this function either uses function `pydistance` (given as default if the argument distance is not specified). Or one could specify as argument a more optimized function for distance compuation, for example, one that uses `numpy`. Finally, one might not be interested in classifying a single point, but many of them. The method below receives a collection of such unlabeled test points stored in the variable `U`. The function returns a list of predictions associated to each test point."
   ]
  },
  {
   "cell_type": "code",
   "execution_count": null,
   "metadata": {
    "deletable": false,
    "editable": false,
    "nbgrader": {
     "cell_type": "code",
     "checksum": "950e8b4dd3fcdb4da2aa4d3361641f23",
     "grade": false,
     "grade_id": "cell-1673d3f81bce46ae",
     "locked": true,
     "schema_version": 3,
     "solution": false
    }
   },
   "outputs": [],
   "source": [
    "def pybatch(\n",
    "    U: Dataset,\n",
    "    X: Dataset,\n",
    "    Y: LabelList,\n",
    "    nearest: NearestCallable = pynearest,\n",
    "    distance: DistanceCallable = pydistance,\n",
    ") -> LabelList:\n",
    "    \"\"\"\n",
    "    Applies the nearest neighbor algorithm, to all the datapoints\n",
    "    `u` $\\in$ `U`, with `X` the training set and `Y` the labels.\n",
    "    Both the distance metric and the method of finding the\n",
    "    neearest neighbor can be specified.\n",
    "\n",
    "    Args:\n",
    "        U: List of vectors for which a prediction is desired.\n",
    "        X: A 2 dimensional list containing the trainnig set\n",
    "        Y: A list containing the labels for each vector in the training set\n",
    "        nearest: The method by which the nearest neighbor search happens.\n",
    "        distance: The distance metric. By default the `pydistance` function\n",
    "\n",
    "    Returns:\n",
    "        A list of predicted labels for each `u` $\\in$ `U`\n",
    "    \"\"\"\n",
    "    return [nearest(u, X, Y, distance=distance) for u in U]"
   ]
  },
  {
   "cell_type": "markdown",
   "metadata": {
    "deletable": false,
    "editable": false,
    "nbgrader": {
     "cell_type": "markdown",
     "checksum": "945dd762c5dc7444a0c1c781f4ad1388",
     "grade": false,
     "grade_id": "cell-135aa27802ed5903",
     "locked": true,
     "schema_version": 3,
     "solution": false,
     "task": false
    }
   },
   "source": [
    "Again, such function uses by default the Python nearest neighbor search (with a specified distance function). However, we can also specified a more optimized nearest neighbor function, for example, based on `numpy`. Finally, one could consider an alternative function to `pybatch` that would use `numpy` from the beginning to the end. The implementation of such more optimized functions, and the testing of their correct behavior and higher performance will be the objective of this exercise sheet."
   ]
  },
  {
   "cell_type": "markdown",
   "metadata": {
    "deletable": false,
    "editable": false,
    "nbgrader": {
     "cell_type": "markdown",
     "checksum": "9aebdb6c01e4c84f6b3c02f416e31534",
     "grade": false,
     "grade_id": "cell-14a3ae199f89a93b",
     "locked": true,
     "schema_version": 3,
     "solution": false,
     "task": false
    }
   },
   "source": [
    "## Testing and correctness\n",
    "\n",
    "As a starting point, the code below tests the output of the nearest neighbor algorithm for some toy dataset with fixed parameters. In particular, the function `data.toy(M,N,d)` generates a problem with `M` unlabeled test points stored in a matrix `U` of size `(M x d)`, then `N` labeled training points stored in a matrix `X` of size `(N x d)` and the output label is stored in a vector `Y` of size `N` composed of zeros and ones encoding the two possible classes. The variable `d` denotes the number of dimensions of each point. The toy dataset is pseudo-random, that is, for fixed parameters, it produce a random-looking dataset, but every time the method is called with the same parameters, the dataset is the same. The pseudo-randomness property will be useful to verify that each nearest neighbor implementation performs the same overall computation. Please check the `data.py` file within the exercise folder for the implementation details. "
   ]
  },
  {
   "cell_type": "code",
   "execution_count": null,
   "metadata": {
    "deletable": false,
    "editable": false,
    "nbgrader": {
     "cell_type": "code",
     "checksum": "5c6eced35acc3f160e3f3fe17fdee206",
     "grade": false,
     "grade_id": "cell-79632e7653dd78cc",
     "locked": true,
     "schema_version": 3,
     "solution": false
    }
   },
   "outputs": [],
   "source": [
    "import os\n",
    "\n",
    "if \"data.py\" not in os.listdir():\n",
    "    t.fail(\"Did you download the 'data.py' file from ISIS?\")\n",
    "\n",
    "\n",
    "import data\n",
    "\n",
    "U, X, Y = data.toy(20, 100, 50)\n",
    "\n",
    "print(f\"Shape of U (unlabeled datapoints): {U.shape}\")\n",
    "print(f\"Shape of X (training set): {X.shape}\")\n",
    "print(f\"Shape of Y (labels): {Y.shape}\")\n",
    "print(f\"Predictions: {pybatch(U, X, Y)}\")"
   ]
  },
  {
   "cell_type": "markdown",
   "metadata": {},
   "source": [
    "In particular, the output of this function will help us to verify that the more optimized `numpy`-based versions of nearest neighbor are still valid."
   ]
  },
  {
   "cell_type": "markdown",
   "metadata": {},
   "source": [
    "## Plotting and performance\n",
    "\n",
    "We now describe how to build a plot that relates a certain parameter of the dataset (e.g. the number of input dimensions `d` to the time required for the computation. We first initialize the basic plotting environment."
   ]
  },
  {
   "cell_type": "code",
   "execution_count": null,
   "metadata": {
    "deletable": false,
    "editable": false,
    "nbgrader": {
     "cell_type": "code",
     "checksum": "6b2f8607d06eca803fe6233e9b0ae253",
     "grade": false,
     "grade_id": "cell-3e98261adc6d0079",
     "locked": true,
     "schema_version": 3,
     "solution": false,
     "task": false
    }
   },
   "outputs": [],
   "source": [
    "import matplotlib\n",
    "from matplotlib import pyplot as plt\n",
    "\n",
    "%matplotlib inline"
   ]
  },
  {
   "cell_type": "markdown",
   "metadata": {},
   "source": [
    "The command \"`%matplotlib inline`\" tells IPython notebook that the plots should be rendered inside the notebook. \n",
    "\n",
    "The following code plots the computation time of predicting `100` points from the test set using a training set of size `100`, and where we vary the number of input dimensions. The measurement of time happens with the `timeit` module. `timeit` provides many convinience functions for benchmarking. In particular the repeat function runs the provided code many times and returns the time it took to run it. You can find more information about `repeat` [here](https://docs.python.org/3/library/timeit.html#timeit.repeat)"
   ]
  },
  {
   "cell_type": "code",
   "execution_count": null,
   "metadata": {
    "deletable": false,
    "editable": false,
    "nbgrader": {
     "cell_type": "code",
     "checksum": "48c58583fc1d69f3a823a45b66b14c8a",
     "grade": false,
     "grade_id": "cell-46485712351bdfcf",
     "locked": true,
     "schema_version": 3,
     "solution": false
    }
   },
   "outputs": [],
   "source": [
    "import timeit\n",
    "from statistics import mean\n",
    "\n",
    "# Values for the number of dimensions d to test\n",
    "dlist = [1, 2, 5, 10, 20, 50, 100, 200, 500]\n",
    "\n",
    "# Measure the computation time for each choice of number of dimensions d\n",
    "tlist = []\n",
    "for d in dlist:\n",
    "    U, X, Y = data.toy(100, 100, d)\n",
    "    # get the average of three runs\n",
    "    delta = mean(timeit.repeat(lambda: pybatch(U, X, Y), number=1, repeat=3))\n",
    "    tlist.append(delta)\n",
    "\n",
    "# Plot the results in a graph\n",
    "fig = plt.figure(figsize=(5, 3))\n",
    "plt.plot(dlist, tlist, \"-o\")\n",
    "plt.xscale(\"log\")\n",
    "plt.yscale(\"log\")\n",
    "plt.xlabel(\"d\")\n",
    "plt.ylabel(\"time\")\n",
    "plt.grid(True)"
   ]
  },
  {
   "cell_type": "markdown",
   "metadata": {},
   "source": [
    "The time on the vertical axis is in seconds. Note that the exact computation time depends on the speed of your computer. As expected, the computation time increases with the number of input dimensions. Unfortunately, for the small dataset considered here (`100` training and test points of `100` dimensions each), the algorithm already takes more than one second to execute. Thus, it is necessary for practical applications (e.g. the digit recognition task that we will consider at the end of this exercise sheet) to accelerate this nearest neighbor algorithm."
   ]
  },
  {
   "cell_type": "markdown",
   "metadata": {},
   "source": [
    "## 1. Accelerating the distance computation (25 P)\n",
    "\n",
    "In this first exercise, we would like to accelerate the function that compute pairwise distances.\n",
    "\n",
    "**a)** Implement the function `npdistance(x1,x2)` with the same output as `pydistance(x1,x2)`, but that computes the squared Euclidean distance using `numpy` operations. Verify that in both cases (i.e. using either `npdistance` or `pydistance` in the function `pybatch`) the output for the above toy example with parameters `M=20`, `N=100`, `d=50` (i.e. `data.toy(20,100,50)`) remains the same.\n",
    "\n",
    "Our goal with this exercise is to speed-up our code. In practice this means that we want to remove for loops from our code. Therefore if your implementation contains a `for loop` it will automatically be considered wrong and will receive 0 points. Similarlly Python functions that hide for loops such as `map` are also considered invalid for this exercise. Similarly, functions provided by numpy that hide for loops like [`vectorize`](https://docs.scipy.org/doc/numpy/reference/generated/numpy.vectorize.html) and [`apply_along_axis`](https://docs.scipy.org/doc/numpy/reference/generated/numpy.apply_along_axis.html) are also **not** to be used. Further the builtin function `sum` is not allowed to be used, however `np.sum` can be used.\n",
    "\n",
    "**Note**: The input vectors can be either `np.ndarray` or lists of `floats`."
   ]
  },
  {
   "cell_type": "code",
   "execution_count": null,
   "metadata": {
    "deletable": false,
    "editable": false,
    "nbgrader": {
     "cell_type": "code",
     "checksum": "91933c169c296cd5adf4423f6c546c8d",
     "grade": false,
     "grade_id": "cell-fa1a467b96b2e24c",
     "locked": true,
     "schema_version": 3,
     "solution": false,
     "task": false
    }
   },
   "outputs": [],
   "source": [
    "import numpy as np"
   ]
  },
  {
   "cell_type": "code",
   "execution_count": null,
   "metadata": {
    "deletable": false,
    "nbgrader": {
     "cell_type": "code",
     "checksum": "06ee5c3b299fdd70b70a4cf3b7e9de5f",
     "grade": false,
     "grade_id": "cell-19fc7493b2e8f798",
     "locked": false,
     "schema_version": 3,
     "solution": true
    }
   },
   "outputs": [],
   "source": [
    "@no_loops_allowed\n",
    "@no_imports\n",
    "def npdistance(x1: Vector, x2: Vector) -> float:\n",
    "    \"\"\"\n",
    "    Calculates the square euclidean distance between two data points x1, x2\n",
    "    using `numpy` vectorized operations\n",
    "\n",
    "    Args:\n",
    "        x1, x2: Two vectors (ndim=1) for which we want to calculate the distance\n",
    "        `len(x1) == len(x2)` will always be True\n",
    "\n",
    "    Returns:\n",
    "        float: The distance between the two vectors x1, x2\n",
    "    \"\"\"\n",
    "    # YOUR CODE HERE\n",
    "    raise NotImplementedError(\"Replace this line with your code\")\n",
    "    # YOUR CODE HERE\n",
    "    "
   ]
  },
  {
   "cell_type": "code",
   "execution_count": null,
   "metadata": {
    "deletable": false,
    "editable": false,
    "nbgrader": {
     "cell_type": "code",
     "checksum": "7767298ead75c684d2294fbcd036a7b0",
     "grade": true,
     "grade_id": "cell-bf963bc80a4dfff6",
     "locked": true,
     "points": 20,
     "schema_version": 3,
     "solution": false
    }
   },
   "outputs": [],
   "source": [
    "# Verify your function\n",
    "x1, x2 = [0.0, -1.0, -2.0], [2.0, 3.0, 4.0]\n",
    "\n",
    "dist_to_same = npdistance(x1, x1)\n",
    "print(f\"npdistance({x1}, {x1}) --> {dist_to_same}\\n\")\n",
    "expected_dist_to_same = 0.0\n",
    "t.assertAlmostEqual(\n",
    "    dist_to_same,\n",
    "    expected_dist_to_same,\n",
    "    msg=\"The distance of a vector to itself should be 0\",\n",
    ")\n",
    "\n",
    "\n",
    "dist = npdistance(x1, x2)\n",
    "print(f\"npdistance({x1}, {x2}) --> {dist}\")\n",
    "expected_dist = pydistance(x1, x2)\n",
    "print(f\"expected_dist --> {expected_dist}\\n\")\n",
    "t.assertAlmostEqual(dist, expected_dist)\n",
    "\n",
    "U, X, Y = data.toy(20, 100, 50)\n",
    "\n",
    "no_numpy = pybatch(U, X, Y, distance=pydistance)\n",
    "print(f\"no_numpy --> {no_numpy}\")\n",
    "\n",
    "w_np_dist = pybatch(U, X, Y, distance=npdistance)\n",
    "print(f\"w_np_dist  --> {w_np_dist}\")\n",
    "\n",
    "np.testing.assert_allclose(no_numpy, w_np_dist)\n",
    "\n",
    "npdistance.assert_no_imports()\n",
    "npdistance.assert_not_too_many_loops()"
   ]
  },
  {
   "cell_type": "markdown",
   "metadata": {},
   "source": [
    "**b)** Create a plot similar to the one above, but where the computation time required by both methods are shown in a superposed manner. Here, we fix `M=100`, `N=100`, and we let `d` vary from `1` to `500`, taking the list of values `[1, 2, 5, 10, 20, 50, 100, 200, 500]`. Your plot should show a quisi-constant runtime for the pybarch call using the `npdistance` function, compared to `pydistance`."
   ]
  },
  {
   "cell_type": "code",
   "execution_count": null,
   "metadata": {
    "deletable": false,
    "nbgrader": {
     "cell_type": "code",
     "checksum": "35f36f252044ea0a86bf6fde93ece840",
     "grade": true,
     "grade_id": "cell-42315eeb7aedb147",
     "locked": false,
     "points": 5,
     "schema_version": 3,
     "solution": true,
     "task": false
    }
   },
   "outputs": [],
   "source": [
    "# YOUR CODE HERE\n",
    "raise NotImplementedError(\"Replace this line with your code\")\n",
    "# YOUR CODE HERE\n"
   ]
  },
  {
   "cell_type": "markdown",
   "metadata": {},
   "source": [
    "## 2. Accelerating the nearest neighbor search (25 P)\n",
    "\n",
    "Motivated by the success of the `numpy` optimized distance computation, we would like further accelerate the code by performing nearest neighbor search directly in `numpy`.\n",
    "\n",
    "**a)** Implement the function `npnearest(u,X,Y)` as an alternative to the function `pynearest(u,X,Y,distance=npdistance)` that we have used in the previous exercise. Again, verify your function for the same toy example as before (i.e. `data.toy(20,100,50)`).\n",
    "\n",
    "Unlike `pynearest`, `npnearest` doesn't receive any distance argument. `npnearest` will work only with square eucledian distance. If you are confident that your `npdistance` implementation can work between a vector and a matrix, you are welcome to reuse it. It is however, perfectly acceptable to reimplement the distance algorithm in this function again.\n",
    "\n",
    "Once again the use of `for loops`, or functions like `map` or `vectorize` is stictly not allowed in this exercise."
   ]
  },
  {
   "cell_type": "code",
   "execution_count": null,
   "metadata": {},
   "outputs": [],
   "source": [
    "from typing import Any"
   ]
  },
  {
   "cell_type": "code",
   "execution_count": null,
   "metadata": {
    "deletable": false,
    "nbgrader": {
     "cell_type": "code",
     "checksum": "c47ca06f1f811240a944b36368617dda",
     "grade": false,
     "grade_id": "cell-abf6acbfd89109a2",
     "locked": false,
     "schema_version": 3,
     "solution": true
    }
   },
   "outputs": [],
   "source": [
    "@no_loops_allowed\n",
    "@no_imports\n",
    "def npnearest(u: Vector, X: Dataset, Y: LabelList, *args: Any, **kwargs: Any) -> int:\n",
    "    \"\"\"\n",
    "    Finds x1 so that x1 is in X and u and x1 have a minimal distance (according to the\n",
    "    provided distance function) compared to all other data points in X. Returns the label of x1\n",
    "\n",
    "    Args:\n",
    "        u: The vector (ndim=1) we want to classify\n",
    "        X: A matrix (ndim=2) with training data points (vectors)\n",
    "        Y: A vector containing the label of each data point in X\n",
    "        args, kwargs  : Ignored. Only for compatibility with pybatch\n",
    "\n",
    "    Returns:\n",
    "        The label of the data point which is closest to `u`\n",
    "    \"\"\"\n",
    "    # YOUR CODE HERE\n",
    "    raise NotImplementedError(\"Replace this line with your code\")\n",
    "    # YOUR CODE HERE\n",
    "    "
   ]
  },
  {
   "cell_type": "code",
   "execution_count": null,
   "metadata": {
    "deletable": false,
    "editable": false,
    "nbgrader": {
     "cell_type": "code",
     "checksum": "b3770212cffb985d7520177c789fa014",
     "grade": true,
     "grade_id": "cell-9621f0349d332a46",
     "locked": true,
     "points": 15,
     "schema_version": 3,
     "solution": false
    }
   },
   "outputs": [],
   "source": [
    "TINY_U, TINY_X, TINY_Y = data.toy(3, 3, 3)\n",
    "tiny_u = TINY_U[0]\n",
    "print(\"u\")\n",
    "pprint(tiny_u)\n",
    "print(\"\\nX\")\n",
    "pprint(TINY_X)\n",
    "print(\"\\nY\")\n",
    "pprint(TINY_Y)\n",
    "\n",
    "np_nearest = npnearest(tiny_u, TINY_X, TINY_Y)\n",
    "expected_nearest = pynearest(tiny_u, TINY_X, TINY_Y)\n",
    "print(f\"\\nnp_nearest --> {np_nearest}\")\n",
    "print(f\"expected_nearest --> {expected_nearest}\")\n",
    "\n",
    "t.assertEqual(expected_nearest, np_nearest)\n",
    "\n",
    "# Verify your function\n",
    "np.testing.assert_allclose(\n",
    "    pybatch(U, X, Y, nearest=pynearest), pybatch(U, X, Y, nearest=npnearest)\n",
    ")\n",
    "\n",
    "npnearest.assert_no_imports()\n",
    "npnearest.assert_not_too_many_loops()"
   ]
  },
  {
   "cell_type": "code",
   "execution_count": null,
   "metadata": {
    "deletable": false,
    "editable": false,
    "nbgrader": {
     "cell_type": "code",
     "checksum": "523d6ac920e9fb9625c32081558f716e",
     "grade": true,
     "grade_id": "cell-6d51db56056a74b0",
     "locked": true,
     "points": 0,
     "schema_version": 3,
     "solution": false,
     "task": false
    }
   },
   "outputs": [],
   "source": [
    "# This cell is for grading. DO NOT remove it"
   ]
  },
  {
   "cell_type": "markdown",
   "metadata": {
    "deletable": false,
    "editable": false,
    "nbgrader": {
     "cell_type": "markdown",
     "checksum": "9594e8bf9696a8b8325c94ff3a4a31e3",
     "grade": false,
     "grade_id": "cell-92654906e120fa42",
     "locked": true,
     "schema_version": 3,
     "solution": false,
     "task": false
    }
   },
   "source": [
    "**b)** Create a plot similar to the one above, where the new method is compared to the previous one. This means that you should compare the runtime of `npnearest` and `pynearest` with `npdistance` as its distance function. Here, we fix `M=100`, `d=100`, and we let `N` take different values `[1, 2, 5, 10, 20, 50, 100, 200, 500]`."
   ]
  },
  {
   "cell_type": "code",
   "execution_count": null,
   "metadata": {
    "deletable": false,
    "nbgrader": {
     "cell_type": "code",
     "checksum": "32d751e344f35ddce4d74cec8cac878d",
     "grade": true,
     "grade_id": "cell-c0fdf389a1795330",
     "locked": false,
     "points": 10,
     "schema_version": 3,
     "solution": true,
     "task": false
    }
   },
   "outputs": [],
   "source": [
    "# YOUR CODE HERE\n",
    "raise NotImplementedError(\"Replace this line with your code\")\n",
    "# YOUR CODE HERE\n"
   ]
  },
  {
   "cell_type": "markdown",
   "metadata": {},
   "source": [
    "## 3. Accelerating the processing of multiple test points (25 P)\n",
    "\n",
    "Not yet fully happy with the performance of the algorithm, we would like to further optimize it by avoiding performing a loop on the test points, and instead, classify them all at once.\n",
    "\n",
    "**a)** Implement the function `npbatch(U,X,Y)` as a replacement of the implementation `pybatch(U,X,Y,nearest=npnearest)` that we have built in the previous exercise. Inside this function, use [`scipy.spatial.distance.cdist`](https://docs.scipy.org/doc/scipy/reference/generated/scipy.spatial.distance.cdist.html) for the actual distance computation. Again, verify your function for the same toy example as before (i.e. `data.toy(20,100,50)`)."
   ]
  },
  {
   "cell_type": "code",
   "execution_count": null,
   "metadata": {
    "deletable": false,
    "nbgrader": {
     "cell_type": "code",
     "checksum": "d84b68213c4eb097c7326bd831208351",
     "grade": false,
     "grade_id": "cell-58ebbd1ea052789a",
     "locked": false,
     "schema_version": 3,
     "solution": true
    }
   },
   "outputs": [],
   "source": [
    "import scipy\n",
    "\n",
    "# for some systems we need to import spatial explicitly\n",
    "from scipy.spatial import distance\n",
    "\n",
    "\n",
    "@no_loops_allowed\n",
    "@no_imports\n",
    "def npbatch(U: Dataset, X: Dataset, Y: LabelList, *args: Any, **kwargs: Any) -> np.ndarray:\n",
    "    \"\"\"\n",
    "    This function has the same functionality as the `pybatch` function.\n",
    "    HOWEVER, the distance function is fixed (scipy.spatial.distance.cdist).\n",
    "    It does not use any of the functions defined by us previously.\n",
    "\n",
    "    Args:\n",
    "        U: A matrix (ndim=2) containing multiple vectors which we want to classify\n",
    "        X: A matrix (ndim=2) that represents the training data\n",
    "        Y: A vector (ndim=1) containing the labels for each data point in X\n",
    "\n",
    "        All other arguments are ignored. *args, **kwargs are only there for compatibility\n",
    "        with the `pybatch` function\n",
    "\n",
    "    Returns:\n",
    "        A vector (ndim=1) with the predicted label for each vector $u \\in U$\n",
    "    \"\"\"\n",
    "    # YOUR CODE HERE\n",
    "    raise NotImplementedError(\"Replace this line with your code\")\n",
    "    # YOUR CODE HERE\n",
    "    "
   ]
  },
  {
   "cell_type": "code",
   "execution_count": null,
   "metadata": {
    "deletable": false,
    "editable": false,
    "nbgrader": {
     "cell_type": "code",
     "checksum": "620f2f9814421bb0d38d8863729bb97a",
     "grade": true,
     "grade_id": "cell-bf7e49de5ebddbf3",
     "locked": true,
     "points": 15,
     "schema_version": 3,
     "solution": false
    }
   },
   "outputs": [],
   "source": [
    "print(\"U\")\n",
    "pprint(TINY_U)\n",
    "print(\"\\nX\")\n",
    "pprint(TINY_X)\n",
    "print(\"\\nY\")\n",
    "pprint(TINY_Y)\n",
    "\n",
    "expected_output = pybatch(TINY_U, TINY_X, TINY_Y)\n",
    "print(f\"\\nexpected_output --> {expected_output}\")\n",
    "actual_output = npbatch(TINY_U, TINY_X, TINY_Y)\n",
    "print(f\"actual_output --> {actual_output}\")\n",
    "np.testing.assert_allclose(expected_output, actual_output)\n",
    "\n",
    "U, X, Y = data.toy(20, 100, 50)\n",
    "np.testing.assert_allclose(pybatch(U, X, Y), npbatch(U, X, Y))\n",
    "\n",
    "npbatch.assert_no_imports()\n",
    "npbatch.assert_not_too_many_loops()\n"
   ]
  },
  {
   "cell_type": "code",
   "execution_count": null,
   "metadata": {
    "deletable": false,
    "editable": false,
    "nbgrader": {
     "cell_type": "code",
     "checksum": "5ef27726c3e192aa572b15381ddf9c7b",
     "grade": true,
     "grade_id": "cell-05474610b709fa64",
     "locked": true,
     "points": 0,
     "schema_version": 3,
     "solution": false,
     "task": false
    }
   },
   "outputs": [],
   "source": [
    "# This cell is for grading. DO NOT remove it"
   ]
  },
  {
   "cell_type": "markdown",
   "metadata": {},
   "source": [
    "**b)** Create a plot comparing the computation time of the new implementation compared to the previous one. Here, we fix `N=100`, `d=100`, and we let `M` vary from `1` to `500` with values `[1, 2, 5, 10, 20, 50, 100, 200, 500]`."
   ]
  },
  {
   "cell_type": "code",
   "execution_count": null,
   "metadata": {
    "deletable": false,
    "nbgrader": {
     "cell_type": "code",
     "checksum": "0ba1bc919fef42eca50e061ef2acc4ab",
     "grade": true,
     "grade_id": "cell-6abe7c8024b632f8",
     "locked": false,
     "points": 10,
     "schema_version": 3,
     "solution": true
    }
   },
   "outputs": [],
   "source": [
    "# YOUR CODE HERE\n",
    "raise NotImplementedError(\"Replace this line with your code\")\n",
    "# YOUR CODE HERE\n"
   ]
  },
  {
   "cell_type": "markdown",
   "metadata": {
    "collapsed": true
   },
   "source": [
    "## 4. Application to real-world data (25 P)\n",
    "\n",
    "Having now implemented an efficient K-nearest neighbor classifier, we can test it on real problems with many data points and dimensions. We consider a small handwritten digits recognition dataset, that can be directly obtained from the library `scikit-learn`. This dataset consists of handwritten digits of size `8 x 8` flattened into arrays of size `64`, with class between `0` and `9`. We use a function `data.digits()` to load the data and arrange data points in some predefined order."
   ]
  },
  {
   "cell_type": "code",
   "execution_count": null,
   "metadata": {
    "deletable": false,
    "editable": false,
    "nbgrader": {
     "cell_type": "code",
     "checksum": "b77c35d9a669b273ffebef47c9bf7e6a",
     "grade": false,
     "grade_id": "cell-0af1076e9b4ee47b",
     "locked": true,
     "schema_version": 3,
     "solution": false
    }
   },
   "outputs": [],
   "source": [
    "X, Y = data.digits()\n",
    "print(f\"Shape of data: {X.shape}\")\n",
    "print(f\"Shape of labels: {Y.shape}\")"
   ]
  },
  {
   "cell_type": "markdown",
   "metadata": {},
   "source": [
    "**a) 10P** Using the function `imshow` of `matplotlib.pyplot (plt)` to visualize the first 16 digits (in a `4x4` grid) of the dataset. You get 8 points for a correct implementation and 2 points for an implementation that doesn't use any for loops.\n",
    "\n",
    "**Hint**: Use the `np.traspose` and `np.reshape` functions, to implement the function without any loops.\n",
    "\n",
    "**Note**: Your solution should output exactly one plot and shouldn't create new figures i.e. call `plt.show` or use `plt.figure` in a loop. The image will still be shown in the next cell, since we have configured matplotlib, to call plt.show, at the end of each cell."
   ]
  },
  {
   "cell_type": "code",
   "execution_count": null,
   "metadata": {
    "deletable": false,
    "nbgrader": {
     "cell_type": "code",
     "checksum": "dabf05578164f8c73fbefc5c7933c4f2",
     "grade": true,
     "grade_id": "cell-62a66170b487f137",
     "locked": false,
     "points": 8,
     "schema_version": 3,
     "solution": true
    }
   },
   "outputs": [],
   "source": [
    "@max_allowed_loops(1)  # but try to use 0\n",
    "@no_imports\n",
    "def plot_first_digits() -> None:\n",
    "    \"\"\"\n",
    "    Loads the digit dataset and plots the first 16 digits in one image\n",
    "    You are encouraged to implement this functions without\n",
    "    the use of any for-loops. A solution that does not use loops\n",
    "    calls plt.imshow once and does not use an unrolled loop.\n",
    "    \"\"\"\n",
    "    # YOUR CODE HERE\n",
    "    raise NotImplementedError(\"Replace this line with your code\")\n",
    "    # YOUR CODE HERE\n",
    "    "
   ]
  },
  {
   "cell_type": "code",
   "execution_count": null,
   "metadata": {
    "deletable": false,
    "editable": false,
    "nbgrader": {
     "cell_type": "code",
     "checksum": "cf9de5dfd4bf9cab1bfc3b7760a40435",
     "grade": true,
     "grade_id": "cell-e60559d8efeccccb",
     "locked": true,
     "points": 2,
     "schema_version": 3,
     "solution": false
    }
   },
   "outputs": [],
   "source": [
    "plot_first_digits()\n"
   ]
  },
  {
   "cell_type": "markdown",
   "metadata": {},
   "source": [
    "**b)**\n",
    "* Partition the data into a \"training\" set and \"test\" set. The training set contains the first 1000 digits of `X`, and the test set contains the remaining ones.\n",
    "\n",
    "* Assume that you don't know the labels for the test data and classify the test data using your efficient nearest neighbor implementation.\n",
    "\n",
    "* Print the predicted labels for the test set."
   ]
  },
  {
   "cell_type": "code",
   "execution_count": null,
   "metadata": {},
   "outputs": [],
   "source": [
    "from typing import Tuple"
   ]
  },
  {
   "cell_type": "code",
   "execution_count": null,
   "metadata": {
    "deletable": false,
    "nbgrader": {
     "cell_type": "code",
     "checksum": "c6614f54b38f434ad8fdca730c31f5f5",
     "grade": false,
     "grade_id": "cell-b112a1903fec8961",
     "locked": false,
     "schema_version": 3,
     "solution": true
    }
   },
   "outputs": [],
   "source": [
    "def train_test_split(x: Dataset, y: LabelList) -> Tuple[Dataset, Dataset, LabelList, LabelList]:\n",
    "    \"\"\"\n",
    "    Splits the data into train and test sets\n",
    "    The first 1000 samples belong to the training set the rest to the test set\n",
    "\n",
    "    Args:\n",
    "        x: A matrix (ndim=2) containing the data\n",
    "        y: A vector (ndim=1) containing the label for each datapoint\n",
    "\n",
    "    Returns:\n",
    "        A tuple containing 4 elements. The training data, the test data, the training labels\n",
    "        and the test labels\n",
    "    \"\"\"\n",
    "    # YOUR CODE HERE\n",
    "    raise NotImplementedError(\"Replace this line with your code\")\n",
    "    # YOUR CODE HERE\n",
    "    \n",
    "\n",
    "\n",
    "def predict(x_train: Dataset, x_test: Dataset, y_train: LabelList) -> LabelList:\n",
    "    \"\"\"\n",
    "    For each x in x_test this function finds the nearest neighbour in x_train and\n",
    "    returns that label\n",
    "\n",
    "    This function is a wrapper of the `npbatch` function\n",
    "\n",
    "    Args:\n",
    "        x_train: A matrix (ndim=2) containing all the training data\n",
    "        x_test: A matrix (ndim=2) containing all the test data for which we want a prediction\n",
    "        y_train: A vector (ndim=1) containing the label of each datapoint in the training set\n",
    "\n",
    "    Returns:\n",
    "        A vector with the prediction for each datapoint/vector in x_test\n",
    "    \"\"\"\n",
    "    # YOUR CODE HERE\n",
    "    raise NotImplementedError(\"Replace this line with your code\")\n",
    "    # YOUR CODE HERE\n",
    "    \n",
    "    return y_test_predict"
   ]
  },
  {
   "cell_type": "code",
   "execution_count": null,
   "metadata": {
    "deletable": false,
    "editable": false,
    "nbgrader": {
     "cell_type": "code",
     "checksum": "d085fe2de75a72eceb8dbb6e12e1be52",
     "grade": true,
     "grade_id": "cell-7bb424481c1f04b4",
     "locked": true,
     "points": 5,
     "schema_version": 3,
     "solution": false
    }
   },
   "outputs": [],
   "source": [
    "train_test_output = train_test_split(X, Y)\n",
    "x_train, x_test, y_train, y_test = train_test_output\n",
    "\n",
    "# check if types match\n",
    "t.assertIsInstance(x_train, np.ndarray)\n",
    "t.assertIsInstance(x_test, np.ndarray)\n",
    "t.assertIsInstance(y_train, np.ndarray)\n",
    "t.assertIsInstance(y_test, np.ndarray)\n",
    "\n",
    "# check if shapes match\n",
    "t.assertEqual(x_train.shape, (1000, 64))\n",
    "t.assertEqual(x_test.shape, (797, 64))\n",
    "t.assertEqual(y_train.shape, (1000,))\n",
    "t.assertEqual(y_test.shape, (797,))\n",
    "\n",
    "# check that first values match\n",
    "t.assertEqual(y_train[0], 7)\n",
    "t.assertEqual(y_test[0], 0)\n",
    "\n"
   ]
  },
  {
   "cell_type": "code",
   "execution_count": null,
   "metadata": {
    "deletable": false,
    "editable": false,
    "nbgrader": {
     "cell_type": "code",
     "checksum": "a41ea189ca6ab449e12e2b1b713f3be2",
     "grade": true,
     "grade_id": "cell-e7dec773a1c3d6f9",
     "locked": true,
     "points": 0,
     "schema_version": 3,
     "solution": false,
     "task": false
    }
   },
   "outputs": [],
   "source": [
    "# This cell is for grading. DO NOT remove it"
   ]
  },
  {
   "cell_type": "code",
   "execution_count": null,
   "metadata": {
    "deletable": false,
    "editable": false,
    "nbgrader": {
     "cell_type": "code",
     "checksum": "204f2cfbb8c6d723fac48bf83591455b",
     "grade": true,
     "grade_id": "cell-e345f7975db958d5",
     "locked": true,
     "points": 2,
     "schema_version": 3,
     "solution": false,
     "task": false
    }
   },
   "outputs": [],
   "source": [
    "# check if prediction shape matches\n",
    "predictions = predict(x_train, x_test, y_train)\n",
    "t.assertEqual(predictions.shape, (797,))\n",
    "\n",
    "first_three = predictions[:3]\n",
    "print(f\"first_three --> {first_three}\")\n",
    "\n",
    "expected_first_three = pybatch(x_test[:3], x_train, y_train)\n",
    "print(f\"expected_first_three --> {expected_first_three}\")\n",
    "\n",
    "np.testing.assert_allclose(first_three, expected_first_three)"
   ]
  },
  {
   "cell_type": "code",
   "execution_count": null,
   "metadata": {
    "deletable": false,
    "editable": false,
    "nbgrader": {
     "cell_type": "code",
     "checksum": "93ddc59bb32327ba9582e718b584595d",
     "grade": true,
     "grade_id": "cell-f2936755c2cdb9ca",
     "locked": true,
     "points": 0,
     "schema_version": 3,
     "solution": false,
     "task": false
    }
   },
   "outputs": [],
   "source": [
    "# This cell is for grading. DO NOT remove it"
   ]
  },
  {
   "cell_type": "markdown",
   "metadata": {},
   "source": [
    "**c)** \n",
    "* Finally, in order to determine the accuracy of the classifier, we would like to compare the predictions with the ground truth (i.e. the true labels from the test data).\n",
    "\n",
    "* Compute the fraction of the test set where the predictions of the nearest neighbor algorithm and labels disagree. "
   ]
  },
  {
   "cell_type": "code",
   "execution_count": null,
   "metadata": {
    "deletable": false,
    "nbgrader": {
     "cell_type": "code",
     "checksum": "b99f060f75a9d2d618160316fa551bee",
     "grade": false,
     "grade_id": "cell-e1a0f7833241b127",
     "locked": false,
     "schema_version": 3,
     "solution": true
    }
   },
   "outputs": [],
   "source": [
    "def evaluate(x_train: Dataset, x_test: Dataset, y_train: LabelList, y_test: LabelList) -> float:\n",
    "    \"\"\"\n",
    "    Evaluates the accuracy of our nearest neighbor classifier\n",
    "    by calculating the ratio of test samples for which\n",
    "    our classification method disagrees with the ground truth\n",
    "\n",
    "    Args:\n",
    "        x_train: A matrix (ndim=2) containing the training data for the classifier\n",
    "        x_test: A matrix (ndim=2) containing the test data for which the classifier\n",
    "        will make a prediction\n",
    "        y_train: The labels for the training data\n",
    "        y_test: The labels for the test data\n",
    "    Returns:\n",
    "        float: The ratio in [0-1] of the test samples for which our\n",
    "        nearest neighbor classifier disagrees with the provided labels\n",
    "    \"\"\"\n",
    "    # YOUR CODE HERE\n",
    "    raise NotImplementedError(\"Replace this line with your code\")\n",
    "    # YOUR CODE HERE\n",
    "    "
   ]
  },
  {
   "cell_type": "code",
   "execution_count": null,
   "metadata": {
    "deletable": false,
    "editable": false,
    "nbgrader": {
     "cell_type": "code",
     "checksum": "ff52f89b0dc58d87da2508f6270bf5da",
     "grade": true,
     "grade_id": "cell-2cf51ada3daa9bb6",
     "locked": true,
     "points": 8,
     "schema_version": 3,
     "solution": false
    }
   },
   "outputs": [],
   "source": [
    "x_train, x_test, y_train, y_test = train_test_split(X, Y)\n",
    "ratio_disagree = evaluate(x_train, x_test, y_train, y_test)\n",
    "print(f\"ratio_disagree --> {ratio_disagree}\")\n",
    "\n",
    "# make sure this is a percentage\n",
    "t.assertGreaterEqual(ratio_disagree, 0.0, \"A percentage cannot be less than 0\")\n",
    "t.assertLessEqual(ratio_disagree, 1.0, \"A percentage cannot be more that 1\")\n",
    "\n",
    "# Upper bound for disagree ratio\n",
    "t.assertLess(ratio_disagree, 0.01, \"Your solution should return less than 0.01\")\n",
    "t.assertGreater(ratio_disagree, 0.008, \"Your solution should return more that 0.008\")"
   ]
  }
 ],
 "metadata": {
  "kernelspec": {
   "display_name": "Python 3 (ipykernel)",
   "language": "python",
   "name": "python3"
  },
  "language_info": {
   "codemirror_mode": {
    "name": "ipython",
    "version": 3
   },
   "file_extension": ".py",
   "mimetype": "text/x-python",
   "name": "python",
   "nbconvert_exporter": "python",
   "pygments_lexer": "ipython3",
   "version": "3.9.0"
  }
 },
 "nbformat": 4,
 "nbformat_minor": 1
}
