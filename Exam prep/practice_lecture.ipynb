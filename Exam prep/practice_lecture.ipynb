{
 "cells": [
  {
   "attachments": {},
   "cell_type": "markdown",
   "metadata": {},
   "source": [
    "### Basics from learnpython.org"
   ]
  },
  {
   "cell_type": "code",
   "execution_count": 1,
   "metadata": {},
   "outputs": [
    {
     "name": "stdout",
     "output_type": "stream",
     "text": [
      "Hello World\n",
      "x is 1\n"
     ]
    },
    {
     "name": "stderr",
     "output_type": "stream",
     "text": [
      "<>:4: SyntaxWarning: \"is\" with a literal. Did you mean \"==\"?\n",
      "<>:4: SyntaxWarning: \"is\" with a literal. Did you mean \"==\"?\n",
      "C:\\Users\\Naveed Ul Mustafa\\AppData\\Local\\Temp\\ipykernel_17060\\1377483943.py:4: SyntaxWarning: \"is\" with a literal. Did you mean \"==\"?\n",
      "  if x is 1:\n"
     ]
    }
   ],
   "source": [
    "print(\"Hello World\")\n",
    "\n",
    "x = 1\n",
    "if x is 1:\n",
    "    print(\"x is 1\")"
   ]
  },
  {
   "cell_type": "code",
   "execution_count": 2,
   "metadata": {},
   "outputs": [
    {
     "name": "stdout",
     "output_type": "stream",
     "text": [
      "7\n",
      "7.0\n",
      "7.0\n",
      "Hello World\n",
      "hello world\n",
      "2 3\n"
     ]
    }
   ],
   "source": [
    "myint = 7\n",
    "print(myint)\n",
    "myfloat = 7.0\n",
    "print(myfloat)\n",
    "\n",
    "myfloat_new = float(7)\n",
    "print(myfloat_new)\n",
    "\n",
    "mystring = \"Hello World\"\n",
    "print(mystring)\n",
    "\n",
    "hello = \"hello\"\n",
    "world = \"world\"\n",
    "\n",
    "print(hello +\" \"+ world)\n",
    "\n",
    "a,b = 2,3\n",
    "print(a,b)\n"
   ]
  },
  {
   "attachments": {},
   "cell_type": "markdown",
   "metadata": {},
   "source": [
    "#### Ex\n",
    "The target of this exercise is to create a string, an integer, and a floating point number. The string should be named mystring and should contain the word \"hello\". The floating point number should be named myfloat and should contain the number 10.0, and the integer should be named myint and should contain the number 20."
   ]
  },
  {
   "cell_type": "code",
   "execution_count": 3,
   "metadata": {},
   "outputs": [
    {
     "name": "stdout",
     "output_type": "stream",
     "text": [
      "hello 10.0 20\n"
     ]
    }
   ],
   "source": [
    "mystring, myfloat, myint = \"hello\", 10.0, 20\n",
    "print(mystring, myfloat, myint)\n"
   ]
  },
  {
   "cell_type": "code",
   "execution_count": 4,
   "metadata": {},
   "outputs": [
    {
     "name": "stdout",
     "output_type": "stream",
     "text": [
      "String: hello\n",
      "Float: 10.000000\n",
      "Integer: 20\n"
     ]
    }
   ],
   "source": [
    "if mystring == \"hello\":\n",
    "    print(\"String: %s\" % mystring)\n",
    "if isinstance(myfloat, float) and myfloat == 10.0:\n",
    "    print(\"Float: %f\" % myfloat)\n",
    "if isinstance(myint, int) and myint == 20:\n",
    "    print(\"Integer: %d\" % myint)"
   ]
  },
  {
   "cell_type": "code",
   "execution_count": 5,
   "metadata": {},
   "outputs": [
    {
     "name": "stdout",
     "output_type": "stream",
     "text": [
      "1\n",
      "2\n",
      "3\n",
      "1\n",
      "2\n",
      "3\n"
     ]
    }
   ],
   "source": [
    "mylist = []\n",
    "mylist.append(1)\n",
    "mylist.append(2)\n",
    "mylist.append(3)\n",
    "print(mylist[0]) # prints 1\n",
    "print(mylist[1]) # prints 2\n",
    "print(mylist[2]) # prints 3\n",
    "\n",
    "# prints out 1,2,3\n",
    "for x in mylist:\n",
    "    print(x)"
   ]
  },
  {
   "cell_type": "code",
   "execution_count": 6,
   "metadata": {},
   "outputs": [
    {
     "data": {
      "text/plain": [
       "3"
      ]
     },
     "execution_count": 6,
     "metadata": {},
     "output_type": "execute_result"
    }
   ],
   "source": [
    "mylist[2]"
   ]
  },
  {
   "attachments": {},
   "cell_type": "markdown",
   "metadata": {},
   "source": [
    "#### Ex\n",
    "In this exercise, you will need to add numbers and strings to the correct lists using the \"append\" list method. You must add the numbers 1,2, and 3 to the \"numbers\" list, and the words 'hello' and 'world' to the strings variable.\n",
    "\n",
    "You will also have to fill in the variable second_name with the second name in the names list, using the brackets operator []. Note that the index is zero-based, so if you want to access the second item in the list, its index will be 1."
   ]
  },
  {
   "cell_type": "code",
   "execution_count": 7,
   "metadata": {},
   "outputs": [
    {
     "data": {
      "text/plain": [
       "[1, 2, 3, 'Hello', 'World']"
      ]
     },
     "execution_count": 7,
     "metadata": {},
     "output_type": "execute_result"
    }
   ],
   "source": [
    "lst = []\n",
    "\n",
    "lst.append(1)\n",
    "lst.append(2)\n",
    "lst.append(3)\n",
    "lst.append(\"Hello\")\n",
    "lst.append(\"World\")\n",
    "\n",
    "lst"
   ]
  },
  {
   "cell_type": "code",
   "execution_count": 8,
   "metadata": {},
   "outputs": [
    {
     "data": {
      "text/plain": [
       "('Eric', 2)"
      ]
     },
     "execution_count": 8,
     "metadata": {},
     "output_type": "execute_result"
    }
   ],
   "source": [
    "names = [\"John\", \"Eric\", \"Jessica\"]\n",
    "\n",
    "names[1], lst[1]"
   ]
  },
  {
   "cell_type": "code",
   "execution_count": 9,
   "metadata": {},
   "outputs": [
    {
     "data": {
      "text/plain": [
       "[[<object at 0x267ce091ea0>,\n",
       "  <object at 0x267ce091ea0>,\n",
       "  <object at 0x267ce091ea0>,\n",
       "  <object at 0x267ce091ea0>,\n",
       "  <object at 0x267ce091ea0>,\n",
       "  <object at 0x267ce091ea0>,\n",
       "  <object at 0x267ce091ea0>,\n",
       "  <object at 0x267ce091ea0>,\n",
       "  <object at 0x267ce091ea0>,\n",
       "  <object at 0x267ce091ea0>],\n",
       " [<object at 0x267ce091dc0>,\n",
       "  <object at 0x267ce091dc0>,\n",
       "  <object at 0x267ce091dc0>,\n",
       "  <object at 0x267ce091dc0>,\n",
       "  <object at 0x267ce091dc0>,\n",
       "  <object at 0x267ce091dc0>,\n",
       "  <object at 0x267ce091dc0>,\n",
       "  <object at 0x267ce091dc0>,\n",
       "  <object at 0x267ce091dc0>,\n",
       "  <object at 0x267ce091dc0>]]"
      ]
     },
     "execution_count": 9,
     "metadata": {},
     "output_type": "execute_result"
    }
   ],
   "source": [
    "x = object()     \n",
    "y = object()\n",
    "x_list = [x]\n",
    "y_list = [y]\n",
    "\n",
    "big_list = [x_list * 10, y_list*10]\n",
    "big_list\n"
   ]
  },
  {
   "cell_type": "code",
   "execution_count": 10,
   "metadata": {},
   "outputs": [],
   "source": [
    "data = (\"John\", \"Doe\", 53.44)\n",
    "format_string = \"Hello\"\n",
    "\n",
    "#print(\"%s %s %s. Your Current bal is %s\" %format_string,data)"
   ]
  },
  {
   "cell_type": "code",
   "execution_count": 11,
   "metadata": {},
   "outputs": [
    {
     "data": {
      "text/plain": [
       "(3, 2, 1024)"
      ]
     },
     "execution_count": 11,
     "metadata": {},
     "output_type": "execute_result"
    }
   ],
   "source": [
    "10//3 , 5%3, 2<<9  # (Dual)"
   ]
  },
  {
   "cell_type": "code",
   "execution_count": 12,
   "metadata": {},
   "outputs": [
    {
     "data": {
      "text/plain": [
       "(False, True, False, True)"
      ]
     },
     "execution_count": 12,
     "metadata": {},
     "output_type": "execute_result"
    }
   ],
   "source": [
    " bool(\"\"), bool(\" \"), bool(0), bool(12)  # Anything which is not zero is True"
   ]
  },
  {
   "cell_type": "code",
   "execution_count": 13,
   "metadata": {},
   "outputs": [
    {
     "data": {
      "text/plain": [
       "[0, 2, 4]"
      ]
     },
     "execution_count": 13,
     "metadata": {},
     "output_type": "execute_result"
    }
   ],
   "source": [
    "lst = [0,1,2,3,4,5,6,7,8,9,10]\n",
    "\n",
    "lst[:6:2]             # start: end at index 6: step 2 "
   ]
  },
  {
   "cell_type": "code",
   "execution_count": 14,
   "metadata": {},
   "outputs": [
    {
     "data": {
      "text/plain": [
       "[10, 8, 6, 4, 2, 0]"
      ]
     },
     "execution_count": 14,
     "metadata": {},
     "output_type": "execute_result"
    }
   ],
   "source": [
    "lst[::-2]             # start:end:step                   (-ve in descending order)"
   ]
  },
  {
   "cell_type": "code",
   "execution_count": 15,
   "metadata": {},
   "outputs": [
    {
     "data": {
      "text/plain": [
       "[9, 8, 7]"
      ]
     },
     "execution_count": 15,
     "metadata": {},
     "output_type": "execute_result"
    }
   ],
   "source": [
    "lst[9:6:-1]             # descending start from 9 till 6 (6 is not included)"
   ]
  },
  {
   "cell_type": "code",
   "execution_count": 16,
   "metadata": {},
   "outputs": [
    {
     "data": {
      "text/plain": [
       "[[0, 1, 'Naveed'], 3, 4, 5, 6, 7, 8, 9, 10]"
      ]
     },
     "execution_count": 16,
     "metadata": {},
     "output_type": "execute_result"
    }
   ],
   "source": [
    "lst = [[0,1,2],3,4,5,6,7,8,9,10]\n",
    "lst[0][2] = \"Naveed\"              # Nested List indexation\n",
    "lst"
   ]
  },
  {
   "cell_type": "code",
   "execution_count": 17,
   "metadata": {},
   "outputs": [
    {
     "data": {
      "text/plain": [
       "True"
      ]
     },
     "execution_count": 17,
     "metadata": {},
     "output_type": "execute_result"
    }
   ],
   "source": [
    "[2,3] in [[2],3,4,[2,3]] "
   ]
  },
  {
   "attachments": {},
   "cell_type": "markdown",
   "metadata": {},
   "source": [
    "Q- Difference b/w List & Arrays?\n",
    "\n",
    "A- List is sort of a bench with (can have) many different types of items, however, array have items of always the same type!"
   ]
  },
  {
   "cell_type": "code",
   "execution_count": 18,
   "metadata": {},
   "outputs": [
    {
     "data": {
      "text/plain": [
       "('0b1100100', '0o144', '0x64')"
      ]
     },
     "execution_count": 18,
     "metadata": {},
     "output_type": "execute_result"
    }
   ],
   "source": [
    "dec = 100\n",
    "bin(dec), oct(dec), hex(dec)"
   ]
  },
  {
   "cell_type": "markdown",
   "metadata": {},
   "source": [
    "### Useful String methods"
   ]
  },
  {
   "cell_type": "code",
   "execution_count": 19,
   "metadata": {},
   "outputs": [
    {
     "data": {
      "text/plain": [
       "'Hello'"
      ]
     },
     "execution_count": 19,
     "metadata": {},
     "output_type": "execute_result"
    }
   ],
   "source": [
    "\" Hello    \".strip()    # remove the leading & trailing whitespaces of any length"
   ]
  },
  {
   "cell_type": "code",
   "execution_count": 20,
   "metadata": {},
   "outputs": [
    {
     "data": {
      "text/plain": [
       "9"
      ]
     },
     "execution_count": 20,
     "metadata": {},
     "output_type": "execute_result"
    }
   ],
   "source": [
    "\"hello Worowd!!\".find(\"ow\")       # index of a first found char"
   ]
  },
  {
   "cell_type": "code",
   "execution_count": 21,
   "metadata": {},
   "outputs": [
    {
     "data": {
      "text/plain": [
       "'Max@gmail@.com'"
      ]
     },
     "execution_count": 21,
     "metadata": {},
     "output_type": "execute_result"
    }
   ],
   "source": [
    "vals = [\"Max\", \"gmail\", \".com\"]\n",
    "\"@\".join(vals)                       # joining with a delimiter"
   ]
  },
  {
   "cell_type": "code",
   "execution_count": 22,
   "metadata": {},
   "outputs": [],
   "source": [
    "def func(x,y, coeff=1):\n",
    "    z = (x**2 + y**2)**0.5\n",
    "    z *= coeff\n",
    "    return z, z**2"
   ]
  },
  {
   "cell_type": "code",
   "execution_count": 23,
   "metadata": {},
   "outputs": [
    {
     "data": {
      "text/plain": [
       "(4.47213595499958, 20.000000000000004)"
      ]
     },
     "execution_count": 23,
     "metadata": {},
     "output_type": "execute_result"
    }
   ],
   "source": [
    "arg = [1,2]\n",
    "func(*arg, coeff=2)    # * unpacks the list"
   ]
  },
  {
   "cell_type": "code",
   "execution_count": 24,
   "metadata": {},
   "outputs": [
    {
     "data": {
      "text/plain": [
       "(4.47213595499958, 20.000000000000004)"
      ]
     },
     "execution_count": 24,
     "metadata": {},
     "output_type": "execute_result"
    }
   ],
   "source": [
    "arg = {\"x\":1, \"y\":2, \"coeff\":2}\n",
    "func(**arg)            # ** unpacks the dictionary"
   ]
  },
  {
   "cell_type": "code",
   "execution_count": 25,
   "metadata": {},
   "outputs": [
    {
     "data": {
      "text/plain": [
       "(4.47213595499958, 20.000000000000004)"
      ]
     },
     "execution_count": 25,
     "metadata": {},
     "output_type": "execute_result"
    }
   ],
   "source": [
    "func(1,2, coeff=2)     # unpacking is not required"
   ]
  },
  {
   "cell_type": "code",
   "execution_count": 26,
   "metadata": {},
   "outputs": [],
   "source": [
    "def add_c(first :tuple, second :tuple) -> complex:\n",
    "    \"\"\"This function adds two complex numbers\n",
    "    \n",
    "    Args:\n",
    "        first (tuple): first complex number\n",
    "        second (tuple): second complex number\n",
    "    Returns:\n",
    "        complex: sum of two complex numbers\n",
    "    \"\"\"\n",
    "\n",
    "    assert type(first) == tuple, \"first is not a tuple\"          # assert is used to check the condition, if it is false then it will raise an error (AssertionError)\n",
    "    assert type(second) == tuple, \"second is not a tuple\"        # assert is used to check the condition, if it is false then it will raise an error (AssertionError)\n",
    "    \n",
    "    re = first[0] + second[0]\n",
    "    im = first[1] + second[1]\n",
    "    return complex(re, im)\n"
   ]
  },
  {
   "cell_type": "code",
   "execution_count": 27,
   "metadata": {},
   "outputs": [
    {
     "data": {
      "text/plain": [
       "(4+6j)"
      ]
     },
     "execution_count": 27,
     "metadata": {},
     "output_type": "execute_result"
    }
   ],
   "source": [
    "add_c((1,2), (3,4))"
   ]
  },
  {
   "cell_type": "code",
   "execution_count": 28,
   "metadata": {},
   "outputs": [],
   "source": [
    "#add_c([1,2], [3,4])"
   ]
  },
  {
   "cell_type": "code",
   "execution_count": 29,
   "metadata": {},
   "outputs": [
    {
     "name": "stdout",
     "output_type": "stream",
     "text": [
      "\u001b[1;31mSignature:\u001b[0m \u001b[0madd_c\u001b[0m\u001b[1;33m(\u001b[0m\u001b[0mfirst\u001b[0m\u001b[1;33m:\u001b[0m \u001b[0mtuple\u001b[0m\u001b[1;33m,\u001b[0m \u001b[0msecond\u001b[0m\u001b[1;33m:\u001b[0m \u001b[0mtuple\u001b[0m\u001b[1;33m)\u001b[0m \u001b[1;33m->\u001b[0m \u001b[0mcomplex\u001b[0m\u001b[1;33m\u001b[0m\u001b[1;33m\u001b[0m\u001b[0m\n",
      "\u001b[1;31mDocstring:\u001b[0m\n",
      "This function adds two complex numbers\n",
      "\n",
      "Args:\n",
      "    first (tuple): first complex number\n",
      "    second (tuple): second complex number\n",
      "Returns:\n",
      "    complex: sum of two complex numbers\n",
      "\u001b[1;31mFile:\u001b[0m      c:\\users\\naveed ul mustafa\\appdata\\local\\temp\\ipykernel_17060\\229267573.py\n",
      "\u001b[1;31mType:\u001b[0m      function\n"
     ]
    }
   ],
   "source": [
    "add_c?\n"
   ]
  },
  {
   "cell_type": "markdown",
   "metadata": {},
   "source": [
    "### Lambda Function\n",
    "In line functuion. Definition & execution without a name"
   ]
  },
  {
   "cell_type": "code",
   "execution_count": 30,
   "metadata": {},
   "outputs": [
    {
     "data": {
      "text/plain": [
       "5.0"
      ]
     },
     "execution_count": 30,
     "metadata": {},
     "output_type": "execute_result"
    }
   ],
   "source": [
    "\n",
    "f = lambda x,y, coeff =1: coeff*(x**2 + y**2)**0.5\n",
    "f(3,4)"
   ]
  },
  {
   "cell_type": "code",
   "execution_count": 31,
   "metadata": {},
   "outputs": [
    {
     "data": {
      "text/plain": [
       "15.0"
      ]
     },
     "execution_count": 31,
     "metadata": {},
     "output_type": "execute_result"
    }
   ],
   "source": [
    "f(3,4,3)"
   ]
  },
  {
   "cell_type": "code",
   "execution_count": 32,
   "metadata": {},
   "outputs": [
    {
     "data": {
      "text/plain": [
       "5.0"
      ]
     },
     "execution_count": 32,
     "metadata": {},
     "output_type": "execute_result"
    }
   ],
   "source": [
    "(lambda x,y, coeff =1: coeff*(x**2 + y**2)**0.5)  (3,4)"
   ]
  },
  {
   "cell_type": "code",
   "execution_count": 33,
   "metadata": {},
   "outputs": [
    {
     "data": {
      "text/plain": [
       "[1, 4, 9, 16, 25, 36, 49, 64, 81, 81]"
      ]
     },
     "execution_count": 33,
     "metadata": {},
     "output_type": "execute_result"
    }
   ],
   "source": [
    "num = [1,2,3,4,5,6,7,8,9,9]\n",
    "\n",
    "def square(list):\n",
    "    ret = []\n",
    "    for i in list:\n",
    "        ret.append(i ** 2)\n",
    "    return ret\n",
    " \n",
    "square(num)"
   ]
  },
  {
   "cell_type": "code",
   "execution_count": 34,
   "metadata": {},
   "outputs": [
    {
     "data": {
      "text/plain": [
       "[1, 4, 9, 16, 25, 36, 49, 64, 81, 81]"
      ]
     },
     "execution_count": 34,
     "metadata": {},
     "output_type": "execute_result"
    }
   ],
   "source": [
    "\n",
    "list(map(lambda x: x**2, num))     # map(function, iterable)"
   ]
  },
  {
   "cell_type": "code",
   "execution_count": 35,
   "metadata": {},
   "outputs": [
    {
     "data": {
      "text/plain": [
       "[1, 4, 9, 16, 25, 36, 49, 64, 81, 81]"
      ]
     },
     "execution_count": 35,
     "metadata": {},
     "output_type": "execute_result"
    }
   ],
   "source": [
    "lambda_square = map(lambda x: x**2, num)\n",
    "list(lambda_square)"
   ]
  },
  {
   "cell_type": "code",
   "execution_count": 36,
   "metadata": {},
   "outputs": [
    {
     "data": {
      "text/plain": [
       "[2, 4, 6, 8]"
      ]
     },
     "execution_count": 36,
     "metadata": {},
     "output_type": "execute_result"
    }
   ],
   "source": [
    "# filter out the odd numbers\n",
    "result = filter(lambda x: x%2 == 0, num)\n",
    "list(result)\n"
   ]
  },
  {
   "cell_type": "markdown",
   "metadata": {},
   "source": [
    "### Iterators"
   ]
  },
  {
   "cell_type": "code",
   "execution_count": 37,
   "metadata": {},
   "outputs": [
    {
     "data": {
      "text/plain": [
       "[0, 1, 2, 3, 4, 5, 6, 7, 8, 9]"
      ]
     },
     "execution_count": 37,
     "metadata": {},
     "output_type": "execute_result"
    }
   ],
   "source": [
    "list(range(10))   # range is a generator object"
   ]
  },
  {
   "cell_type": "code",
   "execution_count": 38,
   "metadata": {},
   "outputs": [
    {
     "data": {
      "text/plain": [
       "[2, 6, 10, 14, 18, 22, 26, 30, 34, 38]"
      ]
     },
     "execution_count": 38,
     "metadata": {},
     "output_type": "execute_result"
    }
   ],
   "source": [
    "mt = []\n",
    "for i in range(2,40,4):      # range(start, stop (not incl), step)\n",
    "    mt.append(i)\n",
    "\n",
    "mt"
   ]
  },
  {
   "cell_type": "code",
   "execution_count": 39,
   "metadata": {},
   "outputs": [
    {
     "name": "stdout",
     "output_type": "stream",
     "text": [
      "0 ->  2\n",
      "1 ->  6\n",
      "2 -> 10\n",
      "3 -> 14\n",
      "4 -> 18\n",
      "5 -> 22\n",
      "6 -> 26\n",
      "7 -> 30\n",
      "8 -> 34\n",
      "9 -> 38\n"
     ]
    }
   ],
   "source": [
    "# Enumerator : returns the current iteration of the loop & value at that iteration\n",
    "\n",
    "for n,i in enumerate(range(2,40,4)):\n",
    "    print(f\"{n} -> {i:2d}\")     # :2d means to represent the optput in 2 digit in order to satisfy the asthetics"
   ]
  },
  {
   "cell_type": "code",
   "execution_count": 40,
   "metadata": {},
   "outputs": [
    {
     "name": "stdout",
     "output_type": "stream",
     "text": [
      "Full list: [5.0, (2, 3), 0.7071067811865476, 'some text', [1, 2, 3], {2, 5}]\n",
      "====================================================================================================\n",
      "5.0\n",
      "(2, 3)\n",
      "0.7071067811865476\n"
     ]
    }
   ],
   "source": [
    "a =[1,2,3]\n",
    "lst = [5.0,(2,3),2**-0.5,\"some text\", a, {2,5}]\n",
    "\n",
    "print(f\"Full list: {lst}\")\n",
    "print(100*\"=\")\n",
    "for element in lst:\n",
    "    if type(element) == str:\n",
    "        break\n",
    "    print(element)\n",
    "\n",
    "\n"
   ]
  },
  {
   "cell_type": "code",
   "execution_count": 41,
   "metadata": {},
   "outputs": [
    {
     "name": "stdout",
     "output_type": "stream",
     "text": [
      "5.0\n",
      "(2, 3)\n",
      "0.7071067811865476\n",
      "[1, 2, 3]\n",
      "{2, 5}\n"
     ]
    }
   ],
   "source": [
    "for element in lst:\n",
    "    if type(element) == str:\n",
    "        #break\n",
    "        continue                  # avoid/skip the string and carry on with other elements \n",
    "    print(element)"
   ]
  },
  {
   "cell_type": "markdown",
   "metadata": {},
   "source": [
    "### $ \\textbf{Decision Tree} - \\text{important}$\n",
    "<hr>"
   ]
  },
  {
   "cell_type": "code",
   "execution_count": 42,
   "metadata": {},
   "outputs": [],
   "source": [
    "def classify(x:dict) -> str:\n",
    "    if x[\"color\"] == \"green\":\n",
    "        if x[\"size\"] == \"big\":\n",
    "            decision = \"Watermelon\"\n",
    "        elif x[\"size\"] == \"small\":\n",
    "            decision = \"apple\"\n",
    "        else:\n",
    "            decision = \"other\"\n",
    "    else:\n",
    "        decision =\"other\"\n",
    "    \n",
    "    return decision\n"
   ]
  },
  {
   "cell_type": "markdown",
   "metadata": {},
   "source": [
    "### $\\textbf{List Comprehensions} - \\text{important}$\n",
    "<hr>"
   ]
  },
  {
   "cell_type": "code",
   "execution_count": 43,
   "metadata": {},
   "outputs": [],
   "source": [
    "# Example: Given a List of Dictionaries, make a prediction about each element & store it in a saperate List\n",
    "data = [\n",
    "    {\"color\": \"green\", \"size\":\"big\"},\n",
    "    {\"color\": \"yellow\", \"size\":\"big\", \"shape\":\"round\"},\n",
    "    {\"color\": \"red\", \"size\":\"medium\"},\n",
    "    {\"color\": \"green\", \"size\":\"big\"},\n",
    "    {\"color\": \"red\", \"size\":\"small\", \"taste\":\"sour\"},\n",
    "    {\"color\": \"green\", \"size\":\"small\"}\n",
    "]"
   ]
  },
  {
   "cell_type": "markdown",
   "metadata": {},
   "source": [
    "#### Method-1 \n",
    "Creating an empty list and append it"
   ]
  },
  {
   "cell_type": "code",
   "execution_count": 44,
   "metadata": {},
   "outputs": [
    {
     "name": "stdout",
     "output_type": "stream",
     "text": [
      "Fruit: {'color': 'green', 'size': 'big'} \n",
      "Class: Watermelon \n",
      "\n",
      "Fruit: {'color': 'yellow', 'size': 'big', 'shape': 'round'} \n",
      "Class: other \n",
      "\n",
      "Fruit: {'color': 'red', 'size': 'medium'} \n",
      "Class: other \n",
      "\n",
      "Fruit: {'color': 'green', 'size': 'big'} \n",
      "Class: Watermelon \n",
      "\n",
      "Fruit: {'color': 'red', 'size': 'small', 'taste': 'sour'} \n",
      "Class: other \n",
      "\n",
      "Fruit: {'color': 'green', 'size': 'small'} \n",
      "Class: apple \n",
      "\n",
      "====================================================================================================\n"
     ]
    },
    {
     "data": {
      "text/plain": [
       "['Watermelon', 'other', 'other', 'Watermelon', 'other', 'apple']"
      ]
     },
     "execution_count": 44,
     "metadata": {},
     "output_type": "execute_result"
    }
   ],
   "source": [
    "results = []\n",
    "\n",
    "for x in data:\n",
    "    res = classify(x)\n",
    "    results.append(res)\n",
    "    #results += [classify(x)]\n",
    "    print(f\"Fruit: {x} \\nClass: {res} \\n\")      # \\n is used to print in new line\n",
    "\n",
    "print(100*\"=\")\n",
    "results\n"
   ]
  },
  {
   "attachments": {},
   "cell_type": "markdown",
   "metadata": {},
   "source": [
    "#### List comprehensions\n",
    "we can directly create a list & generate objects inside it.."
   ]
  },
  {
   "cell_type": "code",
   "execution_count": 45,
   "metadata": {},
   "outputs": [
    {
     "data": {
      "text/plain": [
       "(list, ['Watermelon', 'other', 'other', 'Watermelon', 'other', 'apple'])"
      ]
     },
     "execution_count": 45,
     "metadata": {},
     "output_type": "execute_result"
    }
   ],
   "source": [
    "rslt = [classify(x) for x in data]\n",
    "type(rslt), rslt\n"
   ]
  },
  {
   "cell_type": "code",
   "execution_count": 46,
   "metadata": {},
   "outputs": [
    {
     "data": {
      "text/plain": [
       "['Watermelon', 'Watermelon', 'apple']"
      ]
     },
     "execution_count": 46,
     "metadata": {},
     "output_type": "execute_result"
    }
   ],
   "source": [
    "# [expression iterator {condition}]\n",
    "[classify(x) for x in data if x[\"color\"] == \"green\"]         # list comprehension - not very efficient way of writing code"
   ]
  },
  {
   "cell_type": "code",
   "execution_count": 47,
   "metadata": {},
   "outputs": [
    {
     "data": {
      "text/plain": [
       "'Total no of Watermelon are 2'"
      ]
     },
     "execution_count": 47,
     "metadata": {},
     "output_type": "execute_result"
    }
   ],
   "source": [
    "# counting objects in a list (Normal Way)\n",
    "obj = \"Watermelon\"\n",
    "\n",
    "count = 0\n",
    "for i in rslt:\n",
    "    if i == obj:\n",
    "        count+=1\n",
    "\n",
    "f\"Total no of {obj} are {count}\""
   ]
  },
  {
   "cell_type": "code",
   "execution_count": 48,
   "metadata": {},
   "outputs": [
    {
     "data": {
      "text/plain": [
       "'The no of Watermelon are 2'"
      ]
     },
     "execution_count": 48,
     "metadata": {},
     "output_type": "execute_result"
    }
   ],
   "source": [
    "# Counting through list comprehension with built-in \"sum\" function\n",
    "count = sum([classify(x) == obj for x in data])   # sum of Bool: True = 1 & False = 0\n",
    "\n",
    "f\"The no of {obj} are {count}\""
   ]
  },
  {
   "cell_type": "code",
   "execution_count": 49,
   "metadata": {},
   "outputs": [
    {
     "name": "stdout",
     "output_type": "stream",
     "text": [
      "Full List: [5.0, (2, 3), 0.7071067811865476, 'some text', [1, 2, 3, 4, 5, 6, 7, 8, 9, 10], {2, 5}, 55]\n",
      "====================================================================================================\n",
      "0 -> 5.0\n",
      "1 -> (2, 3)\n",
      "2 -> 0.7071067811865476\n",
      "4 -> [1, 2, 3, 4, 5, 6, 7, 8, 9, 10]\n",
      "5 -> {2, 5}\n",
      "6 -> 55\n"
     ]
    }
   ],
   "source": [
    "a = [1,2,3,4,5,6,7,8,9,10]\n",
    "f = lambda x: sum(x)\n",
    "\n",
    "lst = [5.0, (2,3), 2**-0.5, \"some text\", a, {2,5}, f(a)]\n",
    "\n",
    "print(f\"Full List: {lst}\")\n",
    "print(100*\"=\")\n",
    "\n",
    "for i, element in enumerate(lst):\n",
    "    if type(element) == str:\n",
    "        #break                      # break the (if) loop but the (for) loop will continue\n",
    "    \tcontinue                   # skip the string and continue with the (for) loop\n",
    "    print(f\"{i} -> {element}\")\n",
    "\n"
   ]
  },
  {
   "cell_type": "code",
   "execution_count": 50,
   "metadata": {},
   "outputs": [
    {
     "name": "stdout",
     "output_type": "stream",
     "text": [
      "0 -> 5.0\n",
      "1 -> (2, 3)\n",
      "2 -> 0.7071067811865476\n"
     ]
    }
   ],
   "source": [
    "def f():\n",
    "    for i in range(2):                     # range(2) = [0,1]\n",
    "        for i, element in enumerate(lst):\n",
    "            if type(element) == str:\n",
    "                #break                      # break the (if) loop and the (for) loop will stop, however, \"break\" will not break the outer loop (or every loop in a nested loop)\n",
    "                return None                 # return will break the outer loop (or every loop in a nested loop) - but it works with only functions\n",
    "            print(f\"{i} -> {element}\")\n",
    "\n",
    "f()"
   ]
  },
  {
   "cell_type": "markdown",
   "metadata": {},
   "source": [
    "### Dictionary Comprehensions"
   ]
  },
  {
   "cell_type": "code",
   "execution_count": 51,
   "metadata": {},
   "outputs": [
    {
     "data": {
      "text/plain": [
       "[('Anna', 20), ('Bob', 30), ('Chi', 55), ('Dan', 69)]"
      ]
     },
     "execution_count": 51,
     "metadata": {},
     "output_type": "execute_result"
    }
   ],
   "source": [
    "names = [\"Anna\", \"Bob\", \"Chi\", \"Dan\"]\n",
    "age = [20,30,55,69]\n",
    "\n",
    "# Given the names & ages: create a list of tuples in accordance with the data\n",
    "\n",
    "names_and_ages = zip(names, age)  # zip creates a list of tuplewise elements\n",
    "list(names_and_ages)"
   ]
  },
  {
   "cell_type": "code",
   "execution_count": 52,
   "metadata": {},
   "outputs": [
    {
     "data": {
      "text/plain": [
       "{'Anna': 20, 'Bob': 30, 'Chi': 55, 'Dan': 69}"
      ]
     },
     "execution_count": 52,
     "metadata": {},
     "output_type": "execute_result"
    }
   ],
   "source": [
    "# create a dictionary via dict-comprehensions\n",
    "\n",
    "dct = {key:value for key, value in zip(names, age)}\n",
    "dct"
   ]
  },
  {
   "cell_type": "markdown",
   "metadata": {},
   "source": [
    "### Read from a file"
   ]
  },
  {
   "cell_type": "markdown",
   "metadata": {},
   "source": [
    "\"with\" statement helps opening & closing a file"
   ]
  },
  {
   "cell_type": "code",
   "execution_count": 53,
   "metadata": {},
   "outputs": [
    {
     "name": "stdout",
     "output_type": "stream",
     "text": [
      "['80', '55', '16', '26', '37', '62', '49', '13', '28', '56']\n",
      "['43', '45', '47', '63', '43', '65', '10', '52', '30', '18']\n",
      "['63', '71', '69', '24', '54', '29', '79', '83', '38', '56']\n",
      "['46', '42', '39', '14', '47', '40', '72', '43', '57', '47']\n",
      "['61', '49', '65', '31', '79', '62', '9', '90', '65', '44']\n",
      "['10', '28', '16', '6', '61', '72', '78', '55', '54', '48']\n"
     ]
    }
   ],
   "source": [
    "with open(\"./scores.txt\", \"r\") as f:   #open file as f for \"r\" = reading\n",
    "\n",
    "    data = []\n",
    "\n",
    "    for line in f:\n",
    "        line_entries = line.strip().split(\",\")   \n",
    "\n",
    "        print(line_entries)          # further we want our data to be float instead of strings\n",
    "\n",
    "        data.extend([float(x) for x in line_entries])  # extend is used to add the list to the existing list (list concatenation), whereas append will add the list as a single element to the existing list\n",
    "                                          \n",
    "        #data.append([float(x) for x in line_entries])\n"
   ]
  },
  {
   "cell_type": "code",
   "execution_count": 54,
   "metadata": {},
   "outputs": [
    {
     "data": {
      "text/plain": [
       "'Data Length: 60 || File content: [80.0, 55.0, 16.0, 26.0, 37.0, 62.0, 49.0, 13.0, 28.0, 56.0, 43.0, 45.0, 47.0, 63.0, 43.0, 65.0, 10.0, 52.0, 30.0, 18.0, 63.0, 71.0, 69.0, 24.0, 54.0, 29.0, 79.0, 83.0, 38.0, 56.0, 46.0, 42.0, 39.0, 14.0, 47.0, 40.0, 72.0, 43.0, 57.0, 47.0, 61.0, 49.0, 65.0, 31.0, 79.0, 62.0, 9.0, 90.0, 65.0, 44.0, 10.0, 28.0, 16.0, 6.0, 61.0, 72.0, 78.0, 55.0, 54.0, 48.0]'"
      ]
     },
     "execution_count": 54,
     "metadata": {},
     "output_type": "execute_result"
    }
   ],
   "source": [
    "f\"Data Length: {len(data)} || File content: {data}\""
   ]
  },
  {
   "cell_type": "code",
   "execution_count": 55,
   "metadata": {},
   "outputs": [
    {
     "data": {
      "text/plain": [
       "'Train Data has 48 elements & Test data has 12'"
      ]
     },
     "execution_count": 55,
     "metadata": {},
     "output_type": "execute_result"
    }
   ],
   "source": [
    "# Train-Test split\n",
    "N = len(data)\n",
    "\n",
    "ratio= 0.8\n",
    "split = int(ratio*N)    # 80% of the data\n",
    "\n",
    "train_data = data[:split]\n",
    "test_data = data[split:]\n",
    "\n",
    "f\"Train Data has {len(train_data)} elements & Test data has {len(test_data)}\""
   ]
  },
  {
   "cell_type": "code",
   "execution_count": 56,
   "metadata": {},
   "outputs": [],
   "source": [
    "import os      # imp package to work with operating system: for file & directory handelling "
   ]
  },
  {
   "cell_type": "code",
   "execution_count": 57,
   "metadata": {},
   "outputs": [],
   "source": [
    "def write(data, outfile = \"./output.txt\"):\n",
    "    try:\n",
    "\n",
    "        # Make sure not to overwrite on existing file\n",
    "        if os.path.exists(outfile):\n",
    "            raise Exception(f\"File '{outfile}' exists already.\")\n",
    "        with open(outfile, \"w\") as f:   # \"a\"\n",
    "\n",
    "            f.write(str(data))\n",
    "\n",
    "            print(f\"Successfully written to {outfile}\")\n",
    "    except:\n",
    "\n",
    "        # recreate_file(data, outfile)\n",
    "        print(f\"Exception occured: {e}\")\n",
    "\n"
   ]
  },
  {
   "cell_type": "markdown",
   "metadata": {},
   "source": [
    "In try-except block, we try to execute some code where we open a file for writing & we write the string representation of a dataset & after that we successfully say we write a file. In case if sth wrong in \"try\" block, the message in \"except\" will appear. However, there are some exceptions in \"raise\".\n",
    "\n",
    "Below, we write 2 files Train & Test. For the first time they work, however, if run again... it will show the msg in \"raise\"\n"
   ]
  },
  {
   "cell_type": "code",
   "execution_count": 58,
   "metadata": {},
   "outputs": [],
   "source": [
    "#write(train_data, outfile = \"train_scores.txt\")\n",
    "#write(test_data, outfile = \"test_score.txt\")"
   ]
  },
  {
   "cell_type": "markdown",
   "metadata": {},
   "source": [
    "### Classes\n",
    "Classes are useful for modelling anything that has an internal state (denoted by \"self\"), for example, ML models. After applying a model & train some data, collect some statistice & the results stored in one place called \"class\" (classifier/ decision maker or regressor). Below we have defined a class (some pre-defined object in Python) for a classifier (model that classifies objects).\n",
    " "
   ]
  },
  {
   "cell_type": "code",
   "execution_count": 59,
   "metadata": {},
   "outputs": [],
   "source": [
    "class Classifier(object):\n",
    "    \n",
    "    # Now define a constructor (special method inside class definition with \"__\") \n",
    "    def __init__(self, name = \"Score\"):      # self = internal state\n",
    "        self.avg = 0\n",
    "        self.name = name                      # default values\n",
    "    \n",
    "    # representator constructor (special method to represent the solutions)\n",
    "    def __repr__(self):\n",
    "        return f\"{self.name} classifier with avg: {self.avg:0.3f}\"  # with 3 digit floats\n",
    "    \n",
    "    # methods (any methods which is represented by the defined class)\n",
    "    def train(self, data):\n",
    "        self.avg = sum(data)/len(data)\n",
    "        return self\n",
    "    \n",
    "    def predict(self,data):\n",
    "        return [\"above\" if x>self.avg else \"below\" for x in data]\n",
    "        \n",
    "    \n",
    "\n"
   ]
  },
  {
   "cell_type": "code",
   "execution_count": 60,
   "metadata": {},
   "outputs": [
    {
     "name": "stdout",
     "output_type": "stream",
     "text": [
      "0 Custom\n",
      "Custom classifier with avg: 0.000\n",
      "Temp classifier with avg: 0.000\n"
     ]
    }
   ],
   "source": [
    "# creation of new classifier object\n",
    "c = Classifier(name = \"Custom\")     # we name the classifier Custom\n",
    "print(c.avg, c.name)                # Default values\n",
    "\n",
    "# __repr__ function is called\n",
    "print(c)\n",
    "\n",
    "d = Classifier(name = \"Temp\")     # a new classifier named \"Temp\"\n",
    "print(d)"
   ]
  },
  {
   "cell_type": "code",
   "execution_count": 61,
   "metadata": {},
   "outputs": [
    {
     "name": "stdout",
     "output_type": "stream",
     "text": [
      "Data length: 60\n",
      "Train len: 48 Test len: 12\n"
     ]
    }
   ],
   "source": [
    "# Get train & test from scores - using utils\n",
    "from utils1 import get_train_test_data\n",
    "\n",
    "train_data, test_data = get_train_test_data(path = \"./scores.txt\", train_size= 0.8)\n"
   ]
  },
  {
   "cell_type": "code",
   "execution_count": 62,
   "metadata": {},
   "outputs": [
    {
     "data": {
      "text/plain": [
       "Custom classifier with avg: 47.854"
      ]
     },
     "execution_count": 62,
     "metadata": {},
     "output_type": "execute_result"
    }
   ],
   "source": [
    "# Train the classifier & inspect what it has learned\n",
    "c.train(train_data)"
   ]
  },
  {
   "cell_type": "code",
   "execution_count": 63,
   "metadata": {},
   "outputs": [
    {
     "name": "stdout",
     "output_type": "stream",
     "text": [
      "Test data length: 12\n",
      "Avg: 47.854\n",
      "Test: [65.0, 44.0, 10.0, 28.0, 16.0, 6.0, 61.0, 72.0, 78.0, 55.0, 54.0, 48.0]\n",
      "prediction: ['above', 'below', 'below', 'below', 'below', 'below', 'above', 'above', 'above', 'above', 'above', 'above']\n"
     ]
    },
    {
     "data": {
      "text/plain": [
       "[(65.0, 'above'), (44.0, 'below'), (10.0, 'below'), (28.0, 'below')]"
      ]
     },
     "execution_count": 63,
     "metadata": {},
     "output_type": "execute_result"
    }
   ],
   "source": [
    "# Application of test data to model\n",
    "print(f\"Test data length: {len(test_data)}\")\n",
    "\n",
    "test_preds = c.predict(test_data)\n",
    "print(f\"Avg: {c.avg:0.3f}\")\n",
    "print(f\"Test: {test_data}\")\n",
    "print(f\"prediction: {test_preds}\")\n",
    "\n",
    "# Zipped result from prediction (only first 4 elements)\n",
    "combine = zip(test_data[:4], test_preds[:4])\n",
    "list(combine)"
   ]
  },
  {
   "cell_type": "markdown",
   "metadata": {},
   "source": [
    "## Items done in Week1\n",
    "* Lambda Function\n",
    "* Iterators\n",
    "* List operations & concatenations\n",
    "* List comprehensions (create a direct list, loop inside a list & generate counts using built-in \"sum\" function)\n",
    "* Dictionary operation & concatenations\n",
    "* Dict comprehensions (create a dictionaty wit 2 list of equal elements using a loop & zip function in a single line)\n",
    "* File (read a file, change data from strings to float, make a test & train split, open a file for writing,\n",
    "check everything is good using try-except, created 2 files)\n",
    "* Classes & Classifier\n"
   ]
  },
  {
   "cell_type": "code",
   "execution_count": 64,
   "metadata": {},
   "outputs": [],
   "source": [
    "def types_of(list):\n",
    "    return [type(i) for i in list]"
   ]
  },
  {
   "cell_type": "code",
   "execution_count": 65,
   "metadata": {},
   "outputs": [
    {
     "data": {
      "text/plain": [
       "[int, float, str, bool, tuple]"
      ]
     },
     "execution_count": 65,
     "metadata": {},
     "output_type": "execute_result"
    }
   ],
   "source": [
    "types = types_of([7, 0.7, \"hello\", True, (2, \"s\")])\n",
    "types"
   ]
  },
  {
   "cell_type": "code",
   "execution_count": 66,
   "metadata": {},
   "outputs": [
    {
     "data": {
      "text/plain": [
       "'Hello World.'"
      ]
     },
     "execution_count": 66,
     "metadata": {},
     "output_type": "execute_result"
    }
   ],
   "source": [
    "\"   Hello World.   \".strip()"
   ]
  },
  {
   "cell_type": "code",
   "execution_count": 67,
   "metadata": {},
   "outputs": [
    {
     "name": "stdout",
     "output_type": "stream",
     "text": [
      "apple\n",
      "banana\n",
      "cherry\n"
     ]
    }
   ],
   "source": [
    "thistuple = (\"apple\", \"banana\", \"cherry\")\n",
    "for i in range(len(thistuple)):\n",
    "  print(thistuple[i])"
   ]
  },
  {
   "cell_type": "markdown",
   "metadata": {},
   "source": [
    "## Week - 2"
   ]
  },
  {
   "attachments": {},
   "cell_type": "markdown",
   "metadata": {},
   "source": [
    "#### Array"
   ]
  },
  {
   "cell_type": "code",
   "execution_count": 68,
   "metadata": {},
   "outputs": [],
   "source": [
    "import numpy as np"
   ]
  },
  {
   "cell_type": "code",
   "execution_count": 69,
   "metadata": {},
   "outputs": [
    {
     "data": {
      "text/plain": [
       "(array([1, 2, 3, 4]), numpy.ndarray, dtype('int32'))"
      ]
     },
     "execution_count": 69,
     "metadata": {},
     "output_type": "execute_result"
    }
   ],
   "source": [
    "X = np.array([1,2,3,4])         # Crerates a powerful N-dimensional Numpy array object from a List\n",
    "X, type(X), X.dtype"
   ]
  },
  {
   "cell_type": "code",
   "execution_count": 70,
   "metadata": {},
   "outputs": [
    {
     "data": {
      "text/plain": [
       "(array([1., 2., 3., 4.]), numpy.ndarray, dtype('float64'))"
      ]
     },
     "execution_count": 70,
     "metadata": {},
     "output_type": "execute_result"
    }
   ],
   "source": [
    "Y = np.array([1,2.0,3,4])\n",
    "\n",
    "Y, type(Y), Y.dtype"
   ]
  },
  {
   "cell_type": "code",
   "execution_count": 71,
   "metadata": {},
   "outputs": [
    {
     "name": "stdout",
     "output_type": "stream",
     "text": [
      "[2 4 6 8] int32\n"
     ]
    }
   ],
   "source": [
    "Z = np.array(range(2,10,2)) # from Range Generator object\n",
    "print(Z, Z.dtype)"
   ]
  },
  {
   "cell_type": "code",
   "execution_count": 72,
   "metadata": {},
   "outputs": [
    {
     "name": "stdout",
     "output_type": "stream",
     "text": [
      "[1. 2. 3. 4.] float64\n"
     ]
    }
   ],
   "source": [
    "# Data Casting: How u want ur data in an Array or how to change the data type of data in an array\n",
    "X = X.astype(float)      # .astype -- will do the work\n",
    "print(X, X.dtype)"
   ]
  },
  {
   "cell_type": "code",
   "execution_count": 73,
   "metadata": {},
   "outputs": [
    {
     "data": {
      "text/plain": [
       "(array([1, 2, 3, 4]), dtype('int32'))"
      ]
     },
     "execution_count": 73,
     "metadata": {},
     "output_type": "execute_result"
    }
   ],
   "source": [
    "X = X.astype(np.int32)\n",
    "X, X.dtype"
   ]
  },
  {
   "cell_type": "code",
   "execution_count": 74,
   "metadata": {},
   "outputs": [
    {
     "data": {
      "text/plain": [
       "(array(['1', '2', '3', '4'], dtype='<U11'), dtype('<U11'))"
      ]
     },
     "execution_count": 74,
     "metadata": {},
     "output_type": "execute_result"
    }
   ],
   "source": [
    "X = X.astype(str)\n",
    "X, X.dtype"
   ]
  },
  {
   "cell_type": "code",
   "execution_count": 75,
   "metadata": {},
   "outputs": [
    {
     "data": {
      "text/plain": [
       "(array([1.+0.j, 2.+0.j, 3.+0.j, 4.+0.j], dtype=complex64), dtype('complex64'))"
      ]
     },
     "execution_count": 75,
     "metadata": {},
     "output_type": "execute_result"
    }
   ],
   "source": [
    "X = X.astype(np.complex64)\n",
    "X, X.dtype"
   ]
  },
  {
   "cell_type": "code",
   "execution_count": 76,
   "metadata": {},
   "outputs": [
    {
     "data": {
      "text/plain": [
       "(array([ 3.,  6.,  9., 12.]), dtype('float64'))"
      ]
     },
     "execution_count": 76,
     "metadata": {},
     "output_type": "execute_result"
    }
   ],
   "source": [
    "# Ooperation b/w numpy arrays\n",
    "A = Y+Z\n",
    "A, A.dtype         # float b/c \"Y\" was a float. Adding means the elements add with each other... dimensions are imp while doing arithmatic operation\n",
    "\n",
    "# Element-wise power, multiplication... Unlike List - leads to concatenation"
   ]
  },
  {
   "cell_type": "code",
   "execution_count": 77,
   "metadata": {},
   "outputs": [
    {
     "data": {
      "text/plain": [
       "[1, 2, 3, 4, 5, 6, 7, 8]"
      ]
     },
     "execution_count": 77,
     "metadata": {},
     "output_type": "execute_result"
    }
   ],
   "source": [
    "X_list = [1,2,3,4]\n",
    "Y_list = [5,6,7,8]\n",
    "\n",
    "\n",
    "X_list+Y_list  # concatenation"
   ]
  },
  {
   "cell_type": "code",
   "execution_count": 78,
   "metadata": {},
   "outputs": [
    {
     "data": {
      "text/plain": [
       "array([ 6,  8, 10, 12])"
      ]
     },
     "execution_count": 78,
     "metadata": {},
     "output_type": "execute_result"
    }
   ],
   "source": [
    "X_arr = np.array(X_list)\n",
    "Y_arr = np.array(Y_list)\n",
    "\n",
    "X_arr + Y_arr        # Element-wise operation"
   ]
  },
  {
   "cell_type": "code",
   "execution_count": 79,
   "metadata": {},
   "outputs": [
    {
     "name": "stdout",
     "output_type": "stream",
     "text": [
      "X:  [1.+0.j 2.+0.j 3.+0.j 4.+0.j]\n",
      "X tail:  [3.+0.j 4.+0.j]\n",
      "X Slicing:  [2.+0.j 3.+0.j 4.+0.j]\n",
      "X even:  [2.+0.j 4.+0.j]\n",
      "X reverse order:  [4.+0.j 3.+0.j 2.+0.j 1.+0.j]\n",
      "X all except last element:  [1.+0.j 2.+0.j 3.+0.j]\n"
     ]
    }
   ],
   "source": [
    "# Indexing & slicing in Array!! (Similar to Python List & Tuples)\n",
    "\n",
    "print(\"X: \", X)\n",
    "print(\"X tail: \", X[2:])\n",
    "print(\"X Slicing: \", X[1:4])\n",
    "print(\"X even: \", X[1::2])       # using step\n",
    "print(\"X reverse order: \", X[::-1])\n",
    "print(\"X all except last element: \", X[:-1])\n"
   ]
  },
  {
   "cell_type": "code",
   "execution_count": 80,
   "metadata": {},
   "outputs": [],
   "source": [
    "# Elementwise operation in Pure Python\n",
    "#My_list = [X_list * Y_list for x, y in zip(X_list,Y_list)]\n",
    "My_arr = X_arr * Y_arr\n",
    "\n"
   ]
  },
  {
   "attachments": {},
   "cell_type": "markdown",
   "metadata": {},
   "source": [
    "#### Numpy Array - VECTOR"
   ]
  },
  {
   "cell_type": "code",
   "execution_count": 81,
   "metadata": {},
   "outputs": [
    {
     "data": {
      "text/plain": [
       "(array([1, 2, 3]), numpy.ndarray, dtype('int32'), (3,))"
      ]
     },
     "execution_count": 81,
     "metadata": {},
     "output_type": "execute_result"
    }
   ],
   "source": [
    "vec = np.array([1,2,3])\n",
    "vec, type(vec), vec.dtype, vec.shape    # just a simple column vector with 3 elements"
   ]
  },
  {
   "attachments": {},
   "cell_type": "markdown",
   "metadata": {},
   "source": [
    "For a matrix, the Horoizontal direction means row vector & Vertical direction means column vector"
   ]
  },
  {
   "cell_type": "code",
   "execution_count": 82,
   "metadata": {},
   "outputs": [],
   "source": [
    "# Adding a dimenstion \n",
    "from numpy import newaxis as na  "
   ]
  },
  {
   "cell_type": "code",
   "execution_count": 83,
   "metadata": {},
   "outputs": [
    {
     "data": {
      "text/plain": [
       "(array([[1, 2, 3]]), array([[1, 2, 3]]), (1, 3))"
      ]
     },
     "execution_count": 83,
     "metadata": {},
     "output_type": "execute_result"
    }
   ],
   "source": [
    "vec_row = vec[na]       # new axis & these methods are equivalant to add a horizontal axis\n",
    "# OR\n",
    "vec_roe = vec[None]     # if we use None then there is no need to import newaxis\n",
    " \n",
    "vec_roe, vec_row, vec_roe.shape        # 1x3 Vector OR Matrix"
   ]
  },
  {
   "cell_type": "code",
   "execution_count": 84,
   "metadata": {},
   "outputs": [
    {
     "data": {
      "text/plain": [
       "(array([[1],\n",
       "        [2],\n",
       "        [3]]),\n",
       " (3, 1),\n",
       " 3)"
      ]
     },
     "execution_count": 84,
     "metadata": {},
     "output_type": "execute_result"
    }
   ],
   "source": [
    "# To Define 3x1 Matrix - 3Rows & 1Column\n",
    "vec_col = vec[:, None]    # column vector - None is used insted of na (both are same)\n",
    "vec_col, vec_col.shape, vec_col.size"
   ]
  },
  {
   "cell_type": "code",
   "execution_count": 85,
   "metadata": {},
   "outputs": [
    {
     "name": "stdout",
     "output_type": "stream",
     "text": [
      "[[1 2 3]\n",
      " [4 5 6]] <class 'numpy.ndarray'>\n"
     ]
    }
   ],
   "source": [
    "# 2D Array from list of Lists\n",
    "A = [\n",
    "    [1,2,3],\n",
    "    [4,5,6]\n",
    "]\n",
    "A = np.array(A)\n",
    "print(A, type(A))\n",
    "\n"
   ]
  },
  {
   "cell_type": "code",
   "execution_count": 86,
   "metadata": {},
   "outputs": [
    {
     "name": "stdout",
     "output_type": "stream",
     "text": [
      "(2, 3) 6\n"
     ]
    }
   ],
   "source": [
    "if isinstance(A, np.ndarray):                      # isinstance - numpy function to counter check if A is an ndarray\n",
    "    print(A.shape, A.size)\n",
    "\n",
    "# 2x3 Matrix with 6 elements in it"
   ]
  },
  {
   "cell_type": "code",
   "execution_count": 87,
   "metadata": {},
   "outputs": [
    {
     "name": "stdout",
     "output_type": "stream",
     "text": [
      "[[14 32]\n",
      " [32 77]] (2, 2)\n"
     ]
    }
   ],
   "source": [
    "# Matrix multiplication using dot product\n",
    "\n",
    "# 2x3 . 3x2 -> 2x2\n",
    "A2 = A.dot(A.T)         # A by A-transpose\n",
    "print(A2, A2.shape)"
   ]
  },
  {
   "cell_type": "code",
   "execution_count": 88,
   "metadata": {},
   "outputs": [
    {
     "name": "stdout",
     "output_type": "stream",
     "text": [
      "[[14 32]\n",
      " [32 77]] (2, 2)\n"
     ]
    }
   ],
   "source": [
    "# OR (lets suppose A isnt ndarray)\n",
    "A3 = np.dot(A,np.transpose(A))\n",
    "print(A3, A3.shape)\n"
   ]
  },
  {
   "cell_type": "code",
   "execution_count": 89,
   "metadata": {},
   "outputs": [
    {
     "name": "stdout",
     "output_type": "stream",
     "text": [
      "[[14 32]\n",
      " [32 77]] (2, 2)\n"
     ]
    }
   ],
   "source": [
    "# OR\n",
    "# we know A is already an ndarray\n",
    "\n",
    "A4 = A@A.T             # works in python version>3.4\n",
    "print(A4, A4.shape)"
   ]
  },
  {
   "attachments": {},
   "cell_type": "markdown",
   "metadata": {},
   "source": [
    "Tensors - N-dimensional arrays\n",
    "\n",
    "\n",
    "N-dim array creation"
   ]
  },
  {
   "cell_type": "code",
   "execution_count": 90,
   "metadata": {},
   "outputs": [
    {
     "data": {
      "text/plain": [
       "(array([[[0., 0.],\n",
       "         [0., 0.],\n",
       "         [0., 0.]],\n",
       " \n",
       "        [[0., 0.],\n",
       "         [0., 0.],\n",
       "         [0., 0.]]]),\n",
       " (2, 3, 2))"
      ]
     },
     "execution_count": 90,
     "metadata": {},
     "output_type": "execute_result"
    }
   ],
   "source": [
    "# All zeros with the given shape\n",
    "A_zeros = np.zeros(shape = (2,3,2))     # 2 3x2 zero matrices\n",
    "A_zeros, A_zeros.shape\n"
   ]
  },
  {
   "cell_type": "code",
   "execution_count": 91,
   "metadata": {},
   "outputs": [
    {
     "data": {
      "text/plain": [
       "(array([[[1., 1.],\n",
       "         [1., 1.]],\n",
       " \n",
       "        [[1., 1.],\n",
       "         [1., 1.]],\n",
       " \n",
       "        [[1., 1.],\n",
       "         [1., 1.]]]),\n",
       " (3, 2, 2))"
      ]
     },
     "execution_count": 91,
     "metadata": {},
     "output_type": "execute_result"
    }
   ],
   "source": [
    "A_ones = np.ones(shape=(3,2,2))        # 3 2x2 matrices\n",
    "A_ones, A_ones.shape "
   ]
  },
  {
   "cell_type": "code",
   "execution_count": 92,
   "metadata": {},
   "outputs": [
    {
     "name": "stdout",
     "output_type": "stream",
     "text": [
      "[[1 1 1]\n",
      " [1 1 1]] (2, 3)\n"
     ]
    }
   ],
   "source": [
    "# When u want to have a ones or zeros tensor like some given array\n",
    "A5 = np.ones_like(A)           # takes the shape from A\n",
    "print(A5, A5.shape)"
   ]
  },
  {
   "cell_type": "code",
   "execution_count": 93,
   "metadata": {},
   "outputs": [
    {
     "name": "stdout",
     "output_type": "stream",
     "text": [
      "[ 2  4  6  8 10 12 14 16 18 20 22 24 26 28 30 32 34 36 38 40 42 44 46 48] <class 'numpy.ndarray'> 24\n"
     ]
    }
   ],
   "source": [
    "# N-dim array reshaping\n",
    "A = np.arange(2,49,2)       # similar to range in python, it creates an n-dim array from some range starts from 2 till 49-1, with step size 2\n",
    "print(A, type(A), len(A))  "
   ]
  },
  {
   "cell_type": "code",
   "execution_count": 94,
   "metadata": {},
   "outputs": [
    {
     "name": "stdout",
     "output_type": "stream",
     "text": [
      "[[[ 2  4  6  8]\n",
      "  [10 12 14 16]\n",
      "  [18 20 22 24]]\n",
      "\n",
      " [[26 28 30 32]\n",
      "  [34 36 38 40]\n",
      "  [42 44 46 48]]]\n"
     ]
    },
    {
     "data": {
      "text/plain": [
       "((2, 3, 4), 3, 2)"
      ]
     },
     "execution_count": 94,
     "metadata": {},
     "output_type": "execute_result"
    }
   ],
   "source": [
    "# now we want to have a tensor where we have 2 matrices & each matrix is 3x4, from original A which has 24 elements\n",
    "new_shape = (2,3,4)                  # 3D array\n",
    "A_t = A.reshape(new_shape) #  or resize (2,3,4) manipulates the original Array\n",
    "\n",
    "assert len(A) == np.product(new_shape)\n",
    "print(A_t)\n",
    "\n",
    "A_t.shape, A_t.ndim, len(A_t)          # length here assues the list of list & considers 2 list inside an array"
   ]
  },
  {
   "cell_type": "code",
   "execution_count": 95,
   "metadata": {},
   "outputs": [
    {
     "name": "stdout",
     "output_type": "stream",
     "text": [
      "[[26 28 30 32]\n",
      " [34 36 38 40]\n",
      " [42 44 46 48]]\n"
     ]
    }
   ],
   "source": [
    "# N-d Array Indexing\n",
    "print(A_t[1])          # Second sub-matrix"
   ]
  },
  {
   "cell_type": "code",
   "execution_count": 96,
   "metadata": {},
   "outputs": [
    {
     "name": "stdout",
     "output_type": "stream",
     "text": [
      "[[34 36 38 40]\n",
      " [42 44 46 48]]\n"
     ]
    }
   ],
   "source": [
    "print(A_t[1, 1:3])    # 2nd & 3rd row of 2nd sub-matrix - indexing defined for multiple axis"
   ]
  },
  {
   "cell_type": "code",
   "execution_count": 97,
   "metadata": {},
   "outputs": [
    {
     "name": "stdout",
     "output_type": "stream",
     "text": [
      "[32 40 48]\n"
     ]
    }
   ],
   "source": [
    "print(A_t[1, :,-1])      # last column of 2nd sub-matrix"
   ]
  },
  {
   "cell_type": "code",
   "execution_count": 98,
   "metadata": {},
   "outputs": [
    {
     "name": "stdout",
     "output_type": "stream",
     "text": [
      "[[34 36 38 40]]\n"
     ]
    }
   ],
   "source": [
    "print(A_t[1, 1::2])       # 2nd & 4th row of 2nd sub-matrix, though with the specified step size we dont have extra rows, therefore it return only 1 row"
   ]
  },
  {
   "attachments": {},
   "cell_type": "markdown",
   "metadata": {},
   "source": [
    "#### Boolean operation on Nyumpy objects"
   ]
  },
  {
   "cell_type": "code",
   "execution_count": 99,
   "metadata": {},
   "outputs": [
    {
     "name": "stdout",
     "output_type": "stream",
     "text": [
      "[-3 -2 -1  0  1  2  3  4]\n",
      "[False False False False False  True  True  True] bool\n"
     ]
    },
    {
     "data": {
      "text/plain": [
       "array([2, 3, 4])"
      ]
     },
     "execution_count": 99,
     "metadata": {},
     "output_type": "execute_result"
    }
   ],
   "source": [
    "import numpy as np\n",
    "\n",
    "a = np.arange(8)-3        # an array of 8 elements from 0 to 7 & then subtracting 3 from each element\n",
    "print(a)\n",
    "\n",
    "greater_one = a > 1                       # returns a boolean array\n",
    "print(greater_one, greater_one.dtype)     # boolean array\n",
    "\n",
    "a[a>1]                                    # returns the elements which are greater than 1 in the array\n"
   ]
  },
  {
   "cell_type": "code",
   "execution_count": 100,
   "metadata": {},
   "outputs": [
    {
     "name": "stdout",
     "output_type": "stream",
     "text": [
      "[ True  True False False False  True  True  True]\n",
      "[-3 -2  2  3  4]\n"
     ]
    },
    {
     "data": {
      "text/plain": [
       "array([-3, -2,  2,  3,  4])"
      ]
     },
     "execution_count": 100,
     "metadata": {},
     "output_type": "execute_result"
    }
   ],
   "source": [
    "# adding a boolean\n",
    "lower_minus_1 = a < -1\n",
    "mask = greater_one+lower_minus_1      # returns a boolean array where a is either greater than 1 or lower than -1\n",
    "print(mask)\n",
    "\n",
    "print(a[mask])                          # returns the elements which are either greater than 1 or lower than -1 in the array - print just for representation\n",
    "# OR \n",
    "a[(a>1) + (a<-1)]                       # returns the elements which are either greater than 1 or lower than -1 in the array\n",
    "# OR\n",
    "a[(a>1) | (a<-1)]                       # returns the elements which are either greater than 1 or lower than -1 in the array - Grouping using parenthesis"
   ]
  },
  {
   "cell_type": "code",
   "execution_count": 101,
   "metadata": {},
   "outputs": [
    {
     "name": "stdout",
     "output_type": "stream",
     "text": [
      "[ True  True False False False  True  True  True]\n"
     ]
    },
    {
     "data": {
      "text/plain": [
       "array([-3, -2,  2,  3,  4])"
      ]
     },
     "execution_count": 101,
     "metadata": {},
     "output_type": "execute_result"
    }
   ],
   "source": [
    "# OR\n",
    "mask = np.logical_or(lower_minus_1, greater_one)      # returns a boolean array where a is either greater than 1 or lower than -1\n",
    "print(mask)\n",
    "a[mask]"
   ]
  },
  {
   "cell_type": "code",
   "execution_count": 102,
   "metadata": {},
   "outputs": [
    {
     "name": "stdout",
     "output_type": "stream",
     "text": [
      "[False False False False False False False False]\n"
     ]
    },
    {
     "data": {
      "text/plain": [
       "array([], dtype=int32)"
      ]
     },
     "execution_count": 102,
     "metadata": {},
     "output_type": "execute_result"
    }
   ],
   "source": [
    "mask = greater_one*lower_minus_1            # logical and\n",
    "print(mask)\n",
    "a[mask]                                     # no one element can be -ve and +ve at the same time, therefore no element is returned"
   ]
  },
  {
   "cell_type": "code",
   "execution_count": 103,
   "metadata": {},
   "outputs": [
    {
     "name": "stdout",
     "output_type": "stream",
     "text": [
      "[-3 -2 -1  0  1  2  3  4]\n"
     ]
    },
    {
     "data": {
      "text/plain": [
       "True"
      ]
     },
     "execution_count": 103,
     "metadata": {},
     "output_type": "execute_result"
    }
   ],
   "source": [
    "# Numpy Boolean functions\n",
    "print(a)\n",
    "np.all(a<1)              # asking if all elements in a are < 1?? - returns boolean (False)\n",
    "np.any(a<1)              # asking if any element in a is < 1?? - returns boolean (True)"
   ]
  },
  {
   "cell_type": "code",
   "execution_count": 104,
   "metadata": {},
   "outputs": [
    {
     "name": "stdout",
     "output_type": "stream",
     "text": [
      "[ True  True  True  True  True  True  True  True]\n"
     ]
    },
    {
     "data": {
      "text/plain": [
       "True"
      ]
     },
     "execution_count": 104,
     "metadata": {},
     "output_type": "execute_result"
    }
   ],
   "source": [
    "print((a>=-3)* (a<5))\n",
    "np.all((a>=-3)* (a<5))  # asking if all elements in a are between -3 & 5?? - returns boolean (True)"
   ]
  },
  {
   "cell_type": "code",
   "execution_count": 105,
   "metadata": {},
   "outputs": [
    {
     "name": "stdout",
     "output_type": "stream",
     "text": [
      "[-3 -2 -1  0  1  2  3  4] <class 'numpy.ndarray'>\n",
      "[[-3 -2 -1  0]\n",
      " [ 1  2  3  4]] <class 'numpy.ndarray'> (2, 4)\n"
     ]
    }
   ],
   "source": [
    "# Numpy Boolean functions applied along an axis (similar to tensor indexing)\n",
    "print(a, type(a))     # 1D array\n",
    "A = a.reshape(-1,4)   # 2D array - 2x4 (I know my 2nd axis has 4 elements - so I can use -1 to identify the no of rows automatically from previous shape) \n",
    "print(A, type(A), A.shape)\n"
   ]
  },
  {
   "cell_type": "code",
   "execution_count": 106,
   "metadata": {},
   "outputs": [
    {
     "name": "stdout",
     "output_type": "stream",
     "text": [
      "[False False  True  True] bool (4,) <class 'numpy.ndarray'>\n",
      "[False  True] bool (2,) <class 'numpy.ndarray'>\n"
     ]
    }
   ],
   "source": [
    "# specify the collapsing axis\n",
    "ans = np.all(A>-2, axis = 0)        # asking if all elements in each column of A are > -2?? - returns boolean (False, True, True, True)\n",
    "print(ans, ans.dtype, ans.shape, type(ans))\n",
    "ans2 = np.all(A>-2, axis = 1)       # asking if all elements in each row of A are > -2?? - returns boolean (False, True)\n",
    "print(ans2, ans2.dtype, ans2.shape, type(ans2))"
   ]
  },
  {
   "cell_type": "code",
   "execution_count": 107,
   "metadata": {},
   "outputs": [
    {
     "name": "stdout",
     "output_type": "stream",
     "text": [
      "[[ 1  2  3  4]\n",
      " [ 5  6  7  8]\n",
      " [ 9 10 11 12]]\n",
      "(3, 4)\n",
      "----------------------------------------------------------------------------------------------------\n",
      "[15 18 21 24]\n",
      "----------------------------------------------------------------------------------------------------\n",
      "[10 26 42]\n"
     ]
    }
   ],
   "source": [
    "# Chat GPT example to understand the axis in arrays\n",
    "\n",
    "# Create a 2D array\n",
    "arr = np.array([[1, 2, 3, 4], [5, 6, 7, 8], [9, 10, 11, 12]])\n",
    "\n",
    "# Print the array and its shape\n",
    "print(arr)\n",
    "print(arr.shape) # output (3, 4)\n",
    "\n",
    "print(\"-\"*100)\n",
    "# Sum along the rows (axis 0)\n",
    "row_sum = np.sum(arr, axis=0)\n",
    "print(row_sum) # output [15 18 21 24]\n",
    "\n",
    "print(\"-\"*100)\n",
    "# Sum along the columns (axis 1)\n",
    "col_sum = np.sum(arr, axis=1)\n",
    "print(col_sum) # output [10 26 42]"
   ]
  },
  {
   "cell_type": "code",
   "execution_count": 108,
   "metadata": {},
   "outputs": [
    {
     "name": "stdout",
     "output_type": "stream",
     "text": [
      "[[[ 0.  1.  2.  3.]\n",
      "  [ 4.  5.  6.  7.]\n",
      "  [ 8.  9. 10. 11.]]\n",
      "\n",
      " [[12. 13. 14. 15.]\n",
      "  [16. 17. 18. 19.]\n",
      "  [20. 21. 22. 23.]]] <class 'numpy.ndarray'> (2, 3, 4)\n",
      "^^^^^^^^^^^^^^^^^^^^^^^^^^^^^^^^^^^^^^^^^^^^^^^^^^^^^^^^^^^^^^^^^^^^^^^^^^^^^^^^^^^^^^^^^^^^^^^^^^^^\n",
      "276.0\n",
      "----------------------------------------------------------------------------------------------------\n",
      "[[12. 14. 16. 18.]\n",
      " [20. 22. 24. 26.]\n",
      " [28. 30. 32. 34.]]\n",
      "----------------------------------------------------------------------------------------------------\n",
      "[[12. 15. 18. 21.]\n",
      " [48. 51. 54. 57.]]\n",
      "----------------------------------------------------------------------------------------------------\n",
      "[[ 6. 22. 38.]\n",
      " [54. 70. 86.]]\n",
      "^^^^^^^^^^^^^^^^^^^^^^^^^^^^^^^^^^^^^^^^^^^^^^^^^^^^^^^^^^^^^^^^^^^^^^^^^^^^^^^^^^^^^^^^^^^^^^^^^^^^\n",
      "11.5\n",
      "----------------------------------------------------------------------------------------------------\n",
      "[[ 6.  7.  8.  9.]\n",
      " [10. 11. 12. 13.]\n",
      " [14. 15. 16. 17.]]\n",
      "----------------------------------------------------------------------------------------------------\n",
      "[[ 4.  5.  6.  7.]\n",
      " [16. 17. 18. 19.]]\n",
      "----------------------------------------------------------------------------------------------------\n",
      "[[ 1.5  5.5  9.5]\n",
      " [13.5 17.5 21.5]]\n",
      "^^^^^^^^^^^^^^^^^^^^^^^^^^^^^^^^^^^^^^^^^^^^^^^^^^^^^^^^^^^^^^^^^^^^^^^^^^^^^^^^^^^^^^^^^^^^^^^^^^^^\n",
      "6.922186552431729\n",
      "----------------------------------------------------------------------------------------------------\n",
      "[[6. 6. 6. 6.]\n",
      " [6. 6. 6. 6.]\n",
      " [6. 6. 6. 6.]]\n",
      "----------------------------------------------------------------------------------------------------\n",
      "[[3.26598632 3.26598632 3.26598632 3.26598632]\n",
      " [3.26598632 3.26598632 3.26598632 3.26598632]]\n",
      "----------------------------------------------------------------------------------------------------\n",
      "[[1.11803399 1.11803399 1.11803399]\n",
      " [1.11803399 1.11803399 1.11803399]]\n",
      "----------------------------------------------------------------------------------------------------\n",
      "^^^^^^^^^^^^^^^^^^^^^^^^^^^^^^^^^^^^^^^^^^^^^^^^^^^^^^^^^^^^^^^^^^^^^^^^^^^^^^^^^^^^^^^^^^^^^^^^^^^^\n",
      "47.916666666666664\n",
      "----------------------------------------------------------------------------------------------------\n",
      "[[36. 36. 36. 36.]\n",
      " [36. 36. 36. 36.]\n",
      " [36. 36. 36. 36.]]\n",
      "----------------------------------------------------------------------------------------------------\n",
      "[[10.66666667 10.66666667 10.66666667 10.66666667]\n",
      " [10.66666667 10.66666667 10.66666667 10.66666667]]\n",
      "----------------------------------------------------------------------------------------------------\n",
      "[[1.25 1.25 1.25]\n",
      " [1.25 1.25 1.25]]\n",
      "----------------------------------------------------------------------------------------------------\n"
     ]
    }
   ],
   "source": [
    "C = np.arange(24).reshape(2,3,4).astype(float)    # 3D array - 2x3x4\n",
    "print(C, type(C), C.shape)\n",
    "print(\"^\"*100)\n",
    "\n",
    "# sum, avg, sd, var\n",
    "print(np.sum(C))        # sum of all elements\n",
    "print(\"-\"*100)\n",
    "print(np.sum(C, axis = 0))      # sum of all elements along axis 0\n",
    "print(\"-\"*100)\n",
    "print(np.sum(C, axis = 1))      # sum of all elements along axis 1\n",
    "print(\"-\"*100)\n",
    "print(np.sum(C, axis = 2))      # sum of all elements along axis 2\n",
    "\n",
    "print(\"^\"*100)\n",
    "print(np.mean(C))       # mean of all elements\n",
    "print(\"-\"*100)\n",
    "print(np.mean(C, axis = 0))     # mean of all elements along axis 0\n",
    "print(\"-\"*100)\n",
    "print(np.mean(C, axis = 1))     # mean of all elements along axis 1\n",
    "print(\"-\"*100)\n",
    "print(np.mean(C, axis = 2))     # mean of all elements along axis 2\n",
    "\n",
    "print(\"^\"*100)\n",
    "print(np.std(C))        # standard deviation of all elements\n",
    "print(\"-\"*100)\n",
    "print(np.std(C, axis = 0))      # standard deviation of all elements along axis 0\n",
    "print(\"-\"*100)\n",
    "print(np.std(C, axis = 1))      # standard deviation of all elements along axis 1\n",
    "print(\"-\"*100)\n",
    "print(np.std(C, axis = 2))      # standard deviation of all elements along axis 2\n",
    "print(\"-\"*100)\n",
    "\n",
    "print(\"^\"*100)\n",
    "print(np.var(C))        # variance of all elements\n",
    "print(\"-\"*100)\n",
    "print(np.var(C, axis = 0))      # variance of all elements along axis 0\n",
    "print(\"-\"*100)\n",
    "print(np.var(C, axis = 1))      # variance of all elements along axis 1\n",
    "print(\"-\"*100)\n",
    "print(np.var(C, axis = 2))      # variance of all elements along axis 2\n",
    "print(\"-\"*100)"
   ]
  },
  {
   "cell_type": "code",
   "execution_count": 109,
   "metadata": {},
   "outputs": [
    {
     "name": "stdout",
     "output_type": "stream",
     "text": [
      "[[ 0  1  2  3  4  5]\n",
      " [ 6  7  8  9 10 11]\n",
      " [12 13 14 15 16 17]\n",
      " [18 19 20 21 22 23]] <class 'numpy.ndarray'> (4, 6)\n",
      "^^^^^^^^^^^^^^^^^^^^^^^^^^^^^^^^^^^^^^^^^^^^^^^^^^^^^^^^^^^^^^^^^^^^^^^^^^^^^^^^^^^^^^^^^^^^^^^^^^^^\n",
      "[ 2.5  8.5 14.5 20.5] (4,) <class 'numpy.ndarray'>\n"
     ]
    }
   ],
   "source": [
    "C = np.arange(24).reshape(4,6)        # 2D array - 4x6\n",
    "print(C, type(C), C.shape)\n",
    "print(\"^\"*100)\n",
    "\n",
    "R = np.mean(C, axis = 1)              # mean of all elements along axis 1\n",
    "print(R, R.shape, type(R))\n"
   ]
  },
  {
   "attachments": {},
   "cell_type": "markdown",
   "metadata": {},
   "source": [
    "### Scientific Plotting wit Matplotlib"
   ]
  },
  {
   "cell_type": "code",
   "execution_count": 110,
   "metadata": {},
   "outputs": [
    {
     "name": "stdout",
     "output_type": "stream",
     "text": [
      "[ 0.    0.25  0.5   0.75  1.    1.25  1.5   1.75  2.    2.25  2.5   2.75\n",
      "  3.    3.25  3.5   3.75  4.    4.25  4.5   4.75  5.    5.25  5.5   5.75\n",
      "  6.    6.25  6.5   6.75  7.    7.25  7.5   7.75  8.    8.25  8.5   8.75\n",
      "  9.    9.25  9.5   9.75 10.   10.25 10.5  10.75 11.   11.25 11.5  11.75\n",
      " 12.   12.25 12.5 ] (51,) <class 'numpy.ndarray'> (51,) (51,)\n"
     ]
    }
   ],
   "source": [
    "import matplotlib.pyplot as plt       # importing sub-package of matplotlib - pyplot\n",
    "\n",
    "x = np.arange(0,4*np.pi,0.25)          # start, end, step\n",
    "\n",
    "y = np.sin(x)                          # sin of x\n",
    "z = np.cos(x)                          # cos of x\n",
    "\n",
    "print(x, x.shape,type(x), y.shape, z.shape)"
   ]
  },
  {
   "cell_type": "code",
   "execution_count": 111,
   "metadata": {},
   "outputs": [
    {
     "data": {
      "image/png": "[encoded data removed]",
      "text/plain": [
       "<Figure size 1200x600 with 1 Axes>"
      ]
     },
     "metadata": {},
     "output_type": "display_data"
    }
   ],
   "source": [
    "# Basic plot\n",
    "fig = plt.figure(figsize=(12,6))                     # create a figure - figsize is in inches - 12x6\n",
    "ax = fig.gca()                                       # get current axis\n",
    "ax.plot(x,y, label = \"sin(x)\")                       # plot x vs y\n",
    "ax.plot(x,z, label = \"cos(x)\");                       # plot x vs z - semi-colon to no print the output line of the plot function "
   ]
  },
  {
   "cell_type": "code",
   "execution_count": 112,
   "metadata": {},
   "outputs": [
    {
     "data": {
      "image/png": "[encoded data removed]",
      "text/plain": [
       "<Figure size 1800x600 with 1 Axes>"
      ]
     },
     "metadata": {},
     "output_type": "display_data"
    }
   ],
   "source": [
    "ax = plt.figure(figsize=(18,6)).gca()                # create a figure - figsize is in inches - 12x6\n",
    "ax.plot(x,y, \"o--\", color = \"red\", label = \"$f(x) = \\sin(x)$\", ms = 10)          # plot x vs y - o-- is the marker and color is red & ms is marker size - 10, label is the latex code for the legend\n",
    "ax.plot(x,z, \"*--\", color = \"blue\", label = \"$f(x) = \\cos(x)$\", ms = 15)         # plot x vs z - *-- is the marker and color is blue & ms is marker size - 15\n",
    "ax.legend(loc = \"best\",fontsize = 150);                                           # add legend - loc is the location of the legend - best is the best location, fontsize is the size of the legend\n",
    "\n",
    "ax.set_ylim(-1,1)                                                                # set y limits\n",
    "ax.set_xlim(0,4*np.pi)                                                           # set x limits\n",
    "#ax.set_title?    # to see the documentation of the function\n",
    "ax.set_xlabel(\"x\", fontsize = 20)                                              # set x label\n",
    "ax.set_ylabel(\"f(x)\", fontsize = 20, rotation=45, labelpad=50)                 # set y label, rotation of 45 degrees and labelpad is the padding between the label and the axis\n",
    "ax.grid(True)                                                                 # add grid\n",
    "ax.set_xticks(np.arange(0,4*np.pi+0.01, np.pi/4))                                # set x ticks - start, end, step - 0, 4*pi+1, pi/2 - 4*pi+1 is used to include 4*pi in the ticks as well \n",
    "ax.set_xticklabels([\"$0$\", \"$\\pi/4$\", \"$\\pi/2$\", \"$3\\pi/4$\", \"$\\pi$\", \"$5\\pi/4$\", \"$3\\pi/2$\", \"$7\\pi/4$\", \"$2\\pi$\", \"$9\\pi/4$\", \"$5\\pi/2$\", \"$11\\pi/4$\", \"$3\\pi$\", \"$13\\pi/4$\", \"$7\\pi/2$\", \"$15\\pi/4$\", \"$4\\pi$\"], fontsize = 10)   # set x tick labels - fontsize is the size of the labels\n",
    "ax.set_yticks(np.arange(-1,1.01,.2))                                            # set y ticks - start, end, step - -1, 1+1, 0.5 - 1+1 is used to include 1 in the ticks as well\n",
    "\n",
    "ax.set_title(\"Plot of sin(x) and cos(x)\", fontsize = 20)   # set title\n",
    "\n",
    "ax.legend(fontsize = 5);                             # add legend "
   ]
  },
  {
   "cell_type": "code",
   "execution_count": null,
   "metadata": {},
   "outputs": [],
   "source": []
  },
  {
   "cell_type": "code",
   "execution_count": 113,
   "metadata": {},
   "outputs": [],
   "source": [
    "# Inheritence: when a class uses a code from another class\n",
    "\n",
    "# First we need to define a parent class - which describes a Person\n",
    "class person:                   \n",
    "\n",
    "    def __init__(self, first_name, last_name): # constructor - necessary to pass the self function\n",
    "\n",
    "        self.first_name = first_name\n",
    "        self.last_name = last_name\n",
    "    \n",
    "    def __repr__(self):                        # object representation\n",
    "        return f\"Person: {self.first_name} {self.last_name}\"\n",
    "    \n",
    "    def __call__(self):                        # function to be called by default on object call\n",
    "        return self.talk()\n",
    "    \n",
    "    def talk(self):\n",
    "        return f\"Hello, My name is {self.first_name} {self.last_name}\"\n",
    "\n",
    "\n",
    "\n"
   ]
  },
  {
   "cell_type": "code",
   "execution_count": 114,
   "metadata": {},
   "outputs": [
    {
     "data": {
      "text/plain": [
       "Person: Naveed Ul Mustafa"
      ]
     },
     "execution_count": 114,
     "metadata": {},
     "output_type": "execute_result"
    }
   ],
   "source": [
    "me = person(\"Naveed Ul\", \"Mustafa\")\n",
    "me                          # __repr__ function is called"
   ]
  },
  {
   "cell_type": "code",
   "execution_count": 115,
   "metadata": {},
   "outputs": [
    {
     "data": {
      "text/plain": [
       "'Hello, My name is Naveed Ul Mustafa'"
      ]
     },
     "execution_count": 115,
     "metadata": {},
     "output_type": "execute_result"
    }
   ],
   "source": [
    "me()             # calling object as a function  (similar to me.talk())"
   ]
  },
  {
   "cell_type": "code",
   "execution_count": 126,
   "metadata": {},
   "outputs": [],
   "source": [
    "# Now defining a child class\n",
    "\n",
    "from distutils.log import info        # importing info function from distutils package\n",
    "\n",
    "\n",
    "class student(person):        # Inheriting a code from person class\n",
    "\n",
    "    def __init__(self, first_name, last_name, mat_no, university):\n",
    "        person.__init__(self, first_name, last_name)              # parent constructor - As student is already a person\n",
    "        self.mat_no = mat_no\n",
    "        self.university = university\n",
    "        self.credits = 0                  # ECTS\n",
    "        self.modules = []                 \n",
    "        self.notes = []                   #[3,4,1,2,1]\n",
    "    \n",
    "    def __repr__(self):\n",
    "        info = f\"{self.first_name} {self.last_name}\\nstudent: {self.university} {self.mat_no}\"\n",
    "\n",
    "        if len(self.modules)>0:\n",
    "            classes = ','.join(self.modules)\n",
    "            info += f\"\\nCredits:{self.credits} ECTS in {classes}\" + \\\n",
    "                f\"avg note: {sum(self.notes)/len(self.notes):0.1f}\"\n",
    "        return info\n",
    "\n",
    "    #def talk(self):                # Parent's method call, it was a function invoked only when apply special objects\n",
    "   #     new = super().talk + f\"I'm studying at {self.university}.\" + \\\n",
    "   #         f\"My matriculation no is {self.mat_no}\"\n",
    "   #     return new\n",
    "\n",
    "            # here re-writing the function to represent the student's talk. super() is a way to access the parent class \n",
    "            # & additional to Parent's, we add uni & mat_no\n",
    "            \n",
    "    \n",
    "    def exam(self, module_name: str, credits:int, notes:float) -> None:\n",
    "        \"\"\"\n",
    "        Adds exam info credits\n",
    "        \"\"\"\n",
    "        self.modules += [module_name]\n",
    "        self.credits += credits\n",
    "        self.notes += [notes]\n"
   ]
  },
  {
   "cell_type": "code",
   "execution_count": 127,
   "metadata": {},
   "outputs": [
    {
     "data": {
      "text/plain": [
       "'Hello, My name is Anna Musin'"
      ]
     },
     "execution_count": 127,
     "metadata": {},
     "output_type": "execute_result"
    }
   ],
   "source": [
    "anna = student(\"Anna\", \"Musin\", 435625, \"TU Berlin\")\n",
    "anna()"
   ]
  },
  {
   "cell_type": "code",
   "execution_count": 118,
   "metadata": {},
   "outputs": [
    {
     "ename": "TypeError",
     "evalue": "__call__() takes 1 positional argument but 4 were given",
     "output_type": "error",
     "traceback": [
      "\u001b[1;31m---------------------------------------------------------------------------\u001b[0m",
      "\u001b[1;31mTypeError\u001b[0m                                 Traceback (most recent call last)",
      "Cell \u001b[1;32mIn[118], line 2\u001b[0m\n\u001b[0;32m      1\u001b[0m anna\u001b[39m.\u001b[39mexam(\u001b[39m\"\u001b[39m\u001b[39mCS\u001b[39m\u001b[39m\"\u001b[39m, \u001b[39m6\u001b[39m,\u001b[39m1.7\u001b[39m)\n\u001b[1;32m----> 2\u001b[0m anna(\u001b[39m\"\u001b[39;49m\u001b[39mB10\u001b[39;49m\u001b[39m\"\u001b[39;49m, \u001b[39m12\u001b[39;49m,\u001b[39m2.7\u001b[39;49m)\n\u001b[0;32m      4\u001b[0m anna()\n",
      "\u001b[1;31mTypeError\u001b[0m: __call__() takes 1 positional argument but 4 were given"
     ]
    }
   ],
   "source": [
    "anna.exam(\"CS\", 6,1.7)\n",
    "anna(\"B10\", 12,2.7)\n",
    "\n",
    "anna()"
   ]
  },
  {
   "cell_type": "code",
   "execution_count": null,
   "metadata": {},
   "outputs": [],
   "source": [
    "# Python - Database Manager\n",
    "\n",
    "# ususlly classes & objects are created & once u closes the Jupyter notebook, they got lost. Everything u stored in \n",
    "# objects & class with inheritence just gone off when stop execution. So using dbm package.\n",
    "import dbm, os, pickle  # dbm package gives access to on-disk database with Python"
   ]
  },
  {
   "cell_type": "code",
   "execution_count": null,
   "metadata": {},
   "outputs": [],
   "source": [
    "class DBM(object):        # Class DataBaseManager will inherit from the object        \n",
    " \n",
    "    def __init__(self, name, folder = \"./db\"):  # name of db & location where that db is stored\n",
    "        os.makedirs(folder, exist_ok = True)    # we create folder by the name \"db\" & if exist leave it\n",
    "        self.folder = folder                    # we access the folder\n",
    "\n",
    "        self.filepath = os.path.join(self.folder, name) # name of our databese indide \"db\" folder\n",
    "\n",
    "    def add_(self, key, value):                     # add any element to the selected database - like a disctionary\n",
    "        with dbm.open(self.filepath, \"c\") as db:    # \"c\"- create, want to create 1 entry in our database \n",
    "            db[key] = pickle.dumps(value, protocol=pickle.HIGHEST_PROTOCOL) # store the value against a key\n",
    "\n",
    "    def get_(self, key):                            # get any required element from database\n",
    "        with dbm.open(self.filepath, \"r\") as db:    # \"r\" - reading\n",
    "            try:                                    # if we have the required key in the database,  \n",
    "                res = db[key]\n",
    "                return pickle.loads(res)\n",
    "            except KeyError:\n",
    "                return None\n",
    "\n",
    "    def delete_(self, key):                         # Delete any object\n",
    "        with dbm.open(self.filepath, \"c\") as db:\n",
    "            del db[key]\n",
    "    \n",
    "    def keys_(self):\n",
    "        with dbm.open(self.filepath, \"r\") as db:\n",
    "            return db.keys()\n",
    "\n",
    "# Check how to define a property in a Python Class?\n"
   ]
  },
  {
   "cell_type": "code",
   "execution_count": null,
   "metadata": {},
   "outputs": [],
   "source": [
    "# For Student table in DBM\n",
    "tub = DBM(\"TU Berlin\")\n",
    "mat_no = 123\n",
    "anna = student(\"Anna\", \"Masi\", mat_no, \"TU Berlin\")\n",
    "\n",
    "tub.add_(f\"student:{mat_no}\",anna)      # key can contain table info"
   ]
  },
  {
   "cell_type": "code",
   "execution_count": null,
   "metadata": {},
   "outputs": [],
   "source": [
    "tub.get_(\"student:123\")"
   ]
  },
  {
   "cell_type": "code",
   "execution_count": null,
   "metadata": {},
   "outputs": [],
   "source": [
    "# For Hiwi table in DBM\n",
    "mat_no = 456\n",
    "sergej = HiWi(\"Sergej\", \"Dogadov\", mat_no, \"TU Berlin\", 1000)\n",
    "tub.add_(f\"hiwi:{mat_no}\",sergej)\n",
    "\n",
    "tub.get_(\"hiwi:456\")\n",
    "\n",
    "\n",
    "# since I dont have a defined class for hiwi, thats why!!"
   ]
  },
  {
   "cell_type": "code",
   "execution_count": null,
   "metadata": {},
   "outputs": [],
   "source": [
    "tub.keys_()"
   ]
  },
  {
   "attachments": {},
   "cell_type": "markdown",
   "metadata": {},
   "source": [
    "#### Generator - yield\n"
   ]
  },
  {
   "cell_type": "code",
   "execution_count": 128,
   "metadata": {},
   "outputs": [
    {
     "name": "stdout",
     "output_type": "stream",
     "text": [
      "counter Initialized\n",
      "0\n",
      "1\n",
      "2\n",
      "3\n",
      "4\n"
     ]
    }
   ],
   "source": [
    "# Generators (special function where u can stop & re-run execution)\n",
    "\n",
    "from email.generator import Generator\n",
    "\n",
    "\n",
    "def counter():\n",
    "    print(\"counter Initialized\")\n",
    "\n",
    "    n = 0\n",
    "    while True:\n",
    "        yield n          # similar to return\n",
    "        n +=1\n",
    "\n",
    "#Iterating over Generator\n",
    "\n",
    "for i in counter():\n",
    "    if i < 5:\n",
    "        print(i)\n",
    "    else:\n",
    "        break         # stops the loop"
   ]
  },
  {
   "cell_type": "code",
   "execution_count": null,
   "metadata": {},
   "outputs": [],
   "source": [
    "# Generator in Tuple Comprehension\n",
    "gen_obj = (x**2 for x in range(100_000) if x%10 == 0)         # generator object\n",
    "gen_obj"
   ]
  },
  {
   "cell_type": "code",
   "execution_count": null,
   "metadata": {},
   "outputs": [],
   "source": [
    "next(gen_obj), next(gen_obj), next(gen_obj)"
   ]
  },
  {
   "attachments": {},
   "cell_type": "markdown",
   "metadata": {},
   "source": [
    "Other ways to define Generators -- Read the link\n",
    "#### Q- What are the use cases generators could be useful?\n",
    " A- For Large Datasets, u dont want to go throught the whole data, so we create a generator function & iterate over it.\n",
    "\n"
   ]
  },
  {
   "cell_type": "code",
   "execution_count": 129,
   "metadata": {},
   "outputs": [],
   "source": [
    "# Decorator - A special function, which can wrap an arbitrary function\n",
    "\n",
    "def benchmark(func):\n",
    "\n",
    "    from time import time           # importing time to get current time\n",
    "\n",
    "\n",
    "    def wrapper(*args, **kwargs):       # any function can be passed to the wrapper, with any number of arguments & keyword arguments (are those with default values)\n",
    "\n",
    "        start = time()                # Start measuring tinme seconds passed since the begning of UNIX time in 1970\n",
    "        res = func(*args, **kwargs)   # calling the function with arguments & keyword arguments passed to the wrapper function\n",
    "        end = time()                  # end measuring time\n",
    "\n",
    "        sec = (end - start)*1000\n",
    "        print(f\"Elapsed time: {sec: 0.6f} sec\")\n",
    "\n",
    "        return res\n",
    "    return wrapper\n"
   ]
  },
  {
   "cell_type": "code",
   "execution_count": 130,
   "metadata": {},
   "outputs": [],
   "source": [
    "@benchmark    # wrapping the below function (sum_up function) with a \"benchmark\" decorator\n",
    "              # decorator can be named anytihing\n",
    "\n",
    "def sum_up(n, step = 1):   # function to sum up all numbers from 1 to n with a step of 1, and this is our argument to the decorator\n",
    "    count = 0\n",
    "    for i in range(n):\n",
    "        if i % step ==0:\n",
    "            count +=1 \n",
    "    return count\n",
    "\n",
    "\n"
   ]
  },
  {
   "cell_type": "code",
   "execution_count": 131,
   "metadata": {},
   "outputs": [
    {
     "name": "stdout",
     "output_type": "stream",
     "text": [
      "Elapsed time:  1.001835 sec\n",
      "2000\n"
     ]
    }
   ],
   "source": [
    "# execute the sum_up function\n",
    "res = sum_up(10_000, step =5)    # summing up 10k values with step 5\n",
    "print(res)"
   ]
  },
  {
   "cell_type": "code",
   "execution_count": 132,
   "metadata": {},
   "outputs": [],
   "source": [
    "@benchmark                 # there can be multiple decorators\n",
    "def produc_up(n, step=1):\n",
    "    count = 0\n",
    "    for i in range(n):\n",
    "        if i % step ==0:\n",
    "            count *=1\n",
    "    return count"
   ]
  },
  {
   "cell_type": "code",
   "execution_count": 133,
   "metadata": {},
   "outputs": [
    {
     "name": "stdout",
     "output_type": "stream",
     "text": [
      "Elapsed time:  1.005650 sec\n",
      "0\n"
     ]
    }
   ],
   "source": [
    "res = produc_up(10_000, step =5)\n",
    "print(res)"
   ]
  },
  {
   "attachments": {},
   "cell_type": "markdown",
   "metadata": {},
   "source": [
    "#### Caching\n",
    "caching is useful when :\n",
    "* we have a function that takes a long time to run\n",
    "* we want to run the function multiple times with the same input\n",
    "* we want to run the function multiple times with different inputs\n",
    "\n",
    "Caching is useful when we want to run a function multiple times with the same input. We can use a dictionary to store the results of the function, and then check the dictionary before running the function again. If the input is in the dictionary, we can just return the output. If the input is not in the dictionary, we can run the function, store the output in the dictionary, and then return the output. This is called caching, because we are storing the results of the function so we can use them again later without having to run the function again. This helps us save time when we want to run the function multiple times with the same input.\n"
   ]
  },
  {
   "cell_type": "code",
   "execution_count": 141,
   "metadata": {},
   "outputs": [],
   "source": [
    "from functools import lru_cache      # lru_cache is a decorator to cache the results of a function to speed up the execution - it is a built-in decorator\n",
    "\n",
    "@lru_cache(10)            # maxsize is the number of results to be cached, this means for 10 inputs we will have 10 results cached in memory (or store the output of the function)\n",
    "def sum_up(n, step = 1):             # same function we were decorated b4, now with lru_cache decorator \n",
    "    count = 0\n",
    "    for i in range(n):\n",
    "        if i % step ==0:\n",
    "            count +=1 \n",
    "    return count"
   ]
  },
  {
   "cell_type": "code",
   "execution_count": 142,
   "metadata": {},
   "outputs": [],
   "source": [
    "@benchmark                 # benchmark here in this case is different (though it retains its previous property to measure time) from the one above, \n",
    "                           #since we are using lru_cache, the execution time will be much faster\n",
    "                           \n",
    "def run(*args, **kwargs):      # run function will call the sum_up function with args & kwargs, and will print the cache info\n",
    "    res = sum_up(*args, **kwargs)\n",
    "    print(sum_up.cache_info())      # cache_info() is a method of lru_cache, which gives us info about the cache\n",
    "    return res\n"
   ]
  },
  {
   "cell_type": "code",
   "execution_count": 143,
   "metadata": {},
   "outputs": [
    {
     "name": "stdout",
     "output_type": "stream",
     "text": [
      "CacheInfo(hits=0, misses=1, maxsize=10, currsize=1)\n",
      "Elapsed time:  1.178741 sec\n"
     ]
    },
    {
     "data": {
      "text/plain": [
       "400"
      ]
     },
     "execution_count": 143,
     "metadata": {},
     "output_type": "execute_result"
    }
   ],
   "source": [
    "run(10_000, step =25)  # first time execution will be slow, but the second time it will be much faster since the result is cached"
   ]
  },
  {
   "cell_type": "code",
   "execution_count": 144,
   "metadata": {},
   "outputs": [
    {
     "name": "stdout",
     "output_type": "stream",
     "text": [
      "CacheInfo(hits=0, misses=2, maxsize=10, currsize=2)\n",
      "Elapsed time:  3.434420 sec\n"
     ]
    },
    {
     "data": {
      "text/plain": [
       "5000"
      ]
     },
     "execution_count": 144,
     "metadata": {},
     "output_type": "execute_result"
    }
   ],
   "source": [
    "run(100000, step =20)"
   ]
  },
  {
   "attachments": {},
   "cell_type": "markdown",
   "metadata": {},
   "source": [
    "#### Combinatrics - itertools\n",
    "\n",
    "Permutation & Combination are the 2 main types of combinatorics. Permutation is the order of the elements matter, while combination is the order of the elements does not matter."
   ]
  },
  {
   "cell_type": "code",
   "execution_count": 150,
   "metadata": {},
   "outputs": [
    {
     "name": "stdout",
     "output_type": "stream",
     "text": [
      "[(1, 2, 3), (1, 2, 4), (1, 2, 5), (1, 2, 6), (1, 3, 4), (1, 3, 5), (1, 3, 6), (1, 4, 5), (1, 4, 6), (1, 5, 6), (2, 3, 4), (2, 3, 5), (2, 3, 6), (2, 4, 5), (2, 4, 6), (2, 5, 6), (3, 4, 5), (3, 4, 6), (3, 5, 6), (4, 5, 6)] 20\n"
     ]
    }
   ],
   "source": [
    "import itertools as it\n",
    "\n",
    "lst = [1,2,3,4,5,6]\n",
    "comb = [i for i in it.combinations(lst, 3)]\n",
    "print(comb, len(comb))    # Possible combinations of 3 elements from the list"
   ]
  },
  {
   "cell_type": "code",
   "execution_count": 151,
   "metadata": {},
   "outputs": [
    {
     "name": "stdout",
     "output_type": "stream",
     "text": [
      "[(1, 2, 3), (1, 2, 4), (1, 2, 5), (1, 2, 6), (1, 3, 2), (1, 3, 4), (1, 3, 5), (1, 3, 6), (1, 4, 2), (1, 4, 3), (1, 4, 5), (1, 4, 6), (1, 5, 2), (1, 5, 3), (1, 5, 4), (1, 5, 6), (1, 6, 2), (1, 6, 3), (1, 6, 4), (1, 6, 5), (2, 1, 3), (2, 1, 4), (2, 1, 5), (2, 1, 6), (2, 3, 1), (2, 3, 4), (2, 3, 5), (2, 3, 6), (2, 4, 1), (2, 4, 3), (2, 4, 5), (2, 4, 6), (2, 5, 1), (2, 5, 3), (2, 5, 4), (2, 5, 6), (2, 6, 1), (2, 6, 3), (2, 6, 4), (2, 6, 5), (3, 1, 2), (3, 1, 4), (3, 1, 5), (3, 1, 6), (3, 2, 1), (3, 2, 4), (3, 2, 5), (3, 2, 6), (3, 4, 1), (3, 4, 2), (3, 4, 5), (3, 4, 6), (3, 5, 1), (3, 5, 2), (3, 5, 4), (3, 5, 6), (3, 6, 1), (3, 6, 2), (3, 6, 4), (3, 6, 5), (4, 1, 2), (4, 1, 3), (4, 1, 5), (4, 1, 6), (4, 2, 1), (4, 2, 3), (4, 2, 5), (4, 2, 6), (4, 3, 1), (4, 3, 2), (4, 3, 5), (4, 3, 6), (4, 5, 1), (4, 5, 2), (4, 5, 3), (4, 5, 6), (4, 6, 1), (4, 6, 2), (4, 6, 3), (4, 6, 5), (5, 1, 2), (5, 1, 3), (5, 1, 4), (5, 1, 6), (5, 2, 1), (5, 2, 3), (5, 2, 4), (5, 2, 6), (5, 3, 1), (5, 3, 2), (5, 3, 4), (5, 3, 6), (5, 4, 1), (5, 4, 2), (5, 4, 3), (5, 4, 6), (5, 6, 1), (5, 6, 2), (5, 6, 3), (5, 6, 4), (6, 1, 2), (6, 1, 3), (6, 1, 4), (6, 1, 5), (6, 2, 1), (6, 2, 3), (6, 2, 4), (6, 2, 5), (6, 3, 1), (6, 3, 2), (6, 3, 4), (6, 3, 5), (6, 4, 1), (6, 4, 2), (6, 4, 3), (6, 4, 5), (6, 5, 1), (6, 5, 2), (6, 5, 3), (6, 5, 4)] 120\n"
     ]
    }
   ],
   "source": [
    "# All permutations of 3 elements from the list\n",
    "perm = [i for i in it.permutations(lst, 3)]  \n",
    "print(perm, len(perm))"
   ]
  },
  {
   "cell_type": "code",
   "execution_count": 152,
   "metadata": {},
   "outputs": [
    {
     "name": "stdout",
     "output_type": "stream",
     "text": [
      "[(1, 1), (1, 2), (1, 3), (1, 4), (1, 5), (1, 6), (2, 1), (2, 2), (2, 3), (2, 4), (2, 5), (2, 6), (3, 1), (3, 2), (3, 3), (3, 4), (3, 5), (3, 6), (4, 1), (4, 2), (4, 3), (4, 4), (4, 5), (4, 6), (5, 1), (5, 2), (5, 3), (5, 4), (5, 5), (5, 6), (6, 1), (6, 2), (6, 3), (6, 4), (6, 5), (6, 6)] 36\n"
     ]
    }
   ],
   "source": [
    "# Cartesian product of 2 lists\n",
    "cart = [i for i in it.product(lst, lst)]\n",
    "print(cart, len(cart))"
   ]
  },
  {
   "attachments": {},
   "cell_type": "markdown",
   "metadata": {},
   "source": [
    "### Scikit-learn - ML in Python \n",
    "functions to pre-process data, train models, and evaluate models are all contained in the scikit-learn library. The scikit-learn library is built on top of the NumPy and SciPy libraries, which provide efficient data structures and mathematical functions for Python. The scikit-learn library is also built on top of the matplotlib library, which provides plotting functions for Python."
   ]
  },
  {
   "cell_type": "code",
   "execution_count": 153,
   "metadata": {},
   "outputs": [],
   "source": [
    "# using scikit learn to enhance more on inheritance concept\n",
    "import numpy as np\n",
    "\n",
    "from sklearn.preprocessing import StandardScaler       # StandardScaler is a class in sklearn library to standardize the data (mean = 0, std = 1)\n",
    "\n"
   ]
  },
  {
   "cell_type": "code",
   "execution_count": 154,
   "metadata": {},
   "outputs": [
    {
     "name": "stdout",
     "output_type": "stream",
     "text": [
      "[[0]\n",
      " [0]\n",
      " [0]\n",
      " [0]\n",
      " [1]\n",
      " [1]\n",
      " [1]\n",
      " [2]\n",
      " [2]\n",
      " [2]] (10, 1)\n"
     ]
    },
    {
     "data": {
      "text/html": [
       "<style>#sk-container-id-1 {color: black;background-color: white;}#sk-container-id-1 pre{padding: 0;}#sk-container-id-1 div.sk-toggleable {background-color: white;}#sk-container-id-1 label.sk-toggleable__label {cursor: pointer;display: block;width: 100%;margin-bottom: 0;padding: 0.3em;box-sizing: border-box;text-align: center;}#sk-container-id-1 label.sk-toggleable__label-arrow:before {content: \"▸\";float: left;margin-right: 0.25em;color: #696969;}#sk-container-id-1 label.sk-toggleable__label-arrow:hover:before {color: black;}#sk-container-id-1 div.sk-estimator:hover label.sk-toggleable__label-arrow:before {color: black;}#sk-container-id-1 div.sk-toggleable__content {max-height: 0;max-width: 0;overflow: hidden;text-align: left;background-color: #f0f8ff;}#sk-container-id-1 div.sk-toggleable__content pre {margin: 0.2em;color: black;border-radius: 0.25em;background-color: #f0f8ff;}#sk-container-id-1 input.sk-toggleable__control:checked~div.sk-toggleable__content {max-height: 200px;max-width: 100%;overflow: auto;}#sk-container-id-1 input.sk-toggleable__control:checked~label.sk-toggleable__label-arrow:before {content: \"▾\";}#sk-container-id-1 div.sk-estimator input.sk-toggleable__control:checked~label.sk-toggleable__label {background-color: #d4ebff;}#sk-container-id-1 div.sk-label input.sk-toggleable__control:checked~label.sk-toggleable__label {background-color: #d4ebff;}#sk-container-id-1 input.sk-hidden--visually {border: 0;clip: rect(1px 1px 1px 1px);clip: rect(1px, 1px, 1px, 1px);height: 1px;margin: -1px;overflow: hidden;padding: 0;position: absolute;width: 1px;}#sk-container-id-1 div.sk-estimator {font-family: monospace;background-color: #f0f8ff;border: 1px dotted black;border-radius: 0.25em;box-sizing: border-box;margin-bottom: 0.5em;}#sk-container-id-1 div.sk-estimator:hover {background-color: #d4ebff;}#sk-container-id-1 div.sk-parallel-item::after {content: \"\";width: 100%;border-bottom: 1px solid gray;flex-grow: 1;}#sk-container-id-1 div.sk-label:hover label.sk-toggleable__label {background-color: #d4ebff;}#sk-container-id-1 div.sk-serial::before {content: \"\";position: absolute;border-left: 1px solid gray;box-sizing: border-box;top: 0;bottom: 0;left: 50%;z-index: 0;}#sk-container-id-1 div.sk-serial {display: flex;flex-direction: column;align-items: center;background-color: white;padding-right: 0.2em;padding-left: 0.2em;position: relative;}#sk-container-id-1 div.sk-item {position: relative;z-index: 1;}#sk-container-id-1 div.sk-parallel {display: flex;align-items: stretch;justify-content: center;background-color: white;position: relative;}#sk-container-id-1 div.sk-item::before, #sk-container-id-1 div.sk-parallel-item::before {content: \"\";position: absolute;border-left: 1px solid gray;box-sizing: border-box;top: 0;bottom: 0;left: 50%;z-index: -1;}#sk-container-id-1 div.sk-parallel-item {display: flex;flex-direction: column;z-index: 1;position: relative;background-color: white;}#sk-container-id-1 div.sk-parallel-item:first-child::after {align-self: flex-end;width: 50%;}#sk-container-id-1 div.sk-parallel-item:last-child::after {align-self: flex-start;width: 50%;}#sk-container-id-1 div.sk-parallel-item:only-child::after {width: 0;}#sk-container-id-1 div.sk-dashed-wrapped {border: 1px dashed gray;margin: 0 0.4em 0.5em 0.4em;box-sizing: border-box;padding-bottom: 0.4em;background-color: white;}#sk-container-id-1 div.sk-label label {font-family: monospace;font-weight: bold;display: inline-block;line-height: 1.2em;}#sk-container-id-1 div.sk-label-container {text-align: center;}#sk-container-id-1 div.sk-container {/* jupyter's `normalize.less` sets `[hidden] { display: none; }` but bootstrap.min.css set `[hidden] { display: none !important; }` so we also need the `!important` here to be able to override the default hidden behavior on the sphinx rendered scikit-learn.org. See: https://github.com/scikit-learn/scikit-learn/issues/21755 */display: inline-block !important;position: relative;}#sk-container-id-1 div.sk-text-repr-fallback {display: none;}</style><div id=\"sk-container-id-1\" class=\"sk-top-container\"><div class=\"sk-text-repr-fallback\"><pre>StandardScaler()</pre><b>In a Jupyter environment, please rerun this cell to show the HTML representation or trust the notebook. <br />On GitHub, the HTML representation is unable to render, please try loading this page with nbviewer.org.</b></div><div class=\"sk-container\" hidden><div class=\"sk-item\"><div class=\"sk-estimator sk-toggleable\"><input class=\"sk-toggleable__control sk-hidden--visually\" id=\"sk-estimator-id-1\" type=\"checkbox\" checked><label for=\"sk-estimator-id-1\" class=\"sk-toggleable__label sk-toggleable__label-arrow\">StandardScaler</label><div class=\"sk-toggleable__content\"><pre>StandardScaler()</pre></div></div></div></div></div>"
      ],
      "text/plain": [
       "StandardScaler()"
      ]
     },
     "execution_count": 154,
     "metadata": {},
     "output_type": "execute_result"
    }
   ],
   "source": [
    "x = np.array([0,0,0,0,1,1,1,2,2,2])      # 1D array\n",
    "\n",
    "scaler = StandardScaler(with_mean=True, with_std=True)               # creating an instance of the StandardScaler class with mean = 0 & std = 1\n",
    "x = x.reshape(-1,1)                                                  # reshaping the array to 2D array (1 column, n rows)\n",
    "print(x, x.shape)\n",
    "\n",
    "scaler.fit(x)                                                        # fitting the data to the scaler\n"
   ]
  },
  {
   "cell_type": "code",
   "execution_count": 155,
   "metadata": {},
   "outputs": [
    {
     "name": "stdout",
     "output_type": "stream",
     "text": [
      "[0.9] [0.83066239]\n"
     ]
    }
   ],
   "source": [
    "print(scaler.mean_, scaler.scale_)                                                  # mean & sd of the data\n",
    "\n",
    "# These are private attributes, so we cannot access them directly (we can access them using the getter methods) so we should use the public methods to access them.."
   ]
  },
  {
   "cell_type": "code",
   "execution_count": 156,
   "metadata": {},
   "outputs": [
    {
     "data": {
      "text/plain": [
       "(array([[-1.08347268],\n",
       "        [-1.08347268],\n",
       "        [-1.08347268],\n",
       "        [-1.08347268],\n",
       "        [ 0.12038585],\n",
       "        [ 0.12038585],\n",
       "        [ 0.12038585],\n",
       "        [ 1.32424438],\n",
       "        [ 1.32424438],\n",
       "        [ 1.32424438]]),\n",
       " (10, 1),\n",
       " 0.0,\n",
       " 1.0)"
      ]
     },
     "execution_count": 156,
     "metadata": {},
     "output_type": "execute_result"
    }
   ],
   "source": [
    "# one of the public functions...\n",
    "z = scaler.transform(x)            # transforming the data to the standardized data (Z = (x - mean)/std)). This is the same as (x - scaler.mean_)/scaler.scale_\n",
    "z, z.shape, z.mean(), z.std()\n",
    "\n",
    "# this is the basic property for many ML algos, so we can use the StandardScaler class to standardize the data\n"
   ]
  },
  {
   "cell_type": "code",
   "execution_count": 157,
   "metadata": {},
   "outputs": [],
   "source": [
    "# Min-Max scaler\n",
    "from sklearn.preprocessing import MinMaxScaler\n",
    "\n",
    "feature_range = (-10, 10)                      # range of the scaled data\n",
    "scaler = MinMaxScaler(feature_range, clip=False)    # creating an instance of the MinMaxScaler class with the feature_range specified above - \n",
    "                                                    # clip is to clip the values to the specified range, we are not clipping the outside values here\n",
    "                                                    # so we can have values outside the specified range "
   ]
  },
  {
   "cell_type": "code",
   "execution_count": 160,
   "metadata": {},
   "outputs": [
    {
     "name": "stdout",
     "output_type": "stream",
     "text": [
      "[[0]\n",
      " [0]\n",
      " [0]\n",
      " [0]\n",
      " [1]\n",
      " [1]\n",
      " [1]\n",
      " [2]\n",
      " [2]\n",
      " [2]] (10, 1)\n"
     ]
    },
    {
     "data": {
      "text/html": [
       "<style>#sk-container-id-2 {color: black;background-color: white;}#sk-container-id-2 pre{padding: 0;}#sk-container-id-2 div.sk-toggleable {background-color: white;}#sk-container-id-2 label.sk-toggleable__label {cursor: pointer;display: block;width: 100%;margin-bottom: 0;padding: 0.3em;box-sizing: border-box;text-align: center;}#sk-container-id-2 label.sk-toggleable__label-arrow:before {content: \"▸\";float: left;margin-right: 0.25em;color: #696969;}#sk-container-id-2 label.sk-toggleable__label-arrow:hover:before {color: black;}#sk-container-id-2 div.sk-estimator:hover label.sk-toggleable__label-arrow:before {color: black;}#sk-container-id-2 div.sk-toggleable__content {max-height: 0;max-width: 0;overflow: hidden;text-align: left;background-color: #f0f8ff;}#sk-container-id-2 div.sk-toggleable__content pre {margin: 0.2em;color: black;border-radius: 0.25em;background-color: #f0f8ff;}#sk-container-id-2 input.sk-toggleable__control:checked~div.sk-toggleable__content {max-height: 200px;max-width: 100%;overflow: auto;}#sk-container-id-2 input.sk-toggleable__control:checked~label.sk-toggleable__label-arrow:before {content: \"▾\";}#sk-container-id-2 div.sk-estimator input.sk-toggleable__control:checked~label.sk-toggleable__label {background-color: #d4ebff;}#sk-container-id-2 div.sk-label input.sk-toggleable__control:checked~label.sk-toggleable__label {background-color: #d4ebff;}#sk-container-id-2 input.sk-hidden--visually {border: 0;clip: rect(1px 1px 1px 1px);clip: rect(1px, 1px, 1px, 1px);height: 1px;margin: -1px;overflow: hidden;padding: 0;position: absolute;width: 1px;}#sk-container-id-2 div.sk-estimator {font-family: monospace;background-color: #f0f8ff;border: 1px dotted black;border-radius: 0.25em;box-sizing: border-box;margin-bottom: 0.5em;}#sk-container-id-2 div.sk-estimator:hover {background-color: #d4ebff;}#sk-container-id-2 div.sk-parallel-item::after {content: \"\";width: 100%;border-bottom: 1px solid gray;flex-grow: 1;}#sk-container-id-2 div.sk-label:hover label.sk-toggleable__label {background-color: #d4ebff;}#sk-container-id-2 div.sk-serial::before {content: \"\";position: absolute;border-left: 1px solid gray;box-sizing: border-box;top: 0;bottom: 0;left: 50%;z-index: 0;}#sk-container-id-2 div.sk-serial {display: flex;flex-direction: column;align-items: center;background-color: white;padding-right: 0.2em;padding-left: 0.2em;position: relative;}#sk-container-id-2 div.sk-item {position: relative;z-index: 1;}#sk-container-id-2 div.sk-parallel {display: flex;align-items: stretch;justify-content: center;background-color: white;position: relative;}#sk-container-id-2 div.sk-item::before, #sk-container-id-2 div.sk-parallel-item::before {content: \"\";position: absolute;border-left: 1px solid gray;box-sizing: border-box;top: 0;bottom: 0;left: 50%;z-index: -1;}#sk-container-id-2 div.sk-parallel-item {display: flex;flex-direction: column;z-index: 1;position: relative;background-color: white;}#sk-container-id-2 div.sk-parallel-item:first-child::after {align-self: flex-end;width: 50%;}#sk-container-id-2 div.sk-parallel-item:last-child::after {align-self: flex-start;width: 50%;}#sk-container-id-2 div.sk-parallel-item:only-child::after {width: 0;}#sk-container-id-2 div.sk-dashed-wrapped {border: 1px dashed gray;margin: 0 0.4em 0.5em 0.4em;box-sizing: border-box;padding-bottom: 0.4em;background-color: white;}#sk-container-id-2 div.sk-label label {font-family: monospace;font-weight: bold;display: inline-block;line-height: 1.2em;}#sk-container-id-2 div.sk-label-container {text-align: center;}#sk-container-id-2 div.sk-container {/* jupyter's `normalize.less` sets `[hidden] { display: none; }` but bootstrap.min.css set `[hidden] { display: none !important; }` so we also need the `!important` here to be able to override the default hidden behavior on the sphinx rendered scikit-learn.org. See: https://github.com/scikit-learn/scikit-learn/issues/21755 */display: inline-block !important;position: relative;}#sk-container-id-2 div.sk-text-repr-fallback {display: none;}</style><div id=\"sk-container-id-2\" class=\"sk-top-container\"><div class=\"sk-text-repr-fallback\"><pre>MinMaxScaler(feature_range=(-10, 10))</pre><b>In a Jupyter environment, please rerun this cell to show the HTML representation or trust the notebook. <br />On GitHub, the HTML representation is unable to render, please try loading this page with nbviewer.org.</b></div><div class=\"sk-container\" hidden><div class=\"sk-item\"><div class=\"sk-estimator sk-toggleable\"><input class=\"sk-toggleable__control sk-hidden--visually\" id=\"sk-estimator-id-2\" type=\"checkbox\" checked><label for=\"sk-estimator-id-2\" class=\"sk-toggleable__label sk-toggleable__label-arrow\">MinMaxScaler</label><div class=\"sk-toggleable__content\"><pre>MinMaxScaler(feature_range=(-10, 10))</pre></div></div></div></div></div>"
      ],
      "text/plain": [
       "MinMaxScaler(feature_range=(-10, 10))"
      ]
     },
     "execution_count": 160,
     "metadata": {},
     "output_type": "execute_result"
    }
   ],
   "source": [
    "x = np.array([0,0,0,0,1,1,1,2,2,2])[:, None]      # instead of reshaping the array, we can use the None to add a new axis to the array - this will make the array 2D\n",
    "print(x, x.shape)\n",
    "\n",
    "scaler.fit(x)                             # fitting the data to the scaler"
   ]
  },
  {
   "cell_type": "code",
   "execution_count": 162,
   "metadata": {},
   "outputs": [
    {
     "data": {
      "text/plain": [
       "array([-110.,  -10.,  -10.,  -10.,    0.,    0.,    0.,   10.,   10.,\n",
       "         10.])"
      ]
     },
     "execution_count": 162,
     "metadata": {},
     "output_type": "execute_result"
    }
   ],
   "source": [
    "x = np.array([-10,0,0,0,1,1,1,2,2,2])[:, None]\n",
    "scaler.transform(x).squeeze()                       # transforming the data to the scaled data (Z = (x - min)/(max - min)). This is the same as (x - scaler.min_)/(scaler.max_ - scaler.min_) \n",
    "                                                    # squeeze() is used to remove the extra axis added to the array (None) - this will make the array 1D again \n",
    "                                                    "
   ]
  },
  {
   "cell_type": "code",
   "execution_count": null,
   "metadata": {},
   "outputs": [],
   "source": []
  }
 ],
 "metadata": {
  "kernelspec": {
   "display_name": "pyml",
   "language": "python",
   "name": "python3"
  },
  "language_info": {
   "codemirror_mode": {
    "name": "ipython",
    "version": 3
   },
   "file_extension": ".py",
   "mimetype": "text/x-python",
   "name": "python",
   "nbconvert_exporter": "python",
   "pygments_lexer": "ipython3",
   "version": "3.9.16"
  },
  "orig_nbformat": 4,
  "vscode": {
   "interpreter": {
    "hash": "0a5e8725a257e40c92838861fe6be922711039df5daae381a5dabb77bdc1b5a8"
   }
  }
 },
 "nbformat": 4,
 "nbformat_minor": 2
}
