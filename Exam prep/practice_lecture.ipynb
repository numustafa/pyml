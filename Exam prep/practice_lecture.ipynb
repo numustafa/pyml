{
 "cells": [
  {
   "cell_type": "code",
   "execution_count": 1,
   "metadata": {},
   "outputs": [
    {
     "data": {
      "text/plain": [
       "(3, 2, 1024)"
      ]
     },
     "execution_count": 1,
     "metadata": {},
     "output_type": "execute_result"
    }
   ],
   "source": [
    "10//3 , 5%3, 2<<9  # (Dual)"
   ]
  },
  {
   "cell_type": "code",
   "execution_count": 2,
   "metadata": {},
   "outputs": [
    {
     "data": {
      "text/plain": [
       "(False, True, False, True)"
      ]
     },
     "execution_count": 2,
     "metadata": {},
     "output_type": "execute_result"
    }
   ],
   "source": [
    " bool(\"\"), bool(\" \"), bool(0), bool(12)  # Anything which is not zero is True"
   ]
  },
  {
   "cell_type": "code",
   "execution_count": 31,
   "metadata": {},
   "outputs": [
    {
     "data": {
      "text/plain": [
       "[0, 2, 4]"
      ]
     },
     "execution_count": 31,
     "metadata": {},
     "output_type": "execute_result"
    }
   ],
   "source": [
    "lst = [0,1,2,3,4,5,6,7,8,9,10]\n",
    "\n",
    "lst[::-2]             # start:end:step                   (-ve in descending order)\n",
    "lst[:6:2]             # start: end at index 6: step 2 "
   ]
  },
  {
   "cell_type": "code",
   "execution_count": 32,
   "metadata": {},
   "outputs": [
    {
     "data": {
      "text/plain": [
       "[[0, 1, 'Naveed'], 3, 4, 5, 6, 7, 8, 9, 10]"
      ]
     },
     "execution_count": 32,
     "metadata": {},
     "output_type": "execute_result"
    }
   ],
   "source": [
    "lst = [[0,1,2],3,4,5,6,7,8,9,10]\n",
    "lst[0][2] = \"Naveed\"              # Nested List indexation\n",
    "lst"
   ]
  },
  {
   "cell_type": "code",
   "execution_count": 33,
   "metadata": {},
   "outputs": [
    {
     "data": {
      "text/plain": [
       "True"
      ]
     },
     "execution_count": 33,
     "metadata": {},
     "output_type": "execute_result"
    }
   ],
   "source": [
    "[2,3] in [[2],3,4,[2,3]] "
   ]
  },
  {
   "cell_type": "code",
   "execution_count": 3,
   "metadata": {},
   "outputs": [
    {
     "data": {
      "text/plain": [
       "('0b1100100', '0o144', '0x64')"
      ]
     },
     "execution_count": 3,
     "metadata": {},
     "output_type": "execute_result"
    }
   ],
   "source": [
    "dec = 100\n",
    "bin(dec), oct(dec), hex(dec)"
   ]
  },
  {
   "cell_type": "markdown",
   "metadata": {},
   "source": [
    "### Useful String methods"
   ]
  },
  {
   "cell_type": "code",
   "execution_count": 36,
   "metadata": {},
   "outputs": [
    {
     "data": {
      "text/plain": [
       "'Hello'"
      ]
     },
     "execution_count": 36,
     "metadata": {},
     "output_type": "execute_result"
    }
   ],
   "source": [
    "\" Hello    \".strip()    # remove the leading & trailing whitespaces of any length"
   ]
  },
  {
   "cell_type": "code",
   "execution_count": 37,
   "metadata": {},
   "outputs": [
    {
     "data": {
      "text/plain": [
       "9"
      ]
     },
     "execution_count": 37,
     "metadata": {},
     "output_type": "execute_result"
    }
   ],
   "source": [
    "\"hello Worowd!!\".find(\"ow\")       # index of a first found char"
   ]
  },
  {
   "cell_type": "code",
   "execution_count": 38,
   "metadata": {},
   "outputs": [
    {
     "data": {
      "text/plain": [
       "'Max@gmail@.com'"
      ]
     },
     "execution_count": 38,
     "metadata": {},
     "output_type": "execute_result"
    }
   ],
   "source": [
    "vals = [\"Max\", \"gmail\", \".com\"]\n",
    "\"@\".join(vals)                       # joining with a delimiter"
   ]
  },
  {
   "cell_type": "markdown",
   "metadata": {},
   "source": [
    "### Lambda Function\n",
    "In line functuion. Definition & execution without a name"
   ]
  },
  {
   "cell_type": "code",
   "execution_count": 4,
   "metadata": {},
   "outputs": [
    {
     "data": {
      "text/plain": [
       "5.0"
      ]
     },
     "execution_count": 4,
     "metadata": {},
     "output_type": "execute_result"
    }
   ],
   "source": [
    "\n",
    "f = lambda x,y, coeff =1: coeff*(x**2 + y**2)**0.5\n",
    "f(3,4)"
   ]
  },
  {
   "cell_type": "code",
   "execution_count": 5,
   "metadata": {},
   "outputs": [
    {
     "data": {
      "text/plain": [
       "15.0"
      ]
     },
     "execution_count": 5,
     "metadata": {},
     "output_type": "execute_result"
    }
   ],
   "source": [
    "f(3,4,3)"
   ]
  },
  {
   "cell_type": "code",
   "execution_count": 6,
   "metadata": {},
   "outputs": [
    {
     "data": {
      "text/plain": [
       "5.0"
      ]
     },
     "execution_count": 6,
     "metadata": {},
     "output_type": "execute_result"
    }
   ],
   "source": [
    "(lambda x,y, coeff =1: coeff*(x**2 + y**2)**0.5)  (3,4)"
   ]
  },
  {
   "cell_type": "code",
   "execution_count": 7,
   "metadata": {},
   "outputs": [
    {
     "data": {
      "text/plain": [
       "[1, 4, 9, 16, 25, 36, 49, 64, 81, 81]"
      ]
     },
     "execution_count": 7,
     "metadata": {},
     "output_type": "execute_result"
    }
   ],
   "source": [
    "num = [1,2,3,4,5,6,7,8,9,9]\n",
    "\n",
    "def square(list):\n",
    "    ret = []\n",
    "    for i in list:\n",
    "        ret.append(i ** 2)\n",
    "    return ret\n",
    " \n",
    "square(num)"
   ]
  },
  {
   "cell_type": "code",
   "execution_count": 8,
   "metadata": {},
   "outputs": [
    {
     "data": {
      "text/plain": [
       "[1, 4, 9, 16, 25, 36, 49, 64, 81, 81]"
      ]
     },
     "execution_count": 8,
     "metadata": {},
     "output_type": "execute_result"
    }
   ],
   "source": [
    "lambda_square = map(lambda x: x**2, num)\n",
    "list(lambda_square)"
   ]
  },
  {
   "cell_type": "code",
   "execution_count": 9,
   "metadata": {},
   "outputs": [
    {
     "data": {
      "text/plain": [
       "[2, 4, 6, 8]"
      ]
     },
     "execution_count": 9,
     "metadata": {},
     "output_type": "execute_result"
    }
   ],
   "source": [
    "# filter out the odd numbers\n",
    "result = filter(lambda x: x%2 == 0, num)\n",
    "list(result)\n"
   ]
  },
  {
   "cell_type": "markdown",
   "metadata": {},
   "source": [
    "### Iterators"
   ]
  },
  {
   "cell_type": "code",
   "execution_count": 10,
   "metadata": {},
   "outputs": [
    {
     "data": {
      "text/plain": [
       "[0, 1, 2, 3, 4, 5, 6, 7, 8, 9]"
      ]
     },
     "execution_count": 10,
     "metadata": {},
     "output_type": "execute_result"
    }
   ],
   "source": [
    "list(range(10))   # range is a generator object"
   ]
  },
  {
   "cell_type": "code",
   "execution_count": 11,
   "metadata": {},
   "outputs": [
    {
     "data": {
      "text/plain": [
       "[2, 6, 10, 14, 18, 22, 26, 30, 34, 38]"
      ]
     },
     "execution_count": 11,
     "metadata": {},
     "output_type": "execute_result"
    }
   ],
   "source": [
    "mt = []\n",
    "for i in range(2,40,4):      # range(start, stop (not incl), step)\n",
    "    mt.append(i)\n",
    "\n",
    "mt"
   ]
  },
  {
   "cell_type": "code",
   "execution_count": 12,
   "metadata": {},
   "outputs": [
    {
     "name": "stdout",
     "output_type": "stream",
     "text": [
      "0 ->  2\n",
      "1 ->  6\n",
      "2 -> 10\n",
      "3 -> 14\n",
      "4 -> 18\n",
      "5 -> 22\n",
      "6 -> 26\n",
      "7 -> 30\n",
      "8 -> 34\n",
      "9 -> 38\n"
     ]
    }
   ],
   "source": [
    "# Enumerator : returns the current iteration of the loop & value at that iteration\n",
    "\n",
    "for n,i in enumerate(range(2,40,4)):\n",
    "    print(f\"{n} -> {i:2d}\")     # :2d means to represent the optput in 2 digit in order to satisfy the asthetics"
   ]
  },
  {
   "cell_type": "code",
   "execution_count": 13,
   "metadata": {},
   "outputs": [
    {
     "name": "stdout",
     "output_type": "stream",
     "text": [
      "Full list: [5.0, (2, 3), 0.7071067811865476, 'some text', [1, 2, 3], {2, 5}]\n",
      "====================================================================================================\n",
      "5.0\n",
      "(2, 3)\n",
      "0.7071067811865476\n"
     ]
    }
   ],
   "source": [
    "a =[1,2,3]\n",
    "lst = [5.0,(2,3),2**-0.5,\"some text\", a, {2,5}]\n",
    "\n",
    "print(f\"Full list: {lst}\")\n",
    "print(100*\"=\")\n",
    "for element in lst:\n",
    "    if type(element) == str:\n",
    "        break\n",
    "    print(element)\n",
    "\n",
    "\n"
   ]
  },
  {
   "cell_type": "code",
   "execution_count": 14,
   "metadata": {},
   "outputs": [
    {
     "name": "stdout",
     "output_type": "stream",
     "text": [
      "5.0\n",
      "(2, 3)\n",
      "0.7071067811865476\n",
      "[1, 2, 3]\n",
      "{2, 5}\n"
     ]
    }
   ],
   "source": [
    "for element in lst:\n",
    "    if type(element) == str:\n",
    "        #break\n",
    "        continue                  # avoid/skip the string and carry on with other elements \n",
    "    print(element)"
   ]
  },
  {
   "cell_type": "markdown",
   "metadata": {},
   "source": [
    "### $ \\textbf{Decision Tree} - \\text{important}$\n",
    "<hr>"
   ]
  },
  {
   "cell_type": "code",
   "execution_count": 15,
   "metadata": {},
   "outputs": [],
   "source": [
    "def classify(x:dict) -> str:\n",
    "    if x[\"color\"] == \"green\":\n",
    "        if x[\"size\"] == \"big\":\n",
    "            decision = \"Watermelon\"\n",
    "        elif x[\"size\"] == \"small\":\n",
    "            decision = \"apple\"\n",
    "        else:\n",
    "            decision = \"other\"\n",
    "    else:\n",
    "        decision =\"other\"\n",
    "    \n",
    "    return decision\n"
   ]
  },
  {
   "cell_type": "markdown",
   "metadata": {},
   "source": [
    "### $\\textbf{List Comprehensions} - \\text{important}$\n",
    "<hr>"
   ]
  },
  {
   "cell_type": "code",
   "execution_count": 16,
   "metadata": {},
   "outputs": [],
   "source": [
    "# Example: Given a List of Dictionaries, make a prediction about each element & store it in a saperate List\n",
    "data = [\n",
    "    {\"color\": \"green\", \"size\":\"big\"},\n",
    "    {\"color\": \"yellow\", \"size\":\"big\", \"shape\":\"round\"},\n",
    "    {\"color\": \"red\", \"size\":\"medium\"},\n",
    "    {\"color\": \"green\", \"size\":\"big\"},\n",
    "    {\"color\": \"red\", \"size\":\"small\", \"taste\":\"sour\"},\n",
    "    {\"color\": \"green\", \"size\":\"small\"}\n",
    "]"
   ]
  },
  {
   "cell_type": "markdown",
   "metadata": {},
   "source": [
    "#### Method-1 \n",
    "Creating an empty list and append it"
   ]
  },
  {
   "cell_type": "code",
   "execution_count": 17,
   "metadata": {},
   "outputs": [
    {
     "name": "stdout",
     "output_type": "stream",
     "text": [
      "Fruit: {'color': 'green', 'size': 'big'} \n",
      "Class: Watermelon \n",
      "\n",
      "Fruit: {'color': 'yellow', 'size': 'big', 'shape': 'round'} \n",
      "Class: other \n",
      "\n",
      "Fruit: {'color': 'red', 'size': 'medium'} \n",
      "Class: other \n",
      "\n",
      "Fruit: {'color': 'green', 'size': 'big'} \n",
      "Class: Watermelon \n",
      "\n",
      "Fruit: {'color': 'red', 'size': 'small', 'taste': 'sour'} \n",
      "Class: other \n",
      "\n",
      "Fruit: {'color': 'green', 'size': 'small'} \n",
      "Class: apple \n",
      "\n",
      "====================================================================================================\n"
     ]
    },
    {
     "data": {
      "text/plain": [
       "['Watermelon', 'other', 'other', 'Watermelon', 'other', 'apple']"
      ]
     },
     "execution_count": 17,
     "metadata": {},
     "output_type": "execute_result"
    }
   ],
   "source": [
    "results = []\n",
    "\n",
    "for x in data:\n",
    "    res = classify(x)\n",
    "    results.append(res)\n",
    "    #results += [classify(x)]\n",
    "    print(f\"Fruit: {x} \\nClass: {res} \\n\")\n",
    "\n",
    "print(100*\"=\")\n",
    "results\n"
   ]
  },
  {
   "cell_type": "markdown",
   "metadata": {},
   "source": [
    "#### List comprehensions\n",
    "we can directly create a list"
   ]
  },
  {
   "cell_type": "code",
   "execution_count": 18,
   "metadata": {},
   "outputs": [
    {
     "data": {
      "text/plain": [
       "(list, ['Watermelon', 'other', 'other', 'Watermelon', 'other', 'apple'])"
      ]
     },
     "execution_count": 18,
     "metadata": {},
     "output_type": "execute_result"
    }
   ],
   "source": [
    "rslt = [classify(x) for x in data]\n",
    "type(rslt), rslt\n"
   ]
  },
  {
   "cell_type": "code",
   "execution_count": 19,
   "metadata": {},
   "outputs": [
    {
     "data": {
      "text/plain": [
       "['Watermelon', 'Watermelon', 'apple']"
      ]
     },
     "execution_count": 19,
     "metadata": {},
     "output_type": "execute_result"
    }
   ],
   "source": [
    "# [expression iterator {condition}]\n",
    "[classify(x) for x in data if x[\"color\"] == \"green\"]"
   ]
  },
  {
   "cell_type": "code",
   "execution_count": 20,
   "metadata": {},
   "outputs": [
    {
     "data": {
      "text/plain": [
       "'Total no of Watermelon are 2'"
      ]
     },
     "execution_count": 20,
     "metadata": {},
     "output_type": "execute_result"
    }
   ],
   "source": [
    "# counting objects in a list (Normal Way)\n",
    "obj = \"Watermelon\"\n",
    "\n",
    "count = 0\n",
    "for i in rslt:\n",
    "    if i == obj:\n",
    "        count+=1\n",
    "\n",
    "f\"Total no of {obj} are {count}\""
   ]
  },
  {
   "cell_type": "code",
   "execution_count": 21,
   "metadata": {},
   "outputs": [
    {
     "data": {
      "text/plain": [
       "'The no of Watermelon are 2'"
      ]
     },
     "execution_count": 21,
     "metadata": {},
     "output_type": "execute_result"
    }
   ],
   "source": [
    "# Counting through list comprehension with built-in \"sum\" function\n",
    "count = sum([classify(x) == obj for x in data])   # sum of Bool: True = 1 & False = 0\n",
    "\n",
    "f\"The no of {obj} are {count}\""
   ]
  },
  {
   "cell_type": "markdown",
   "metadata": {},
   "source": [
    "### Dictionary Comprehensions"
   ]
  },
  {
   "cell_type": "code",
   "execution_count": 22,
   "metadata": {},
   "outputs": [
    {
     "data": {
      "text/plain": [
       "[('Anna', 20), ('Bob', 30), ('Chi', 55), ('Dan', 69)]"
      ]
     },
     "execution_count": 22,
     "metadata": {},
     "output_type": "execute_result"
    }
   ],
   "source": [
    "names = [\"Anna\", \"Bob\", \"Chi\", \"Dan\"]\n",
    "age = [20,30,55,69]\n",
    "\n",
    "# Given the names & ages: create a list of tuples in accordance with the data\n",
    "\n",
    "names_and_ages = zip(names, age)  # zip creates a list of tuplewise elements\n",
    "list(names_and_ages)"
   ]
  },
  {
   "cell_type": "code",
   "execution_count": 23,
   "metadata": {},
   "outputs": [
    {
     "data": {
      "text/plain": [
       "{'Anna': 20, 'Bob': 30, 'Chi': 55, 'Dan': 69}"
      ]
     },
     "execution_count": 23,
     "metadata": {},
     "output_type": "execute_result"
    }
   ],
   "source": [
    "# create a dictionary via dict-comprehensions\n",
    "\n",
    "dct = {key:value for key, value in zip(names, age)}\n",
    "dct"
   ]
  },
  {
   "cell_type": "markdown",
   "metadata": {},
   "source": [
    "### Read from a file"
   ]
  },
  {
   "cell_type": "markdown",
   "metadata": {},
   "source": [
    "\"with\" statement helps opening & closing a file"
   ]
  },
  {
   "cell_type": "code",
   "execution_count": 24,
   "metadata": {},
   "outputs": [
    {
     "name": "stdout",
     "output_type": "stream",
     "text": [
      "['80', '55', '16', '26', '37', '62', '49', '13', '28', '56']\n",
      "['43', '45', '47', '63', '43', '65', '10', '52', '30', '18']\n",
      "['63', '71', '69', '24', '54', '29', '79', '83', '38', '56']\n",
      "['46', '42', '39', '14', '47', '40', '72', '43', '57', '47']\n",
      "['61', '49', '65', '31', '79', '62', '9', '90', '65', '44']\n",
      "['10', '28', '16', '6', '61', '72', '78', '55', '54', '48']\n"
     ]
    }
   ],
   "source": [
    "with open(\"./scores.txt\", \"r\") as f:   #open file as f for \"r\" = reading\n",
    "\n",
    "    data = []\n",
    "\n",
    "    for line in f:\n",
    "        line_entries = line.strip().split(\",\")   \n",
    "\n",
    "        print(line_entries)          # further we want our data to be float instead of strings\n",
    "\n",
    "        data.extend([float(x) for x in line_entries])\n",
    "                                          # instead of :(b/c we want a list of elements not a list of lists)\n",
    "        #data.append([float(x) for x in line_entries])\n"
   ]
  },
  {
   "cell_type": "code",
   "execution_count": 40,
   "metadata": {},
   "outputs": [
    {
     "data": {
      "text/plain": [
       "'Data Length: 60 || File content: [80.0, 55.0, 16.0, 26.0, 37.0, 62.0, 49.0, 13.0, 28.0, 56.0, 43.0, 45.0, 47.0, 63.0, 43.0, 65.0, 10.0, 52.0, 30.0, 18.0, 63.0, 71.0, 69.0, 24.0, 54.0, 29.0, 79.0, 83.0, 38.0, 56.0, 46.0, 42.0, 39.0, 14.0, 47.0, 40.0, 72.0, 43.0, 57.0, 47.0, 61.0, 49.0, 65.0, 31.0, 79.0, 62.0, 9.0, 90.0, 65.0, 44.0, 10.0, 28.0, 16.0, 6.0, 61.0, 72.0, 78.0, 55.0, 54.0, 48.0]'"
      ]
     },
     "execution_count": 40,
     "metadata": {},
     "output_type": "execute_result"
    }
   ],
   "source": [
    "f\"Data Length: {len(data)} || File content: {data}\""
   ]
  },
  {
   "cell_type": "code",
   "execution_count": 26,
   "metadata": {},
   "outputs": [
    {
     "data": {
      "text/plain": [
       "'Train Data has 48 elements & Test data has 12'"
      ]
     },
     "execution_count": 26,
     "metadata": {},
     "output_type": "execute_result"
    }
   ],
   "source": [
    "# Train-Test split\n",
    "N = len(data)\n",
    "\n",
    "ratio= 0.8\n",
    "split = int(ratio*N)    # 80% of the data\n",
    "\n",
    "train_data = data[:split]\n",
    "test_data = data[split:]\n",
    "\n",
    "f\"Train Data has {len(train_data)} elements & Test data has {len(test_data)}\""
   ]
  },
  {
   "cell_type": "code",
   "execution_count": 27,
   "metadata": {},
   "outputs": [],
   "source": [
    "import os      # imp package to work with operating system: for file & directory handelling "
   ]
  },
  {
   "cell_type": "code",
   "execution_count": 28,
   "metadata": {},
   "outputs": [],
   "source": [
    "def write(data, outfile = \"./output.txt\"):\n",
    "    try:\n",
    "\n",
    "        # Make sure not to overwrite on existing file\n",
    "        if os.path.exists(outfile):\n",
    "            raise Exception(f\"File '{outfile}' exists already.\")\n",
    "        with open(outfile, \"w\") as f:   # \"a\"\n",
    "\n",
    "            f.write(str(data))\n",
    "\n",
    "            print(f\"Successfully written to {outfile}\")\n",
    "    except:\n",
    "\n",
    "        # recreate_file(data, outfile)\n",
    "        print(f\"Exception occured: {e}\")\n",
    "\n"
   ]
  },
  {
   "cell_type": "markdown",
   "metadata": {},
   "source": [
    "In try-except block, we try to execute some code where we open a file for writing & we write the string representation of a dataset & after that we successfully say we write a file. In case if sth wrong in \"try\" block, the message in \"except\" will appear. However, there are some exceptions in \"raise\".\n",
    "\n",
    "Below, we write 2 files Train & Test. For the first time they work, however, if run again... it will show the msg in \"raise\"\n"
   ]
  },
  {
   "cell_type": "code",
   "execution_count": 29,
   "metadata": {},
   "outputs": [
    {
     "ename": "NameError",
     "evalue": "name 'e' is not defined",
     "output_type": "error",
     "traceback": [
      "\u001b[1;31m---------------------------------------------------------------------------\u001b[0m",
      "\u001b[1;31mException\u001b[0m                                 Traceback (most recent call last)",
      "\u001b[1;32mc:\\Users\\w-t\\OneDrive - Technische Universität Berlin\\Desktop Items\\Basics_Python\\isis_course\\practice_lecture.ipynb Cell 38\u001b[0m in \u001b[0;36mwrite\u001b[1;34m(data, outfile)\u001b[0m\n\u001b[0;32m      <a href='vscode-notebook-cell:/c%3A/Users/w-t/OneDrive%20-%20Technische%20Universit%C3%A4t%20Berlin/Desktop%20Items/Basics_Python/isis_course/practice_lecture.ipynb#X52sZmlsZQ%3D%3D?line=4'>5</a>\u001b[0m \u001b[39mif\u001b[39;00m os\u001b[39m.\u001b[39mpath\u001b[39m.\u001b[39mexists(outfile):\n\u001b[1;32m----> <a href='vscode-notebook-cell:/c%3A/Users/w-t/OneDrive%20-%20Technische%20Universit%C3%A4t%20Berlin/Desktop%20Items/Basics_Python/isis_course/practice_lecture.ipynb#X52sZmlsZQ%3D%3D?line=5'>6</a>\u001b[0m     \u001b[39mraise\u001b[39;00m \u001b[39mException\u001b[39;00m(\u001b[39mf\u001b[39m\u001b[39m\"\u001b[39m\u001b[39mFile \u001b[39m\u001b[39m'\u001b[39m\u001b[39m{\u001b[39;00moutfile\u001b[39m}\u001b[39;00m\u001b[39m'\u001b[39m\u001b[39m exists already.\u001b[39m\u001b[39m\"\u001b[39m)\n\u001b[0;32m      <a href='vscode-notebook-cell:/c%3A/Users/w-t/OneDrive%20-%20Technische%20Universit%C3%A4t%20Berlin/Desktop%20Items/Basics_Python/isis_course/practice_lecture.ipynb#X52sZmlsZQ%3D%3D?line=6'>7</a>\u001b[0m \u001b[39mwith\u001b[39;00m \u001b[39mopen\u001b[39m(outfile, \u001b[39m\"\u001b[39m\u001b[39mw\u001b[39m\u001b[39m\"\u001b[39m) \u001b[39mas\u001b[39;00m f:   \u001b[39m# \"a\"\u001b[39;00m\n",
      "\u001b[1;31mException\u001b[0m: File 'train_scores.txt' exists already.",
      "\nDuring handling of the above exception, another exception occurred:\n",
      "\u001b[1;31mNameError\u001b[0m                                 Traceback (most recent call last)",
      "\u001b[1;32mc:\\Users\\w-t\\OneDrive - Technische Universität Berlin\\Desktop Items\\Basics_Python\\isis_course\\practice_lecture.ipynb Cell 38\u001b[0m in \u001b[0;36m<cell line: 1>\u001b[1;34m()\u001b[0m\n\u001b[1;32m----> <a href='vscode-notebook-cell:/c%3A/Users/w-t/OneDrive%20-%20Technische%20Universit%C3%A4t%20Berlin/Desktop%20Items/Basics_Python/isis_course/practice_lecture.ipynb#X52sZmlsZQ%3D%3D?line=0'>1</a>\u001b[0m write(train_data, outfile \u001b[39m=\u001b[39;49m \u001b[39m\"\u001b[39;49m\u001b[39mtrain_scores.txt\u001b[39;49m\u001b[39m\"\u001b[39;49m)\n\u001b[0;32m      <a href='vscode-notebook-cell:/c%3A/Users/w-t/OneDrive%20-%20Technische%20Universit%C3%A4t%20Berlin/Desktop%20Items/Basics_Python/isis_course/practice_lecture.ipynb#X52sZmlsZQ%3D%3D?line=1'>2</a>\u001b[0m write(test_data, outfile \u001b[39m=\u001b[39m \u001b[39m\"\u001b[39m\u001b[39mtest_score.txt\u001b[39m\u001b[39m\"\u001b[39m)\n",
      "\u001b[1;32mc:\\Users\\w-t\\OneDrive - Technische Universität Berlin\\Desktop Items\\Basics_Python\\isis_course\\practice_lecture.ipynb Cell 38\u001b[0m in \u001b[0;36mwrite\u001b[1;34m(data, outfile)\u001b[0m\n\u001b[0;32m     <a href='vscode-notebook-cell:/c%3A/Users/w-t/OneDrive%20-%20Technische%20Universit%C3%A4t%20Berlin/Desktop%20Items/Basics_Python/isis_course/practice_lecture.ipynb#X52sZmlsZQ%3D%3D?line=10'>11</a>\u001b[0m         \u001b[39mprint\u001b[39m(\u001b[39mf\u001b[39m\u001b[39m\"\u001b[39m\u001b[39mSuccessfully written to \u001b[39m\u001b[39m{\u001b[39;00moutfile\u001b[39m}\u001b[39;00m\u001b[39m\"\u001b[39m)\n\u001b[0;32m     <a href='vscode-notebook-cell:/c%3A/Users/w-t/OneDrive%20-%20Technische%20Universit%C3%A4t%20Berlin/Desktop%20Items/Basics_Python/isis_course/practice_lecture.ipynb#X52sZmlsZQ%3D%3D?line=11'>12</a>\u001b[0m \u001b[39mexcept\u001b[39;00m:\n\u001b[0;32m     <a href='vscode-notebook-cell:/c%3A/Users/w-t/OneDrive%20-%20Technische%20Universit%C3%A4t%20Berlin/Desktop%20Items/Basics_Python/isis_course/practice_lecture.ipynb#X52sZmlsZQ%3D%3D?line=12'>13</a>\u001b[0m \n\u001b[0;32m     <a href='vscode-notebook-cell:/c%3A/Users/w-t/OneDrive%20-%20Technische%20Universit%C3%A4t%20Berlin/Desktop%20Items/Basics_Python/isis_course/practice_lecture.ipynb#X52sZmlsZQ%3D%3D?line=13'>14</a>\u001b[0m     \u001b[39m# recreate_file(data, outfile)\u001b[39;00m\n\u001b[1;32m---> <a href='vscode-notebook-cell:/c%3A/Users/w-t/OneDrive%20-%20Technische%20Universit%C3%A4t%20Berlin/Desktop%20Items/Basics_Python/isis_course/practice_lecture.ipynb#X52sZmlsZQ%3D%3D?line=14'>15</a>\u001b[0m     \u001b[39mprint\u001b[39m(\u001b[39mf\u001b[39m\u001b[39m\"\u001b[39m\u001b[39mException occured: \u001b[39m\u001b[39m{\u001b[39;00me\u001b[39m}\u001b[39;00m\u001b[39m\"\u001b[39m)\n",
      "\u001b[1;31mNameError\u001b[0m: name 'e' is not defined"
     ]
    }
   ],
   "source": [
    "write(train_data, outfile = \"train_scores.txt\")\n",
    "write(test_data, outfile = \"test_score.txt\")"
   ]
  },
  {
   "cell_type": "markdown",
   "metadata": {},
   "source": [
    "### Classes\n",
    "Classes are useful for modelling anything that has an internal state (denoted by \"self\"), for example, ML models. After applying a model & train some data, collect some statistice & the results stored in one place called \"class\" (classifier/ decision maker or regressor). Below we have defined a class (some pre-defined object in Python) for a classifier (model that classifies objects).\n",
    " "
   ]
  },
  {
   "cell_type": "code",
   "execution_count": null,
   "metadata": {},
   "outputs": [],
   "source": [
    "class Classifier(object):\n",
    "    \n",
    "    # Now define a constructor (special method inside class definition with \"__\") \n",
    "    def __init__(self, name = \"Score\"):      # self = internal state\n",
    "        self.avg = 0\n",
    "        self.name = name                      # default values\n",
    "    \n",
    "    # representator constructor (special method to represent the solutions)\n",
    "    def __repr__(self):\n",
    "        return f\"{self.name} classifier with avg: {self.avg:0.3f}\"  # with 3 digit floats\n",
    "    \n",
    "    # methods (any methods which is represented by the defined class)\n",
    "    def train(self, data):\n",
    "        self.avg = sum(data)/len(data)\n",
    "        return self\n",
    "    \n",
    "    def predict(self,data):\n",
    "        return [\"above\" if x>self.avg else \"below\" for x in data]\n",
    "        \n",
    "    \n",
    "\n"
   ]
  },
  {
   "cell_type": "code",
   "execution_count": null,
   "metadata": {},
   "outputs": [
    {
     "name": "stdout",
     "output_type": "stream",
     "text": [
      "0 Custom\n",
      "Custom classifier with avg: 0.000\n",
      "Temp classifier with avg: 0.000\n"
     ]
    }
   ],
   "source": [
    "# creation of new classifier object\n",
    "c = Classifier(name = \"Custom\")     # we name the classifier Custom\n",
    "print(c.avg, c.name)                # Default values\n",
    "\n",
    "# __repr__ function is called\n",
    "print(c)\n",
    "\n",
    "d = Classifier(name = \"Temp\")     # a new classifier named \"Temp\"\n",
    "print(d)"
   ]
  },
  {
   "cell_type": "code",
   "execution_count": null,
   "metadata": {},
   "outputs": [
    {
     "name": "stdout",
     "output_type": "stream",
     "text": [
      "Data length: 60\n",
      "Train len: 48 Test len: 12\n"
     ]
    }
   ],
   "source": [
    "# Get train & test from scores - using utils\n",
    "from utils import get_train_test_data\n",
    "\n",
    "train_data, test_data = get_train_test_data(path = \"./scores.txt\", train_size= 0.8)\n"
   ]
  },
  {
   "cell_type": "code",
   "execution_count": null,
   "metadata": {},
   "outputs": [
    {
     "data": {
      "text/plain": [
       "Custom classifier with avg: 47.854"
      ]
     },
     "execution_count": 70,
     "metadata": {},
     "output_type": "execute_result"
    }
   ],
   "source": [
    "# Train the classifier & inspect what it has learned\n",
    "c.train(train_data)"
   ]
  },
  {
   "cell_type": "code",
   "execution_count": null,
   "metadata": {},
   "outputs": [
    {
     "name": "stdout",
     "output_type": "stream",
     "text": [
      "Test data length: 12\n",
      "Avg: 47.854\n",
      "Test: [65.0, 44.0, 10.0, 28.0, 16.0, 6.0, 61.0, 72.0, 78.0, 55.0, 54.0, 48.0]\n",
      "prediction: ['above', 'below', 'below', 'below', 'below', 'below', 'above', 'above', 'above', 'above', 'above', 'above']\n"
     ]
    },
    {
     "data": {
      "text/plain": [
       "[(65.0, 'above'), (44.0, 'below'), (10.0, 'below'), (28.0, 'below')]"
      ]
     },
     "execution_count": 73,
     "metadata": {},
     "output_type": "execute_result"
    }
   ],
   "source": [
    "# Application of test data to model\n",
    "print(f\"Test data length: {len(test_data)}\")\n",
    "\n",
    "test_preds = c.predict(test_data)\n",
    "print(f\"Avg: {c.avg:0.3f}\")\n",
    "print(f\"Test: {test_data}\")\n",
    "print(f\"prediction: {test_preds}\")\n",
    "\n",
    "# Zipped result from prediction (only first 4 elements)\n",
    "combine = zip(test_data[:4], test_preds[:4])\n",
    "list(combine)"
   ]
  },
  {
   "cell_type": "markdown",
   "metadata": {},
   "source": [
    "## Items done in Week1\n",
    "* Lambda Function\n",
    "* Iterators\n",
    "* List operations & concatenations\n",
    "* List comprehensions (create a direct list, loop inside a list & generate counts using built-in \"sum\" function)\n",
    "* Dictionary operation & concatenations\n",
    "* Dict comprehensions (create a dictionaty wit 2 list of equal elements using a loop & zip function in a single line)\n",
    "* File (read a file, change data from strings to float, make a test & train split, open a file for writing,\n",
    "check everything is good using try-except, created 2 files)\n",
    "* Classes & Classifier\n"
   ]
  },
  {
   "cell_type": "code",
   "execution_count": null,
   "metadata": {},
   "outputs": [],
   "source": [
    "def types_of(list):\n",
    "    return [type(i) for i in list]"
   ]
  },
  {
   "cell_type": "code",
   "execution_count": null,
   "metadata": {},
   "outputs": [
    {
     "data": {
      "text/plain": [
       "[int, float, str, bool, tuple]"
      ]
     },
     "execution_count": 75,
     "metadata": {},
     "output_type": "execute_result"
    }
   ],
   "source": [
    "types = types_of([7, 0.7, \"hello\", True, (2, \"s\")])\n",
    "types"
   ]
  },
  {
   "cell_type": "code",
   "execution_count": null,
   "metadata": {},
   "outputs": [
    {
     "data": {
      "text/plain": [
       "'Hello World.'"
      ]
     },
     "execution_count": 76,
     "metadata": {},
     "output_type": "execute_result"
    }
   ],
   "source": [
    "\"   Hello World.   \".strip()"
   ]
  },
  {
   "cell_type": "code",
   "execution_count": null,
   "metadata": {},
   "outputs": [
    {
     "name": "stdout",
     "output_type": "stream",
     "text": [
      "apple\n",
      "banana\n",
      "cherry\n"
     ]
    }
   ],
   "source": [
    "thistuple = (\"apple\", \"banana\", \"cherry\")\n",
    "for i in range(len(thistuple)):\n",
    "  print(thistuple[i])"
   ]
  },
  {
   "cell_type": "markdown",
   "metadata": {},
   "source": [
    "## Week - 2"
   ]
  },
  {
   "cell_type": "code",
   "execution_count": 2,
   "metadata": {},
   "outputs": [],
   "source": [
    "# Inheritence: when a class uses a code from another class\n",
    "\n",
    "# First we need to define a parent class - which describes a Person\n",
    "class person:                   \n",
    "\n",
    "    def __init__(self, first_name, last_name): # constructor - necessary to pass the self function\n",
    "\n",
    "        self.first_name = first_name\n",
    "        self.last_name = last_name\n",
    "    \n",
    "    def __repr__(self):                        # object representation\n",
    "        return f\"Person: {self.first_name} {self.last_name}\"\n",
    "    \n",
    "    def __call__(self):                        # function to be called by default on object call\n",
    "        return self.talk()\n",
    "    \n",
    "    def talk(self):\n",
    "        return f\"Hello, My name is {self.first_name} {self.last_name}\"\n",
    "\n",
    "\n",
    "\n"
   ]
  },
  {
   "cell_type": "code",
   "execution_count": 3,
   "metadata": {},
   "outputs": [
    {
     "data": {
      "text/plain": [
       "Person: Naveed Ul Mustafa"
      ]
     },
     "execution_count": 3,
     "metadata": {},
     "output_type": "execute_result"
    }
   ],
   "source": [
    "me = person(\"Naveed Ul\", \"Mustafa\")\n",
    "me                          # __repr__ function is called"
   ]
  },
  {
   "cell_type": "code",
   "execution_count": 4,
   "metadata": {},
   "outputs": [
    {
     "data": {
      "text/plain": [
       "'Hello, My name is Naveed Ul Mustafa'"
      ]
     },
     "execution_count": 4,
     "metadata": {},
     "output_type": "execute_result"
    }
   ],
   "source": [
    "me()             # calling object as a function  (similar to me.talk())"
   ]
  },
  {
   "cell_type": "code",
   "execution_count": 10,
   "metadata": {},
   "outputs": [],
   "source": [
    "# Now defining a child class\n",
    "\n",
    "from distutils.log import info\n",
    "\n",
    "\n",
    "class student(person):        # Inheriting a code from person class\n",
    "\n",
    "    def __init__(self, first_name, last_name, mat_no, university):\n",
    "        person.__init__(self, first_name, last_name)              # parent constructor - As student is already a person\n",
    "        self.mat_no = mat_no\n",
    "        self.university = university\n",
    "        self.credits = 0                  # ECTS\n",
    "        self.modules = []                 \n",
    "        self.notes = []                   #[3,4,1,2,1]\n",
    "    \n",
    "    def __repr__(self):\n",
    "        info = f\"{self.first_name} {self.last_name}\\nstudent: {self.university} {self.mat_no}\"\n",
    "\n",
    "        if len(self.modules)>0:\n",
    "            classes = ','.join(self.modules)\n",
    "            info += f\"\\nCredits:{self.credits} ECTS in {classes}\" + \\\n",
    "                f\"avg note: {sum(self.notes)/len(self.notes):0.1f}\"\n",
    "        return info\n",
    "\n",
    "    #def talk(self):                # Parent's method call, it was a function invoked only when apply special objects\n",
    "   #     new = super().talk + f\"I'm studying at {self.university}.\" + \\\n",
    "   #         f\"My matriculation no is {self.mat_no}\"\n",
    "   #     return new\n",
    "\n",
    "            # here re-writing the function to represent the student's talk. super() is a way to access the parent class \n",
    "            # & additional to Parent's, we add uni & mat_no\n",
    "            \n",
    "    \n",
    "    def exam(self, module_name: str, credits:int, notes:float) -> None:\n",
    "        \"\"\"\n",
    "        Adds exam info credits\n",
    "        \"\"\"\n",
    "        self.modules += [module_name]\n",
    "        self.credits += credits\n",
    "        self.notes += [notes]\n"
   ]
  },
  {
   "cell_type": "code",
   "execution_count": 11,
   "metadata": {},
   "outputs": [
    {
     "data": {
      "text/plain": [
       "'Hello, My name is Anna Musin'"
      ]
     },
     "execution_count": 11,
     "metadata": {},
     "output_type": "execute_result"
    }
   ],
   "source": [
    "anna = student(\"Anna\", \"Musin\", 435625, \"TU Berlin\")\n",
    "anna()"
   ]
  },
  {
   "cell_type": "code",
   "execution_count": 12,
   "metadata": {},
   "outputs": [
    {
     "ename": "TypeError",
     "evalue": "__call__() takes 1 positional argument but 4 were given",
     "output_type": "error",
     "traceback": [
      "\u001b[1;31m---------------------------------------------------------------------------\u001b[0m",
      "\u001b[1;31mTypeError\u001b[0m                                 Traceback (most recent call last)",
      "\u001b[1;32m~\\AppData\\Local\\Temp/ipykernel_8708/1129201386.py\u001b[0m in \u001b[0;36m<module>\u001b[1;34m\u001b[0m\n\u001b[0;32m      1\u001b[0m \u001b[0manna\u001b[0m\u001b[1;33m.\u001b[0m\u001b[0mexam\u001b[0m\u001b[1;33m(\u001b[0m\u001b[1;34m\"CS\"\u001b[0m\u001b[1;33m,\u001b[0m \u001b[1;36m6\u001b[0m\u001b[1;33m,\u001b[0m\u001b[1;36m1.7\u001b[0m\u001b[1;33m)\u001b[0m\u001b[1;33m\u001b[0m\u001b[1;33m\u001b[0m\u001b[0m\n\u001b[1;32m----> 2\u001b[1;33m \u001b[0manna\u001b[0m\u001b[1;33m(\u001b[0m\u001b[1;34m\"B10\"\u001b[0m\u001b[1;33m,\u001b[0m \u001b[1;36m12\u001b[0m\u001b[1;33m,\u001b[0m\u001b[1;36m2.7\u001b[0m\u001b[1;33m)\u001b[0m\u001b[1;33m\u001b[0m\u001b[1;33m\u001b[0m\u001b[0m\n\u001b[0m\u001b[0;32m      3\u001b[0m \u001b[1;33m\u001b[0m\u001b[0m\n\u001b[0;32m      4\u001b[0m \u001b[0manna\u001b[0m\u001b[1;33m(\u001b[0m\u001b[1;33m)\u001b[0m\u001b[1;33m\u001b[0m\u001b[1;33m\u001b[0m\u001b[0m\n",
      "\u001b[1;31mTypeError\u001b[0m: __call__() takes 1 positional argument but 4 were given"
     ]
    }
   ],
   "source": [
    "anna.exam(\"CS\", 6,1.7)\n",
    "anna(\"B10\", 12,2.7)\n",
    "\n",
    "anna()"
   ]
  },
  {
   "cell_type": "code",
   "execution_count": 13,
   "metadata": {},
   "outputs": [],
   "source": [
    "# Python - Database Manager\n",
    "\n",
    "# ususlly classes & objects are created & once u closes the Jupyter notebook, they got lost. Everything u stored in \n",
    "# objects & class with inheritence just gone off when stop execution. So using dbm package.\n",
    "import dbm, os, pickle  # dbm package gives access to on-disk database with Python"
   ]
  },
  {
   "cell_type": "code",
   "execution_count": 15,
   "metadata": {},
   "outputs": [],
   "source": [
    "class DBM(object):        # Class DataBaseManager will inherit from the object        \n",
    " \n",
    "    def __init__(self, name, folder = \"./db\"):  # name of db & location where that db is stored\n",
    "        os.makedirs(folder, exist_ok = True)    # we create folder by the name \"db\" & if exist leave it\n",
    "        self.folder = folder                    # we access the folder\n",
    "\n",
    "        self.filepath = os.path.join(self.folder, name) # name of our databese indide \"db\" folder\n",
    "\n",
    "    def add_(self, key, value):                     # add any element to the selected database - like a disctionary\n",
    "        with dbm.open(self.filepath, \"c\") as db:    # \"c\"- create, want to create 1 entry in our database \n",
    "            db[key] = pickle.dumps(value, protocol=pickle.HIGHEST_PROTOCOL) # store the value against a key\n",
    "\n",
    "    def get_(self, key):                            # get any required element from database\n",
    "        with dbm.open(self.filepath, \"r\") as db:    # \"r\" - reading\n",
    "            try:                                    # if we have the required key in the database,  \n",
    "                res = db[key]\n",
    "                return pickle.loads(res)\n",
    "            except KeyError:\n",
    "                return None\n",
    "\n",
    "    def delete_(self, key):                         # Delete any object\n",
    "        with dbm.open(self.filepath, \"c\") as db:\n",
    "            del db[key]\n",
    "    \n",
    "    def keys_(self):\n",
    "        with dbm.open(self.filepath, \"r\") as db:\n",
    "            return db.keys()\n",
    "\n",
    "# Check how to define a property in a Python Class?\n"
   ]
  },
  {
   "cell_type": "code",
   "execution_count": 16,
   "metadata": {},
   "outputs": [],
   "source": [
    "# For Student table in DBM\n",
    "tub = DBM(\"TU Berlin\")\n",
    "mat_no = 123\n",
    "anna = student(\"Anna\", \"Masi\", mat_no, \"TU Berlin\")\n",
    "\n",
    "tub.add_(f\"student:{mat_no}\",anna)      # key can contain table info"
   ]
  },
  {
   "cell_type": "code",
   "execution_count": 17,
   "metadata": {},
   "outputs": [
    {
     "data": {
      "text/plain": [
       "Anna Masi\n",
       "student: TU Berlin 123"
      ]
     },
     "execution_count": 17,
     "metadata": {},
     "output_type": "execute_result"
    }
   ],
   "source": [
    "tub.get_(\"student:123\")"
   ]
  },
  {
   "cell_type": "code",
   "execution_count": 18,
   "metadata": {},
   "outputs": [
    {
     "ename": "NameError",
     "evalue": "name 'HiWi' is not defined",
     "output_type": "error",
     "traceback": [
      "\u001b[1;31m---------------------------------------------------------------------------\u001b[0m",
      "\u001b[1;31mNameError\u001b[0m                                 Traceback (most recent call last)",
      "\u001b[1;32m~\\AppData\\Local\\Temp/ipykernel_8708/1811744437.py\u001b[0m in \u001b[0;36m<module>\u001b[1;34m\u001b[0m\n\u001b[0;32m      1\u001b[0m \u001b[1;31m# For Hiwi table in DBM\u001b[0m\u001b[1;33m\u001b[0m\u001b[1;33m\u001b[0m\u001b[0m\n\u001b[0;32m      2\u001b[0m \u001b[0mmat_no\u001b[0m \u001b[1;33m=\u001b[0m \u001b[1;36m456\u001b[0m\u001b[1;33m\u001b[0m\u001b[1;33m\u001b[0m\u001b[0m\n\u001b[1;32m----> 3\u001b[1;33m \u001b[0msergej\u001b[0m \u001b[1;33m=\u001b[0m \u001b[0mHiWi\u001b[0m\u001b[1;33m(\u001b[0m\u001b[1;34m\"Sergej\"\u001b[0m\u001b[1;33m,\u001b[0m \u001b[1;34m\"Dogadov\"\u001b[0m\u001b[1;33m,\u001b[0m \u001b[0mmat_no\u001b[0m\u001b[1;33m,\u001b[0m \u001b[1;34m\"TU Berlin\"\u001b[0m\u001b[1;33m,\u001b[0m \u001b[1;36m1000\u001b[0m\u001b[1;33m)\u001b[0m\u001b[1;33m\u001b[0m\u001b[1;33m\u001b[0m\u001b[0m\n\u001b[0m\u001b[0;32m      4\u001b[0m \u001b[0mtub\u001b[0m\u001b[1;33m.\u001b[0m\u001b[0madd_\u001b[0m\u001b[1;33m(\u001b[0m\u001b[1;34mf\"hiwi:{mat_no}\"\u001b[0m\u001b[1;33m,\u001b[0m\u001b[0msergej\u001b[0m\u001b[1;33m)\u001b[0m\u001b[1;33m\u001b[0m\u001b[1;33m\u001b[0m\u001b[0m\n\u001b[0;32m      5\u001b[0m \u001b[1;33m\u001b[0m\u001b[0m\n",
      "\u001b[1;31mNameError\u001b[0m: name 'HiWi' is not defined"
     ]
    }
   ],
   "source": [
    "# For Hiwi table in DBM\n",
    "mat_no = 456\n",
    "sergej = HiWi(\"Sergej\", \"Dogadov\", mat_no, \"TU Berlin\", 1000)\n",
    "tub.add_(f\"hiwi:{mat_no}\",sergej)\n",
    "\n",
    "tub.get_(\"hiwi:456\")\n",
    "\n",
    "\n",
    "# since I dont have a defined class for hiwi, thats why!!"
   ]
  },
  {
   "cell_type": "code",
   "execution_count": 20,
   "metadata": {},
   "outputs": [
    {
     "data": {
      "text/plain": [
       "[b'student:123']"
      ]
     },
     "execution_count": 20,
     "metadata": {},
     "output_type": "execute_result"
    }
   ],
   "source": [
    "tub.keys_()"
   ]
  },
  {
   "cell_type": "code",
   "execution_count": 21,
   "metadata": {},
   "outputs": [
    {
     "name": "stdout",
     "output_type": "stream",
     "text": [
      "counter Initialized\n",
      "0\n",
      "1\n",
      "2\n",
      "3\n",
      "4\n"
     ]
    }
   ],
   "source": [
    "# Generators (special function where u can stop & re-run execution)\n",
    "\n",
    "from email.generator import Generator\n",
    "\n",
    "\n",
    "def counter():\n",
    "    print(\"counter Initialized\")\n",
    "\n",
    "    n = 0\n",
    "    while True:\n",
    "        yield n          # similar to return\n",
    "        n +=1\n",
    "\n",
    "#Iterating over Generator\n",
    "\n",
    "for i in counter():\n",
    "    if i < 5:\n",
    "        print(i)\n",
    "    else:\n",
    "        break         # stops the loop"
   ]
  },
  {
   "cell_type": "code",
   "execution_count": 22,
   "metadata": {},
   "outputs": [
    {
     "data": {
      "text/plain": [
       "<generator object <genexpr> at 0x000001FED9435120>"
      ]
     },
     "execution_count": 22,
     "metadata": {},
     "output_type": "execute_result"
    }
   ],
   "source": [
    "# Generator in Tuple Comprehension\n",
    "gen_obj = (x**2 for x in range(100_000) if x%10 == 0)         # generator object\n",
    "gen_obj"
   ]
  },
  {
   "cell_type": "code",
   "execution_count": 23,
   "metadata": {},
   "outputs": [
    {
     "data": {
      "text/plain": [
       "(0, 100, 400)"
      ]
     },
     "execution_count": 23,
     "metadata": {},
     "output_type": "execute_result"
    }
   ],
   "source": [
    "next(gen_obj), next(gen_obj), next(gen_obj)"
   ]
  },
  {
   "cell_type": "code",
   "execution_count": 24,
   "metadata": {},
   "outputs": [],
   "source": [
    "# Other ways to define Generators -- Read the link\n",
    "\n",
    "# Q- What are the use cases generators could be useful?\n",
    "# A- For Large Datasets, u dont want to go throught the whole data, so we create a generator function & iterate over it.\n"
   ]
  },
  {
   "cell_type": "code",
   "execution_count": 26,
   "metadata": {},
   "outputs": [],
   "source": [
    "# Decorator - A special function, which can wrap an arbitrary function\n",
    "\n",
    "def benchmark(func):\n",
    "\n",
    "    from time import time           # importing time to get current time\n",
    "\n",
    "\n",
    "    def wrapper(*args, **kwargs):\n",
    "\n",
    "        start = time()                # Start measuring tinme seconds passed since the begning of UNIX time in 1970\n",
    "        res = func(*args, **kwargs)   \n",
    "        end = time()                  # end measuring time\n",
    "\n",
    "        sec = (end - start)*1000\n",
    "        print(f\"Elapsed time: {sec: 0.6f} sec\")\n",
    "\n",
    "        return res\n",
    "    return wrapper\n"
   ]
  },
  {
   "cell_type": "code",
   "execution_count": 30,
   "metadata": {},
   "outputs": [
    {
     "name": "stdout",
     "output_type": "stream",
     "text": [
      "Elapsed time:  2.990484 sec\n",
      "2000\n"
     ]
    }
   ],
   "source": [
    "@benchmark    # wrapping the below function (sum_up function) with a \"benchmark\" decorator\n",
    "              # decorator can be named anytihing\n",
    "\n",
    "def sum_up(n, step = 1):\n",
    "    count = 0\n",
    "    for i in range(n):\n",
    "        if i % step ==0:\n",
    "            count +=1 \n",
    "    return count\n",
    "\n",
    "\n"
   ]
  },
  {
   "cell_type": "code",
   "execution_count": 31,
   "metadata": {},
   "outputs": [
    {
     "name": "stdout",
     "output_type": "stream",
     "text": [
      "Elapsed time:  2.996922 sec\n",
      "2000\n"
     ]
    }
   ],
   "source": [
    "# execute the sum_up function\n",
    "res = sum_up(10_000, step =5)    # summing up 10k values with step 5\n",
    "print(res)"
   ]
  },
  {
   "cell_type": "code",
   "execution_count": 32,
   "metadata": {},
   "outputs": [],
   "source": [
    "# Cached function\n",
    "\n"
   ]
  },
  {
   "cell_type": "code",
   "execution_count": 33,
   "metadata": {},
   "outputs": [
    {
     "data": {
      "text/plain": [
       "[(0, 1), (0, 4), (1, 4)]"
      ]
     },
     "execution_count": 33,
     "metadata": {},
     "output_type": "execute_result"
    }
   ],
   "source": [
    "# Combinatorics\n",
    "\n",
    "# All unique combinations\n",
    "\n",
    "import itertools as it\n",
    "\n",
    "lst = [0,1,2]\n",
    "[(i**2,j**2) for (i,j) in it.combinations(lst, r = 2)]"
   ]
  },
  {
   "cell_type": "code",
   "execution_count": 34,
   "metadata": {},
   "outputs": [
    {
     "data": {
      "text/plain": [
       "[(0, 0, 0),\n",
       " (0, 0, 1),\n",
       " (0, 0, 2),\n",
       " (0, 1, 1),\n",
       " (0, 1, 2),\n",
       " (0, 2, 2),\n",
       " (1, 1, 1),\n",
       " (1, 1, 2),\n",
       " (1, 2, 2),\n",
       " (2, 2, 2)]"
      ]
     },
     "execution_count": 34,
     "metadata": {},
     "output_type": "execute_result"
    }
   ],
   "source": [
    "# All possible combinations\n",
    "[i for i in it.combinations_with_replacement(lst, r = 3)]"
   ]
  },
  {
   "cell_type": "code",
   "execution_count": 35,
   "metadata": {},
   "outputs": [
    {
     "data": {
      "text/plain": [
       "[(0, 1, 2), (0, 2, 1), (1, 0, 2), (1, 2, 0), (2, 0, 1), (2, 1, 0)]"
      ]
     },
     "execution_count": 35,
     "metadata": {},
     "output_type": "execute_result"
    }
   ],
   "source": [
    "# All permutations\n",
    "[i for i in it.permutations(lst)]"
   ]
  },
  {
   "cell_type": "code",
   "execution_count": 36,
   "metadata": {},
   "outputs": [
    {
     "data": {
      "text/plain": [
       "[(0, 0), (0, 1), (0, 2), (1, 0), (1, 1), (1, 2), (2, 0), (2, 1), (2, 2)]"
      ]
     },
     "execution_count": 36,
     "metadata": {},
     "output_type": "execute_result"
    }
   ],
   "source": [
    "# cartesian product of 2 list\n",
    "[i for i in it.product(lst, lst)]"
   ]
  },
  {
   "cell_type": "markdown",
   "metadata": {},
   "source": [
    "#### Scikit-Learn - imp for ML, Data pre-processing, Model selection, etc..."
   ]
  },
  {
   "cell_type": "code",
   "execution_count": 39,
   "metadata": {},
   "outputs": [],
   "source": [
    "# Standard Scalar (classs from SKLearn)\n",
    "\n",
    "import numpy as np\n",
    "from sklearn.preprocessing import StandardScaler   # preprocessing is a sub-package of sklearn, which collects useful methods for data pre-processing\n",
    "\n"
   ]
  },
  {
   "cell_type": "code",
   "execution_count": 45,
   "metadata": {},
   "outputs": [
    {
     "name": "stdout",
     "output_type": "stream",
     "text": [
      "(10, 1)\n"
     ]
    }
   ],
   "source": [
    "x = np.array([0,0,0,0,1,1,1,2,2,2])     # z = (x-mu)/sigma ,     mu = (sum xi)/N   ,       sigma = (sum(xi - mu)**2/N)**1/2\n",
    "\n",
    "# we want to scale our Data so we can get z\n",
    "scaler = StandardScaler(with_mean=True, with_std=True)   # with mean 0 & std=1 (after scaling)\n",
    "x = x.reshape(-1,1)                             # x is not a column vector\n",
    "\n",
    "print(x.shape)"
   ]
  },
  {
   "cell_type": "code",
   "execution_count": 46,
   "metadata": {},
   "outputs": [
    {
     "name": "stdout",
     "output_type": "stream",
     "text": [
      "[0.9]\n",
      "[0.83066239]\n"
     ]
    }
   ],
   "source": [
    "scaler.fit(x)\n",
    "\n",
    "# mu\n",
    "print(scaler.mean_)\n",
    "\n",
    "# sigma\n",
    "print(scaler.scale_)"
   ]
  },
  {
   "cell_type": "code",
   "execution_count": 47,
   "metadata": {},
   "outputs": [
    {
     "data": {
      "text/plain": [
       "(array([[-1.08347268],\n",
       "        [-1.08347268],\n",
       "        [-1.08347268],\n",
       "        [-1.08347268],\n",
       "        [ 0.12038585],\n",
       "        [ 0.12038585],\n",
       "        [ 0.12038585],\n",
       "        [ 1.32424438],\n",
       "        [ 1.32424438],\n",
       "        [ 1.32424438]]),\n",
       " 0.0,\n",
       " 1.0)"
      ]
     },
     "execution_count": 47,
     "metadata": {},
     "output_type": "execute_result"
    }
   ],
   "source": [
    "z = scaler.transform(x)\n",
    "z, z.mean(), z.std()     # now the transformed mean =0 & std =1 "
   ]
  },
  {
   "cell_type": "code",
   "execution_count": 48,
   "metadata": {},
   "outputs": [],
   "source": [
    "# MinMax scalar\n",
    "from sklearn.preprocessing import MinMaxScaler\n",
    "\n",
    "feature_range = (-10,10)           # Data should be rescaled b/w -10 & 10\n",
    "min_max_scaler = MinMaxScaler(feature_range, clip = False)    # outside range is allowed\n",
    "\n"
   ]
  },
  {
   "cell_type": "code",
   "execution_count": 51,
   "metadata": {},
   "outputs": [
    {
     "name": "stdout",
     "output_type": "stream",
     "text": [
      "(10, 1)\n"
     ]
    }
   ],
   "source": [
    "x = np.array([0,0,0,0,1,1,1,2,2,2])[:, None]   # added an axis to be a column vector\n",
    "print(x.shape)  # 10 x 1 - a column vector\n",
    "\n",
    "new = min_max_scaler.fit(x) "
   ]
  },
  {
   "cell_type": "code",
   "execution_count": 54,
   "metadata": {},
   "outputs": [
    {
     "data": {
      "text/plain": [
       "MinMaxScaler(feature_range=(-10, 10))"
      ]
     },
     "execution_count": 54,
     "metadata": {},
     "output_type": "execute_result"
    }
   ],
   "source": [
    "new"
   ]
  },
  {
   "cell_type": "code",
   "execution_count": 55,
   "metadata": {},
   "outputs": [
    {
     "data": {
      "text/plain": [
       "array([-110.,  -10.,  -10.,  -10.,    0.,    0.,    0.,   10.,   10.,\n",
       "         10.])"
      ]
     },
     "execution_count": 55,
     "metadata": {},
     "output_type": "execute_result"
    }
   ],
   "source": [
    "x = np.array([-10,0,0,0,1,1,1,2,2,2])[:, None]  # making a column vector\n",
    "min_max_scaler.transform(x).squeeze()  # As we have a clip = False, so we are not clipping the outside values and adjust them accordingly, \n",
    "                                        # otherwise, outside values will be tuned down to max or min values which is -10 and 10.\n",
    "\n",
    "                                        # squeeze here use for presentation. without it, it just shows as a column"
   ]
  },
  {
   "cell_type": "code",
   "execution_count": 62,
   "metadata": {},
   "outputs": [
    {
     "data": {
      "text/plain": [
       "10"
      ]
     },
     "execution_count": 62,
     "metadata": {},
     "output_type": "execute_result"
    }
   ],
   "source": [
    "x = np.array([0,0,0,0,1,1,1,2,2,2])[:, None]\n",
    "x.shape[0]"
   ]
  },
  {
   "cell_type": "code",
   "execution_count": 63,
   "metadata": {},
   "outputs": [
    {
     "data": {
      "text/plain": [
       "2"
      ]
     },
     "execution_count": 63,
     "metadata": {},
     "output_type": "execute_result"
    }
   ],
   "source": [
    "len(x.shape)"
   ]
  },
  {
   "cell_type": "code",
   "execution_count": 64,
   "metadata": {},
   "outputs": [
    {
     "data": {
      "text/plain": [
       "array([7, 4, 4, 0, 1, 5])"
      ]
     },
     "execution_count": 64,
     "metadata": {},
     "output_type": "execute_result"
    }
   ],
   "source": [
    "x1 = np.random.randint(10, size=6)\n",
    "x1"
   ]
  },
  {
   "cell_type": "code",
   "execution_count": 65,
   "metadata": {},
   "outputs": [
    {
     "data": {
      "text/plain": [
       "True"
      ]
     },
     "execution_count": 65,
     "metadata": {},
     "output_type": "execute_result"
    }
   ],
   "source": [
    "x1.any()"
   ]
  },
  {
   "cell_type": "markdown",
   "metadata": {},
   "source": [
    "## Week 3  (Numpy for Data Analysis)\n"
   ]
  },
  {
   "cell_type": "code",
   "execution_count": 1,
   "metadata": {},
   "outputs": [
    {
     "name": "stdout",
     "output_type": "stream",
     "text": [
      "dict_keys(['data', 'target', 'feature_names', 'DESCR', 'filename'])\n"
     ]
    }
   ],
   "source": [
    "# Analyze the data \n",
    "from sklearn.datasets import load_boston\n",
    "\n",
    "boston = load_boston()\n",
    "print(boston.keys())"
   ]
  },
  {
   "cell_type": "code",
   "execution_count": null,
   "metadata": {},
   "outputs": [],
   "source": []
  }
 ],
 "metadata": {
  "kernelspec": {
   "display_name": "Python 3.9.7 ('base')",
   "language": "python",
   "name": "python3"
  },
  "language_info": {
   "codemirror_mode": {
    "name": "ipython",
    "version": 3
   },
   "file_extension": ".py",
   "mimetype": "text/x-python",
   "name": "python",
   "nbconvert_exporter": "python",
   "pygments_lexer": "ipython3",
   "version": "3.9.7"
  },
  "orig_nbformat": 4,
  "vscode": {
   "interpreter": {
    "hash": "679ca3d7e10d4fea823e60e28cb6f57bfb034a2481868839314afba603aaea83"
   }
  }
 },
 "nbformat": 4,
 "nbformat_minor": 2
}
